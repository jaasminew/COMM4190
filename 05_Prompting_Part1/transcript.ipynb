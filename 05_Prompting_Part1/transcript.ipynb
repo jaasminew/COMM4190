{
 "cells": [
  {
   "cell_type": "markdown",
   "id": "be9b848c-8dc7-4320-86ce-ba2aabc3fe4d",
   "metadata": {},
   "source": [
    "A: So will Gen AI make professors unnecessary in the next five years, what do you guys think? \n",
    "B: I don't think it would make them completely unnecessary, but I think they're definitely on the rise for usefulness. I think I use chat GPT to clarify my understanding of things. \n",
    "C: I agree, I think that chat GPT is really good at teaching you stuff. Instead of going to office hours. Yeah, I feel like it can assist you with what happens on your own channel, but you still need professors to teach you this kind of stuff. Like technically AI can teach us, but I feel like, I don't know, just like the whole concept of school and having a professor in front of you and having a lecture, I feel like it's different from AI teaching you stuff. \n",
    "A: I think there's a reason why we choose to look, for example, at YouTube videos than just reading articles online. There should be something different when people are actively interacting with each other. \n",
    "C: Yeah, I agree. I think having a professor is kind of essential for establishing the foundation that AI can definitely use to clarify. But for laying that groundwork, I think professors are still essential. \n",
    "A: Also, I think there is a level of trustworthiness of AI, if people will fully trust the information AI has provided. I can maybe see it on a course. \n",
    "B: In tradition, I feel like people are used to having lectures. But yeah, it's just like people are used to this format of learning, and I feel like even if it were more beneficial to come in and take it over, it's something that would take a while for society to get used to. \n",
    "C: Exactly. This professor thing has already been established. Well, this is how it's been for years. It's such a huge change. The world is changing. And that's usually from facial or cursive reviews from the other person. I feel like it's part of the culture. I think it's about what you're talking about. I feel like professors can leverage AI to make their jobs easier. I feel like teaching AI is a resource. I don't know. If AI gets really advanced, I feel like just the professors, they're more like a tool for teaching what the lecture that AI made, saying it out loud, and communicating that. \n",
    "A: Yeah, of course. I think definitely there are more considerations involved when you're teaching something on-site to your student. Because you have to think about what is the best way to talk about it, to impart knowledge to your student. So there's definitely more considerations needed, rather than students just using a search engine to look for whatever they want to know. \n",
    "C: I feel like they also know what to clarify. Obviously, the professor is the one writing the exam. So they're going to be the ones who are best preparing for that high school. It's nice to be able to raise your hand, ask a question, and then get an explanation about that specific part. And using things that are specific to the course. Sometimes travel to Poland and stuff that I've never seen before in my life. And obviously, the professor knows what kind of knowledge base the students already have. \n",
    "A: Yeah, true. But I'm thinking, what if the large language models are trained on thousands of professors' data, and learn how they're teaching these two students? It's kind of likely that they'll become more human-like. You never know how JNI is going to teach. Probably not just in a conversation box. Might be in other methods, such as videos, or even interactive online meetings, or something. All right."
   ]
  },
  {
   "cell_type": "code",
   "execution_count": null,
   "id": "888911ad-ac9b-42a9-b158-41fc02bbead7",
   "metadata": {},
   "outputs": [],
   "source": []
  },
  {
   "cell_type": "code",
   "execution_count": null,
   "id": "c7528860-7ba3-4d26-9608-520baddc7306",
   "metadata": {},
   "outputs": [],
   "source": []
  }
 ],
 "metadata": {
  "kernelspec": {
   "display_name": "Python 3-12 (COMM4190)",
   "language": "python",
   "name": "python3-12_comm4190"
  },
  "language_info": {
   "codemirror_mode": {
    "name": "ipython",
    "version": 3
   },
   "file_extension": ".py",
   "mimetype": "text/x-python",
   "name": "python",
   "nbconvert_exporter": "python",
   "pygments_lexer": "ipython3",
   "version": "3.12.8"
  }
 },
 "nbformat": 4,
 "nbformat_minor": 5
}
