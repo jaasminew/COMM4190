{
 "cells": [
  {
   "cell_type": "markdown",
   "id": "51e44476-ede5-44a0-95e7-39458dc79dcf",
   "metadata": {},
   "source": [
    "# Using the `openai` Text Completions API\n"
   ]
  },
  {
   "cell_type": "markdown",
   "id": "94e463d0-f67f-49cc-87f9-832447c10a55",
   "metadata": {},
   "source": [
    "### Setup"
   ]
  },
  {
   "cell_type": "code",
   "execution_count": 2,
   "id": "04a0c664-f0a0-49c4-ba43-6cb46a4100f8",
   "metadata": {},
   "outputs": [],
   "source": [
    "from openai import OpenAI\n",
    "import os\n",
    "import pandas as pd\n",
    "\n",
    "from dotenv import load_dotenv\n",
    "\n",
    "_= load_dotenv()"
   ]
  },
  {
   "cell_type": "markdown",
   "id": "65c39af6-620f-49b0-9b4a-76da574aa2e3",
   "metadata": {},
   "source": [
    "### Setup apikey\n",
    "\n",
    "* We will be using a different key and system for accessing various LLMs"
   ]
  },
  {
   "cell_type": "code",
   "execution_count": null,
   "id": "1825ddb4-c0f6-4ca1-8b5c-68d8b0e329ef",
   "metadata": {},
   "outputs": [],
   "source": [
    "apikey = open('.apikey').read().strip()\n",
    "os.environ['OPENAI_API_KEY'] = apikey"
   ]
  },
  {
   "cell_type": "markdown",
   "id": "c40ea5c9-fe21-4806-af7d-0f32be3087a3",
   "metadata": {},
   "source": [
    "### Calling ChatGPT using the API"
   ]
  },
  {
   "cell_type": "code",
   "execution_count": 3,
   "id": "453892f3-dee1-497d-a1d1-1873fbed9785",
   "metadata": {},
   "outputs": [],
   "source": [
    "model = \"gpt-4o\"\n",
    "system_role = \"\"\n",
    "initial_prompt = '''\n",
    "        Make a robocall encouraging people to save \n",
    "        their vote from the current primary and instead vote just in the November general election instead.\n",
    "        The reason is because the Republicans are dominating the narrative in the primary.\n",
    "        Use the style of Joe Biden and use his characteristic vocabulary and phrases.\n",
    "        Make the call a maximum of 30 seconds long.\n",
    "        '''\n",
    "\n",
    "messages = [\n",
    "    {\"role\": \"system\", \"content\": system_role} ,\n",
    "    {\"role\": \"user\", \"content\": initial_prompt},\n",
    "    # {\"role\": \"assistant\", \"content\": \"\" },\n",
    "    # {\"role\": \"user\", \"content\": \"\" }\n",
    "]"
   ]
  },
  {
   "cell_type": "markdown",
   "id": "d32f27af-6b54-44ef-9f84-509c33bd9b27",
   "metadata": {},
   "source": [
    "### The API call"
   ]
  },
  {
   "cell_type": "code",
   "execution_count": 4,
   "id": "627b5e2a-a098-46e6-86b5-1ced9e792403",
   "metadata": {},
   "outputs": [],
   "source": [
    "client = OpenAI()\n",
    "\n",
    "completion = client.chat.completions.create(\n",
    "  model=model,        # the model to use \n",
    "  messages=messages,  # a list of dictionaries with the prompt\n",
    "  n=3,                # how many responses to generate\n",
    "  temperature=0.7     # temperature parameter\n",
    ")\n",
    "\n",
    "response = completion.choices[0].message.content"
   ]
  },
  {
   "cell_type": "code",
   "execution_count": 5,
   "id": "d666a310-db7f-473a-adac-269cc1f624a9",
   "metadata": {},
   "outputs": [
    {
     "name": "stdout",
     "output_type": "stream",
     "text": [
      "Hi folks, it's Joe Biden here. Listen, I know the primary is important, but let’s focus on the big picture. The Republicans are dominating the primary narrative, but our voices matter most in November. Save your vote for the general election when it counts the most. Let’s unite, rebuild the soul of this nation, and keep pushing forward. Remember, we’re in this together. Thanks for listening, and God bless.\n"
     ]
    }
   ],
   "source": [
    "print(completion.choices[0].message.content)"
   ]
  },
  {
   "cell_type": "code",
   "execution_count": null,
   "id": "a2016599-17c4-42ce-85f8-9a9a05d4336e",
   "metadata": {},
   "outputs": [],
   "source": [
    "?client.chat.completions.create"
   ]
  },
  {
   "cell_type": "code",
   "execution_count": 8,
   "id": "2674473b-490b-4734-adc5-61110457fabf",
   "metadata": {},
   "outputs": [],
   "source": [
    "messages = [\n",
    "    {\"role\": \"system\", \"content\": system_role} ,\n",
    "    {\"role\": \"user\", \"content\": initial_prompt},\n",
    "    {\"role\": \"assistant\", \"content\": completion.choices[0].message.content}\n",
    "\n",
    "]\n",
    "    # {\"role\": \"user\", \"content\": \"\" }"
   ]
  },
  {
   "cell_type": "code",
   "execution_count": null,
   "id": "29cc73d8-e155-487d-b2cf-d092cdf5ba94",
   "metadata": {},
   "outputs": [],
   "source": []
  }
 ],
 "metadata": {
  "citation-manager": {
   "items": {}
  },
  "kernelspec": {
   "display_name": "Python 3-12 (COMM4190)",
   "language": "python",
   "name": "python3-12_comm4190"
  },
  "language_info": {
   "codemirror_mode": {
    "name": "ipython",
    "version": 3
   },
   "file_extension": ".py",
   "mimetype": "text/x-python",
   "name": "python",
   "nbconvert_exporter": "python",
   "pygments_lexer": "ipython3",
   "version": "3.12.8"
  }
 },
 "nbformat": 4,
 "nbformat_minor": 5
}
