{
 "cells": [
  {
   "cell_type": "markdown",
   "id": "27187f57-baf7-48ca-8718-30e9d6dbe02e",
   "metadata": {},
   "source": [
    "# Creating diagrams in notebooks using `mermaid.js`"
   ]
  },
  {
   "cell_type": "markdown",
   "id": "ace5f79c-81e9-4f9a-b4c2-926bba43744a",
   "metadata": {},
   "source": [
    "* https://mermaid.js.org/ecosystem/tutorials.html\n",
    "* https://quarto.org/docs/authoring/diagrams.html"
   ]
  },
  {
   "cell_type": "markdown",
   "id": "ac5b0425-70f7-4aae-8b93-521db362303d",
   "metadata": {},
   "source": [
    "```mermaid\n",
    "sequenceDiagram\n",
    "    Actor A\n",
    "    Actor B\n",
    "    A->>B: Hello, how are you?\n",
    "    B->>B: (Not feeling<br/>so great... but do I want<br/>to be negative?)\n",
    "    B->>A: Great!\n",
    "    A->>A: (Really?)\n",
    "    A->>B: Oh good! \n",
    "    B->>B: (Ugh.. maybe I should<br/>have said \"Not so good\")\n",
    "    A->>B: I was worried you might be stressed out\n",
    "    B->>B: (Do I want to go there?)\n",
    "    A->>B: because of the project deadline...\n",
    "    \n",
    "```"
   ]
  },
  {
   "cell_type": "code",
   "execution_count": null,
   "id": "822efc49-3501-4e7d-b82a-36e1b9afc181",
   "metadata": {},
   "outputs": [],
   "source": []
  },
  {
   "cell_type": "markdown",
   "id": "37d35d26-c83b-4868-85cc-08566b8ee230",
   "metadata": {},
   "source": [
    "```mermaid\n",
    "sequenceDiagram\n",
    "    Actor Alex\n",
    "    Actor Jordan\n",
    "\n",
    "    Alex->>Jordan: Hey, I’m Alex. \n",
    "    Jordan->>Alex: Hey Alex, I’m Jordan.\n",
    "    Alex->>Jordan: What made you interested in this class?\n",
    "    Jordan-->>Alex: I’m fascinated by how AI changes communication.\n",
    "    Alex->>Jordan: That’s cool! \n",
    "    Jordan-->>Alex: Yeah I think so! What about you?\n",
    "    Alex->>Jordan: I’m interested in AI for writing assistance and storytelling.\n",
    "    Jordan-->>Alex: Same! I also want to explore AI ethics and bias in communication.\n",
    "\n",
    "\n",
    "```"
   ]
  },
  {
   "cell_type": "code",
   "execution_count": null,
   "id": "c9068629-a922-478b-9a04-f728c15337f8",
   "metadata": {},
   "outputs": [],
   "source": []
  }
 ],
 "metadata": {
  "kernelspec": {
   "display_name": "Python 3-12 (COMM4190)",
   "language": "python",
   "name": "python3-12_comm4190"
  },
  "language_info": {
   "codemirror_mode": {
    "name": "ipython",
    "version": 3
   },
   "file_extension": ".py",
   "mimetype": "text/x-python",
   "name": "python",
   "nbconvert_exporter": "python",
   "pygments_lexer": "ipython3",
   "version": "3.12.8"
  }
 },
 "nbformat": 4,
 "nbformat_minor": 5
}
