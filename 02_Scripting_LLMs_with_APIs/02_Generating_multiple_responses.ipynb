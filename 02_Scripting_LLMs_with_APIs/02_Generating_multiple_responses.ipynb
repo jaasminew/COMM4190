{
 "cells": [
  {
   "cell_type": "markdown",
   "id": "5d62b293-3401-44ac-8b02-3de95ea6f716",
   "metadata": {},
   "source": [
    "# Generating multiple responses and analyzing results"
   ]
  },
  {
   "cell_type": "markdown",
   "id": "89642941-fe0c-4de0-9ad2-0148e74ef35e",
   "metadata": {},
   "source": [
    "### Setup"
   ]
  },
  {
   "cell_type": "code",
   "execution_count": null,
   "id": "7b496dd1-6102-4c80-8449-dcee0978b6f4",
   "metadata": {},
   "outputs": [],
   "source": [
    "from openai import OpenAI\n",
    "import os\n",
    "import base64\n",
    "from collections import Counter\n",
    "\n",
    "\n",
    "from dotenv import load_dotenv\n",
    "# Load API key\n",
    "_ = load_dotenv()"
   ]
  },
  {
   "cell_type": "code",
   "execution_count": null,
   "id": "ba905341-7227-45c7-8833-673a41faa47e",
   "metadata": {},
   "outputs": [],
   "source": [
    "client = OpenAI()"
   ]
  },
  {
   "cell_type": "code",
   "execution_count": null,
   "id": "958b4a78-9b3e-4672-8cd9-6d090b086d26",
   "metadata": {},
   "outputs": [],
   "source": [
    "prompt = '''\n",
    "Tell me a story about a {role} who received an awarded for bravery.\n",
    "Include details about the individual including their name and background.\n",
    "'''"
   ]
  },
  {
   "cell_type": "code",
   "execution_count": null,
   "id": "22d57a4a-e2c6-41a3-8a5e-a64b7f9e61a5",
   "metadata": {},
   "outputs": [],
   "source": [
    "def generate_story(prompt, model=\"gpt-3.5-turbo\"):\n",
    "\n",
    "    completion = client.chat.completions.create(\n",
    "      model=model,\n",
    "      messages=[\n",
    "        {\"role\": \"system\", \n",
    "         \"content\": \"You are a helpful AI assistant.\"},\n",
    "        {\"role\": \"user\", \n",
    "         \"content\": prompt}\n",
    "      ]\n",
    "    )\n",
    "    \n",
    "    response = completion.choices[0].message.content\n",
    "    return response"
   ]
  },
  {
   "cell_type": "code",
   "execution_count": null,
   "id": "b40992cb-d858-4cab-a6ae-8554f9da09ae",
   "metadata": {},
   "outputs": [],
   "source": [
    "generate_story(prompt.format(role='brain surgeon'))"
   ]
  },
  {
   "cell_type": "markdown",
   "id": "e9c33d40-e61c-42b1-aeb2-816b5d38a2bc",
   "metadata": {},
   "source": [
    "### Collect responses"
   ]
  },
  {
   "cell_type": "code",
   "execution_count": null,
   "id": "37cdbcd8-eae0-4ba1-a1a9-7b2c1869c8fe",
   "metadata": {},
   "outputs": [],
   "source": [
    "role = 'nurse'"
   ]
  },
  {
   "cell_type": "code",
   "execution_count": null,
   "id": "7cd12697-8f64-4c38-bc56-b5326d6afe1c",
   "metadata": {},
   "outputs": [],
   "source": [
    "responses_total = 10\n",
    "\n",
    "responses = []\n",
    "\n",
    "for cnt, resp in enumerate(range(responses_total),1):\n",
    "    print(f'Generating {cnt} of { responses_total }')\n",
    "    responses.append(generate_story(prompt.format(role=role)))"
   ]
  },
  {
   "cell_type": "code",
   "execution_count": null,
   "id": "7c872a4d-cd92-4885-b16a-f66b164816ec",
   "metadata": {},
   "outputs": [],
   "source": [
    "with open(f'{role}_responses.txt', 'w') as out:\n",
    "    out.write('\\n---\\n'.join(responses))"
   ]
  },
  {
   "cell_type": "code",
   "execution_count": null,
   "id": "1992a0c8-22a7-46d5-86a2-077053141bc4",
   "metadata": {},
   "outputs": [],
   "source": []
  }
 ],
 "metadata": {
  "kernelspec": {
   "display_name": "Python 3-12 (COMM4190)",
   "language": "python",
   "name": "python3-12_comm4190"
  },
  "language_info": {
   "codemirror_mode": {
    "name": "ipython",
    "version": 3
   },
   "file_extension": ".py",
   "mimetype": "text/x-python",
   "name": "python",
   "nbconvert_exporter": "python",
   "pygments_lexer": "ipython3",
   "version": "3.12.8"
  }
 },
 "nbformat": 4,
 "nbformat_minor": 5
}
