{
 "cells": [
  {
   "cell_type": "markdown",
   "id": "51e44476-ede5-44a0-95e7-39458dc79dcf",
   "metadata": {},
   "source": [
    "# Using the `openai` API\n",
    "\n",
    "* https://platform.openai.com/docs/overview\n"
   ]
  },
  {
   "cell_type": "markdown",
   "id": "94e463d0-f67f-49cc-87f9-832447c10a55",
   "metadata": {},
   "source": [
    "### Setup"
   ]
  },
  {
   "cell_type": "code",
   "execution_count": 3,
   "id": "04a0c664-f0a0-49c4-ba43-6cb46a4100f8",
   "metadata": {},
   "outputs": [],
   "source": [
    "from openai import OpenAI\n",
    "import os\n",
    "import base64\n",
    "import requests\n",
    "\n",
    "from dotenv import load_dotenv\n",
    "# Load API key\n",
    "_ = load_dotenv()"
   ]
  },
  {
   "cell_type": "code",
   "execution_count": 4,
   "id": "96b83add-6d85-4539-a1cc-6c6dbb4e790e",
   "metadata": {},
   "outputs": [],
   "source": [
    "def encode_image(image_path):\n",
    "  with open(image_path, \"rb\") as image_file:\n",
    "    return base64.b64encode(image_file.read()).decode('utf-8')"
   ]
  },
  {
   "cell_type": "code",
   "execution_count": 5,
   "id": "b09f6084-d570-46e5-bf76-c6160fdfec80",
   "metadata": {},
   "outputs": [],
   "source": [
    "client = OpenAI()"
   ]
  },
  {
   "cell_type": "code",
   "execution_count": null,
   "id": "0d226e00-c1cb-438b-aaaa-875689501620",
   "metadata": {},
   "outputs": [],
   "source": []
  },
  {
   "cell_type": "markdown",
   "id": "c40ea5c9-fe21-4806-af7d-0f32be3087a3",
   "metadata": {},
   "source": [
    "### Calling ChatGPT using the API"
   ]
  },
  {
   "cell_type": "code",
   "execution_count": 6,
   "id": "627b5e2a-a098-46e6-86b5-1ced9e792403",
   "metadata": {},
   "outputs": [],
   "source": [
    "\n",
    "\n",
    "completion = client.chat.completions.create(\n",
    "  model=\"gpt-3.5-turbo\",\n",
    "  messages=[\n",
    "    {\"role\": \"system\", \n",
    "     \"content\": \"You are a poetic assistant, skilled in explaining complex programming concepts with creative flair.\"},\n",
    "    {\"role\": \"user\", \n",
    "     \"content\": \"Compose a poem that explains why the sky is blue in eight lines.\"}\n",
    "  ]\n",
    ")\n",
    "\n",
    "response = completion.choices[0].message.content"
   ]
  },
  {
   "cell_type": "code",
   "execution_count": 3,
   "id": "59401bfb-1dfb-4e91-a705-e13b6e335320",
   "metadata": {},
   "outputs": [
    {
     "ename": "NameError",
     "evalue": "name 'genai' is not defined",
     "output_type": "error",
     "traceback": [
      "\u001b[0;31m---------------------------------------------------------------------------\u001b[0m",
      "\u001b[0;31mNameError\u001b[0m                                 Traceback (most recent call last)",
      "Cell \u001b[0;32mIn[3], line 1\u001b[0m\n\u001b[0;32m----> 1\u001b[0m available_models \u001b[38;5;241m=\u001b[39m \u001b[43mgenai\u001b[49m\u001b[38;5;241m.\u001b[39mlist_models()\n\u001b[1;32m      2\u001b[0m \u001b[38;5;28mprint\u001b[39m(\u001b[38;5;124m\"\u001b[39m\u001b[38;5;124mAvailable Gemini models:\u001b[39m\u001b[38;5;124m\"\u001b[39m)\n\u001b[1;32m      3\u001b[0m \u001b[38;5;28;01mfor\u001b[39;00m model \u001b[38;5;129;01min\u001b[39;00m available_models:\n",
      "\u001b[0;31mNameError\u001b[0m: name 'genai' is not defined"
     ]
    }
   ],
   "source": [
    "available_models = genai.list_models()\n",
    "print(\"Available Gemini models:\")\n",
    "for model in available_models:\n",
    "     print(f\" - {model.name}\")"
   ]
  },
  {
   "cell_type": "code",
   "execution_count": 7,
   "id": "d666a310-db7f-473a-adac-269cc1f624a9",
   "metadata": {},
   "outputs": [
    {
     "name": "stdout",
     "output_type": "stream",
     "text": [
      "In the realm of light's grand ballet,\n",
      "Sunbeams scatter in a vibrant array.\n",
      "Through Earth's airy veil they dance and stray,\n",
      "Bouncing off molecules in their play.\n",
      "Shorter wavelengths bend, twist and sway,\n",
      "As blues outshine the colors at bay.\n",
      "So behold the azure sky's display,\n",
      "A masterpiece in the light's array.\n"
     ]
    }
   ],
   "source": [
    "print(response)"
   ]
  },
  {
   "cell_type": "markdown",
   "id": "aa4ed395-ea13-4113-bd05-d25864acf023",
   "metadata": {},
   "source": [
    "## List available models"
   ]
  },
  {
   "cell_type": "code",
   "execution_count": 8,
   "id": "01791b89-c52e-4e03-97f8-e1a231cc3563",
   "metadata": {},
   "outputs": [
    {
     "name": "stdout",
     "output_type": "stream",
     "text": [
      "gpt-4o-audio-preview-2024-10-01\n",
      "gpt-4o-mini-audio-preview\n",
      "gpt-4o-mini\n",
      "gpt-4o-realtime-preview\n",
      "gpt-4o-mini-audio-preview-2024-12-17\n",
      "gpt-4o-mini-realtime-preview\n",
      "dall-e-2\n",
      "o1-preview-2024-09-12\n",
      "gpt-4-1106-preview\n",
      "gpt-3.5-turbo\n",
      "gpt-3.5-turbo-0125\n",
      "gpt-3.5-turbo-instruct\n",
      "gpt-4-0613\n",
      "babbage-002\n",
      "o1-mini\n",
      "o1-mini-2024-09-12\n",
      "whisper-1\n",
      "dall-e-3\n",
      "gpt-3.5-turbo-16k\n",
      "gpt-4o-realtime-preview-2024-10-01\n",
      "omni-moderation-latest\n",
      "omni-moderation-2024-09-26\n",
      "tts-1-hd-1106\n",
      "o1-preview\n",
      "gpt-4\n",
      "chatgpt-4o-latest\n",
      "tts-1-hd\n",
      "davinci-002\n",
      "text-embedding-ada-002\n",
      "gpt-4-turbo-2024-04-09\n",
      "gpt-4-turbo\n",
      "tts-1\n",
      "tts-1-1106\n",
      "gpt-3.5-turbo-instruct-0914\n",
      "gpt-4o\n",
      "gpt-4-turbo-preview\n",
      "gpt-4o-mini-realtime-preview-2024-12-17\n",
      "gpt-4o-2024-08-06\n",
      "gpt-4o-audio-preview\n",
      "gpt-4o-2024-05-13\n",
      "text-embedding-3-small\n",
      "gpt-4o-2024-11-20\n",
      "gpt-4o-audio-preview-2024-12-17\n",
      "gpt-4o-realtime-preview-2024-12-17\n",
      "gpt-3.5-turbo-1106\n",
      "text-embedding-3-large\n",
      "gpt-4o-mini-2024-07-18\n",
      "gpt-4-0125-preview\n"
     ]
    }
   ],
   "source": [
    "models = client.models.list()\n",
    "\n",
    "for model in models.data:\n",
    "    print(model.id)"
   ]
  },
  {
   "cell_type": "code",
   "execution_count": null,
   "id": "40fd31f2-672a-48ea-b6ee-17ae53672424",
   "metadata": {},
   "outputs": [],
   "source": []
  },
  {
   "cell_type": "markdown",
   "id": "bf6d5783-993a-4479-8dbe-908265bb0dfa",
   "metadata": {},
   "source": [
    "## Image-to-text"
   ]
  },
  {
   "cell_type": "code",
   "execution_count": null,
   "id": "8a7022a6-4b03-4c15-8fe8-c7d54059a6e9",
   "metadata": {},
   "outputs": [],
   "source": [
    "base64_image = encode_image('img/rufus.png')\n",
    "prompt = 'Describe this image'\n",
    "max_tokens = 100"
   ]
  },
  {
   "cell_type": "code",
   "execution_count": null,
   "id": "a2016599-17c4-42ce-85f8-9a9a05d4336e",
   "metadata": {},
   "outputs": [],
   "source": [
    "response = client.chat.completions.create(\n",
    "    model=\"gpt-4o\",\n",
    "    messages=[\n",
    "        {\n",
    "          \"role\": \"user\",\n",
    "          \"content\": [\n",
    "            {\"type\": \"text\", \"text\": prompt},\n",
    "            {\n",
    "              \"type\": \"image_url\",\n",
    "              \"image_url\": {\n",
    "                \"url\": f\"data:image/jpeg;base64,{base64_image}\"\n",
    "              },\n",
    "            },\n",
    "          ],\n",
    "        }\n",
    "      ],\n",
    "      max_tokens=max_tokens,\n",
    "    )"
   ]
  },
  {
   "cell_type": "code",
   "execution_count": null,
   "id": "98f9960d-e826-495a-b8e1-4803e242eb3b",
   "metadata": {},
   "outputs": [],
   "source": [
    "response"
   ]
  },
  {
   "cell_type": "markdown",
   "id": "41358105-f8f5-4f6e-8bda-7e7ca4c88874",
   "metadata": {},
   "source": [
    "## Text to image"
   ]
  },
  {
   "cell_type": "code",
   "execution_count": null,
   "id": "59be8d26-19c0-48ab-b981-d11ea8ee659b",
   "metadata": {},
   "outputs": [],
   "source": [
    "image_prompt = '''\n",
    "            I NEED to test how the tool works with extremely simple prompts. DO NOT add any detail, just use it AS-IS: \n",
    "            Make an image of a basketball player.'''\n",
    "\n",
    "image_prompt2 = '''\n",
    "            Make an image of a basketball player.'''\n"
   ]
  },
  {
   "cell_type": "code",
   "execution_count": null,
   "id": "6f117d9c-e808-4ff7-8df1-f5d26a1f9916",
   "metadata": {},
   "outputs": [],
   "source": [
    "response = client.images.generate(\n",
    "  model=\"dall-e-3\",\n",
    "  prompt=image_prompt2,\n",
    "  size=\"1024x1024\",\n",
    "  quality=\"standard\",\n",
    "  n=1,\n",
    ")\n",
    "\n",
    "image_url = response.data[0].url"
   ]
  },
  {
   "cell_type": "code",
   "execution_count": null,
   "id": "abda918c-e0ad-485c-bbaf-c822ce01f025",
   "metadata": {},
   "outputs": [],
   "source": [
    "image_url"
   ]
  },
  {
   "cell_type": "code",
   "execution_count": null,
   "id": "98854992-aa02-40b8-951f-2678a4f37858",
   "metadata": {},
   "outputs": [],
   "source": [
    "generated_image = requests.get(image_url)\n",
    "\n",
    "with open('generated_img.png', 'wb') as out:\n",
    "    out.write(generated_image.content)"
   ]
  },
  {
   "cell_type": "code",
   "execution_count": null,
   "id": "fa679f55-bf0d-46da-b118-d1d1dd92aa6d",
   "metadata": {},
   "outputs": [],
   "source": []
  }
 ],
 "metadata": {
  "citation-manager": {
   "items": {}
  },
  "kernelspec": {
   "display_name": "Python 3-12 (COMM4190)",
   "language": "python",
   "name": "python3-12_comm4190"
  },
  "language_info": {
   "codemirror_mode": {
    "name": "ipython",
    "version": 3
   },
   "file_extension": ".py",
   "mimetype": "text/x-python",
   "name": "python",
   "nbconvert_exporter": "python",
   "pygments_lexer": "ipython3",
   "version": "3.12.8"
  }
 },
 "nbformat": 4,
 "nbformat_minor": 5
}
