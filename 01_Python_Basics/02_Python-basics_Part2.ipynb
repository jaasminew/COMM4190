{
 "cells": [
  {
   "cell_type": "markdown",
   "metadata": {
    "editable": true,
    "slideshow": {
     "slide_type": ""
    },
    "tags": []
   },
   "source": [
    "<div>\n",
    "<img src=\"img/python_logo.png\" width=\"100px\" style=\"float: left; \"/> \n",
    "<div style=\"font-size: 40px; padding-top: 20px\">Python basics</div>   \n",
    "<div style=\"font-size: 30px; padding-top: 20px\">Part 2 - Lists</div>   \n",
    "</div>\n",
    "\n",
    " \n",
    "<h2 style=\"clear: both\">COMM4190 Spring 2025</h2>\n",
    "\n",
    "<h3>Instructor: Matt O'Donnell (mbod@asc.upenn.edu)</h3>\n",
    "\n",
    "-----\n",
    "\n",
    "<div class=\"alert alert-info\">\n",
    "    \n",
    "## Overview\n",
    "\n",
    "* This notebook will cover:\n",
    "    1. __`list` OBJECTS__ - are **ordered sequences** of objects. \n",
    "        * Lists are a key way to organize data so that items can be accessed and processed in a sequence (i.e. a series of repeated steps on each item)\n",
    "        * An example is a `list` of `str` objects where each string is a 'word' (*token*) in a text.\n",
    "    2. __`list` indexing and slicing__ - the position of a data item in a list is called it's __INDEX__.\n",
    "        * The first item in a list has an index of `0`\n",
    "        * _Indexing_ is one way you can retrieve a single item in a list\n",
    "        * _Slicing_ allows you to retrieve a contiguous sequence of items from a list\n",
    "    3. __`list` specific functions__ - just as we saw with `str` objects, `list` objects have functions that are specific to working with ordered sequences of data\n",
    "    4. __Working with lists of string__ - which serve as the core data structure for representing and analyzing a text.\n",
    "    \n",
    "\n",
    "</div>\n",
    "    \n",
    "------"
   ]
  },
  {
   "cell_type": "markdown",
   "metadata": {},
   "source": [
    "# 1. The `list` object in Python\n",
    "\n",
    "* A __LIST__ in Python is __AN ORDERED SEQUENCE OF OBJECTS__\n",
    "\n",
    "\n",
    "* To create a `list` object you use:\n",
    "    1. An open square bracket `[` to mark the beginning of the `list`\n",
    "    2. A closed square bracket `]` to mark the end of the `list`\n",
    "    3. A comma `,` to separate each _item_ in the list\n",
    "    \n",
    "    \n",
    "* For example, to define a `list` object with three string objects as items:\n",
    "    1. `A`\n",
    "    2. `b`\n",
    "    3. `C`\n",
    "    \n",
    "  you would enter:"
   ]
  },
  {
   "cell_type": "code",
   "execution_count": null,
   "metadata": {},
   "outputs": [],
   "source": [
    "['A','b','C']"
   ]
  },
  {
   "cell_type": "markdown",
   "metadata": {},
   "source": [
    "* As we saw working with `string` objects to make them useful for larger tasks we need to use a _named pointer_ as a reference to the object"
   ]
  },
  {
   "cell_type": "code",
   "execution_count": null,
   "metadata": {},
   "outputs": [],
   "source": [
    "my_list = ['A','b','C']"
   ]
  },
  {
   "cell_type": "markdown",
   "metadata": {},
   "source": [
    "* In a notebook entering the pointer in a code cell will produce a representation of the object referenced by the pointer."
   ]
  },
  {
   "cell_type": "code",
   "execution_count": null,
   "metadata": {},
   "outputs": [],
   "source": [
    "my_list"
   ]
  },
  {
   "cell_type": "markdown",
   "metadata": {},
   "source": [
    "* You can also use the _generic function_ `print()` to display the data in a list object."
   ]
  },
  {
   "cell_type": "code",
   "execution_count": null,
   "metadata": {},
   "outputs": [],
   "source": [
    "# display the data in the list object\n",
    "\n",
    "print(my_list)"
   ]
  },
  {
   "cell_type": "code",
   "execution_count": null,
   "metadata": {},
   "outputs": [],
   "source": [
    "# what is the type of the object?\n",
    "\n",
    "type(my_list)"
   ]
  },
  {
   "cell_type": "code",
   "execution_count": null,
   "metadata": {},
   "outputs": [],
   "source": [
    "# how big is the list obj, e.g. how many items?\n",
    "\n",
    "len(my_list)"
   ]
  },
  {
   "cell_type": "markdown",
   "metadata": {},
   "source": [
    "## 2. Indexing and slicing `list` objects\n",
    "\n",
    "\n",
    "### Indexing `list` objects\n",
    "\n",
    "* Items in a list have an __INDEX__ that allows them to be retrieved. \n",
    "\n",
    "\n",
    "* The syntax for indexing is:\n",
    "\n",
    "   `object[INDEX]`\n",
    "        \n",
    "    e.g.\n",
    "        \n",
    "   `my_list[0]`\n",
    "\n",
    "\n",
    "* The _first_ item in the list has an index of __ZERO__ [`0`]"
   ]
  },
  {
   "cell_type": "code",
   "execution_count": null,
   "metadata": {},
   "outputs": [],
   "source": [
    "my_list[0]"
   ]
  },
  {
   "cell_type": "markdown",
   "metadata": {},
   "source": [
    "* The _second_ item in the list has an index of __ONE__ [`1`]"
   ]
  },
  {
   "cell_type": "code",
   "execution_count": null,
   "metadata": {},
   "outputs": [],
   "source": [
    "my_list[1]"
   ]
  },
  {
   "cell_type": "markdown",
   "metadata": {},
   "source": [
    "* The _third_ item in the list has an index of __TWO__ [`2`], and so on..."
   ]
  },
  {
   "cell_type": "code",
   "execution_count": null,
   "metadata": {},
   "outputs": [],
   "source": [
    "print(my_list[2])"
   ]
  },
  {
   "cell_type": "markdown",
   "metadata": {},
   "source": [
    "* Here in the code `print(my_list[2])` notice that:\n",
    "    * we first retrieve the third item in list pointed to by the `my_list`pointer\n",
    "    * this will return the `string` object `'C'`\n",
    "    * which is then displayed using the `print()` function"
   ]
  },
  {
   "cell_type": "markdown",
   "metadata": {},
   "source": [
    "* If you try and use an index to an item that does not exist in the list, i.e. trying to get the _fourth_ item in a list with _three_ items in it, your code will break and you'll see an `IndexError`\n",
    "\n",
    "\n",
    "```\n",
    "my_list ->\n",
    "\n",
    "index:   0    1    2     3\n",
    "\n",
    "item:  ['A' ,'b' ,'C']   ?\n",
    "\n",
    "```"
   ]
  },
  {
   "cell_type": "code",
   "execution_count": null,
   "metadata": {
    "editable": true,
    "slideshow": {
     "slide_type": ""
    },
    "tags": [
     "raises-exception"
    ]
   },
   "outputs": [],
   "source": [
    "# my_list points to a list object with three items\n",
    "# if we try and index the fourth item using index 3\n",
    "\n",
    "my_list[3]"
   ]
  },
  {
   "cell_type": "markdown",
   "metadata": {},
   "source": [
    "### List slicing\n",
    "\n",
    "* You can get continuous subsequences of a list using __SLICING__\n",
    "\n",
    "\n",
    "* It works just like we saw with _slicing_ of `str` objects\n",
    "\n",
    "\n",
    "* You specify:\n",
    "    * A __START INDEX__\n",
    "    * An __END INDEX__\n",
    "    * Separated by a colon `:` character\n",
    "    \n",
    "    \n",
    "* __REMEMBER__ it is start inclusive but end index exclusive because of the way indexing works."
   ]
  },
  {
   "cell_type": "code",
   "execution_count": null,
   "metadata": {},
   "outputs": [],
   "source": [
    "my_list[0:2]"
   ]
  },
  {
   "cell_type": "markdown",
   "metadata": {},
   "source": [
    "## 4. Representing a text as a _list of strings_\n",
    "\n",
    "\n",
    "### Turning a `string` of text into a `list` of words (tokens)\n",
    "\n",
    "* One of the string object functions in Python is the `.split()` function"
   ]
  },
  {
   "cell_type": "code",
   "execution_count": null,
   "metadata": {},
   "outputs": [],
   "source": [
    "help(str.split)"
   ]
  },
  {
   "cell_type": "code",
   "execution_count": null,
   "metadata": {},
   "outputs": [],
   "source": [
    "sent = \"This, is a sentence!...\""
   ]
  },
  {
   "cell_type": "code",
   "execution_count": null,
   "metadata": {},
   "outputs": [],
   "source": [
    "sent.split()"
   ]
  },
  {
   "cell_type": "markdown",
   "metadata": {},
   "source": [
    "* Here the _tokenization_ using just one or more whitespace characters as the delimiter between items\n",
    "\n",
    "\n",
    "* Often we want to _normalize_ case, i.e. put all words into lower- (or sometimes upper-) case and also strip non-alphabetical characters, e.g. punctuation.\n",
    "\n",
    "\n",
    "* The `.lower()`, `.replace()` and `.translate()` string functions can be used for this"
   ]
  },
  {
   "cell_type": "code",
   "execution_count": null,
   "metadata": {},
   "outputs": [],
   "source": [
    "sent_lc=sent.lower()\n",
    "print(sent_lc)"
   ]
  },
  {
   "cell_type": "markdown",
   "metadata": {},
   "source": [
    "* `.replace()` allows you to replace all instances of one character"
   ]
  },
  {
   "cell_type": "code",
   "execution_count": null,
   "metadata": {},
   "outputs": [],
   "source": [
    "sent_lc.replace('.','')"
   ]
  },
  {
   "cell_type": "markdown",
   "metadata": {},
   "source": [
    "* But a whole series of calls to `.replace()` can be chained together like this:"
   ]
  },
  {
   "cell_type": "code",
   "execution_count": null,
   "metadata": {},
   "outputs": [],
   "source": [
    "sent_lc_no_punc=sent_lc.replace('.','').replace(',','').replace('!','')"
   ]
  },
  {
   "cell_type": "code",
   "execution_count": null,
   "metadata": {},
   "outputs": [],
   "source": [
    "print(sent_lc_no_punc)"
   ]
  },
  {
   "cell_type": "markdown",
   "metadata": {},
   "source": [
    "* The `.translate()` function allows for a mapping to be created between a list of characters and their replacement"
   ]
  },
  {
   "cell_type": "code",
   "execution_count": null,
   "metadata": {},
   "outputs": [],
   "source": [
    "rdict = str.maketrans('','', '!,.#$%#()')\n",
    "sent_lc.translate(rdict)"
   ]
  },
  {
   "cell_type": "markdown",
   "metadata": {},
   "source": [
    "* Now we have a normalized and punctuation stripped list of words\n",
    "\n",
    "\n",
    "* We can put all these steps together into a __BLOCK__ of code (see more discussion below)"
   ]
  },
  {
   "cell_type": "code",
   "execution_count": null,
   "metadata": {},
   "outputs": [],
   "source": [
    "sent = \"This, is a sentence!...\"\n",
    "sent=sent.lower()\n",
    "rdict = str.maketrans('','', '!,.')\n",
    "sent=sent.translate(rdict)\n",
    "tokens=sent.split()"
   ]
  },
  {
   "cell_type": "code",
   "execution_count": null,
   "metadata": {},
   "outputs": [],
   "source": [
    "tokens"
   ]
  },
  {
   "cell_type": "code",
   "execution_count": null,
   "metadata": {},
   "outputs": [],
   "source": [
    "tokens[0]"
   ]
  },
  {
   "cell_type": "code",
   "execution_count": null,
   "metadata": {},
   "outputs": [],
   "source": [
    "tokens[2]"
   ]
  },
  {
   "cell_type": "code",
   "execution_count": null,
   "metadata": {},
   "outputs": [],
   "source": [
    "tokens[1:3]"
   ]
  },
  {
   "cell_type": "markdown",
   "metadata": {},
   "source": [
    "### Example: A longer text"
   ]
  },
  {
   "cell_type": "code",
   "execution_count": null,
   "metadata": {},
   "outputs": [],
   "source": [
    "three_bears_text='''\n",
    "Once upon a time, there was a little girl named Goldilocks.  She  went for a walk in the forest.  \n",
    "Pretty soon, she came upon a house.  She knocked and, when no one answered, she walked right in. \n",
    "\n",
    "At the table in the kitchen, there were three bowls of porridge. Goldilocks was hungry.  \n",
    "She tasted the porridge from the first bowl. \n",
    "\n",
    "\"This porridge is too hot!\" she exclaimed.\n",
    "\n",
    "So, she tasted the porridge from the second bowl.\n",
    "\n",
    "\"This porridge is too cold,\" she said\n",
    "\n",
    "So, she tasted the last bowl of porridge.\n",
    "\n",
    "\"Ahhh, this porridge is just right,\" she said happily and she ate it all up.\n",
    "'''"
   ]
  },
  {
   "cell_type": "code",
   "execution_count": null,
   "metadata": {},
   "outputs": [],
   "source": [
    "three_bears_text_lc=three_bears_text.lower()\n",
    "rdict = str.maketrans('','', '!,.\"')\n",
    "three_bears_text_lc_np=three_bears_text_lc.translate(rdict)\n",
    "three_bears_tokens=three_bears_text_lc_np.split()"
   ]
  },
  {
   "cell_type": "code",
   "execution_count": null,
   "metadata": {},
   "outputs": [],
   "source": [
    "len(three_bears_tokens)"
   ]
  },
  {
   "cell_type": "code",
   "execution_count": null,
   "metadata": {},
   "outputs": [],
   "source": [
    "three_bears_tokens"
   ]
  },
  {
   "cell_type": "markdown",
   "metadata": {},
   "source": [
    "#### Slicing the list of tokens"
   ]
  },
  {
   "cell_type": "code",
   "execution_count": null,
   "metadata": {},
   "outputs": [],
   "source": [
    "three_bears_tokens[20:30]"
   ]
  },
  {
   "cell_type": "markdown",
   "metadata": {},
   "source": [
    "#### Using some list functions\n",
    "\n",
    "* Using `.count(obj)` to find the number of times a token occurs"
   ]
  },
  {
   "cell_type": "code",
   "execution_count": null,
   "metadata": {},
   "outputs": [],
   "source": [
    "# how many times does 'she' occur in the list of tokens?\n",
    "three_bears_tokens.count('she')"
   ]
  },
  {
   "cell_type": "code",
   "execution_count": null,
   "metadata": {},
   "outputs": [],
   "source": [
    "# how many times does 'bears' occur in the list of tokens?\n",
    "three_bears_tokens.count('bears')"
   ]
  },
  {
   "cell_type": "code",
   "execution_count": null,
   "metadata": {},
   "outputs": [],
   "source": [
    "# how many times does 'porridge' occur in the list of tokens?\n",
    "three_bears_tokens.count('porridge')"
   ]
  },
  {
   "cell_type": "markdown",
   "metadata": {},
   "source": [
    "* Using `.index(obj, (sidx))` to find the first instance of an item in a list\n",
    "    * The second optional _argument_ of the `.index()` function gives the index to start searching from\n",
    "    * By default (i.e. when it is not specified) this is `0`, the beginning of the list"
   ]
  },
  {
   "cell_type": "code",
   "execution_count": null,
   "metadata": {},
   "outputs": [],
   "source": [
    "# what is index of the first instance of 'porridge'\n",
    "three_bears_tokens.index('porridge')"
   ]
  },
  {
   "cell_type": "code",
   "execution_count": null,
   "metadata": {},
   "outputs": [],
   "source": [
    "three_bears_tokens[48]"
   ]
  },
  {
   "cell_type": "code",
   "execution_count": null,
   "metadata": {},
   "outputs": [],
   "source": [
    "# what is the next one? - start +1 from the first\n",
    "three_bears_tokens.index('porridge', 49)"
   ]
  },
  {
   "cell_type": "code",
   "execution_count": null,
   "metadata": {
    "tags": [
     "raises-exception"
    ]
   },
   "outputs": [],
   "source": [
    "three_bears_tokens[48:56]"
   ]
  },
  {
   "cell_type": "code",
   "execution_count": null,
   "metadata": {
    "editable": true,
    "slideshow": {
     "slide_type": ""
    },
    "tags": []
   },
   "outputs": [],
   "source": []
  }
 ],
 "metadata": {
  "citation-manager": {
   "items": {}
  },
  "kernelspec": {
   "display_name": "Python 3 (ipykernel)",
   "language": "python",
   "name": "python3"
  },
  "language_info": {
   "codemirror_mode": {
    "name": "ipython",
    "version": 3
   },
   "file_extension": ".py",
   "mimetype": "text/x-python",
   "name": "python",
   "nbconvert_exporter": "python",
   "pygments_lexer": "ipython3",
   "version": "3.10.12"
  }
 },
 "nbformat": 4,
 "nbformat_minor": 4
}
