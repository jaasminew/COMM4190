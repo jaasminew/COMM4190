{
 "cells": [
  {
   "cell_type": "markdown",
   "id": "acc04e00-31e8-488e-85c7-29db970daf26",
   "metadata": {
    "editable": true,
    "slideshow": {
     "slide_type": ""
    },
    "tags": []
   },
   "source": [
    "<div>\n",
    "<img src=\"img/python_logo.png\" width=\"100px\" style=\"float: left; \"/> \n",
    "<div style=\"font-size: 40px; padding-top: 20px\">Python basics</div>   \n",
    "<div style=\"font-size: 30px; padding-top: 20px\">Part 4 - Dictionaries and Functions</div>   \n",
    "    \n",
    "<div>\n",
    "    <img style=\"float: left\" src=\"img/dictionary.png\" width=150/>\n",
    "    <img src=\"img/recipe.png\" width=150/>\n",
    "</div>\n",
    "</div>\n",
    "\n",
    " \n",
    "\n",
    "\n",
    "<h2 style=\"clear: both\">COMM4190 Spring 2025</h2>\n",
    "\n",
    "<h3>Instructor: Matt O'Donnell (mbod@asc.upenn.edu)</h3>\n",
    "\n",
    "-----\n",
    "\n",
    "<div class=\"alert alert-info\">\n",
    "\n",
    "## Overview\n",
    "    \n",
    "This notebook is the fourth of four that will cover some of the very basics of Python programming that serve as the building blocks for being able to use Python for computational text analysis. These are:\n",
    "\n",
    "### Part 1 \n",
    "\n",
    "* __1. OBJECTS__ - a core concept for programming Python, where an __object__ holds data of different _types_ and a group of actions ( _functions_ ) that can be applied to these data\n",
    "    * __Data types__ - data comes in different kinds/flavors, e.g. numbers, fractions, proportions, categories, text, etc., that are best represented by different objects (e.g. `int`, `float`, `str`) \n",
    "    * __Named Pointers__ - labels that can be attached to objects to make it possible reference the object in subsequent steps\n",
    "\n",
    "* __2. `str` STRING OBJECTS__ - a string is an ordered sequence of characters and the core object we use in Python to represent text data.\n",
    "    * __String specific functions__\n",
    "\n",
    "### Part 2\n",
    "\n",
    "* __3. LISTS__ a simple ordered sequence data structure\n",
    "    * _indexing_ - a way of accessing a single item within a list\n",
    "    * _slicing_ - a ways of accessing a sub-sequence of items within a item\n",
    "    * list-specific functions\n",
    "        * `.count()` and `.index()`\n",
    "        * `.append()`\n",
    "\n",
    "\n",
    "### Part 3\n",
    "\n",
    "\n",
    "* __4. CONDITIONS__ - a way of carrying out different actions based on a logic test\n",
    "\n",
    "* __5. LOOPS__ - a way of repeating an action or series of action in code\n",
    "\n",
    "* __6. LOOP and FILTER paradigm__ - a frequently used combination of loop and conditional constructs\n",
    "\n",
    "### Part 4 (This notebook)\n",
    "\n",
    "* __7. DICTIONARIES__ - a data structure that links a label or key with a piece of data\n",
    "  * Dictionaries are _unordered sets of key-value pairs_, where the keys are unique identifers linking to (or indexing) and object (the value)\n",
    "\n",
    "\n",
    "\n",
    "* __8. FUNCTIONS__ - a reusable and flexible way of grouping steps together for reuse\n",
    "\n",
    "</div>\n",
    "\n",
    "\n"
   ]
  },
  {
   "cell_type": "markdown",
   "id": "2346ea01",
   "metadata": {},
   "source": [
    "-----\n",
    "\n",
    "## Overview\n",
    "\n",
    "* This notebook will cover:\n",
    "    1. __DICTIONARIES__ - are data structures in Python where each _value_ has an associated label called its _key_ that allows you to access the value directly.\n",
    "        * A __dictionary__ (`dict` object) is __an UNORDERED SET__ of **KEY**-**VALUE** pairs\n",
    "        * You can define a `dict` object with curly braces `{` `}`, e.g.\n",
    "          ```\n",
    "          my_dict = { 'Bat': 11,\n",
    "                      'Apple': 434,\n",
    "                      'Mouse': 32 }\n",
    "          ```\n",
    "            * each pair of value+label has the format: `key : value`\n",
    "            * and pairs are separated by commas\n",
    "            * Keys are __UNIQUE__ in the `dict` object\n",
    "              \n",
    "        * To access an item in a `dict` object you can:\n",
    "             1. use square brackets and the key\n",
    "                 ```\n",
    "                 my_dict['Bat']\n",
    "                 ```\n",
    "             2. use the `.get()` function:\n",
    "                 ```\n",
    "                 my_dict.get('Bat')\n",
    "                 ```\n",
    "          \n",
    "          both of these will return the value `11`\n",
    "        * The `dict` object specific functions we most often use are:\n",
    "            1. `.get()` - to return the value for a specific key (or `None` if that key does not exist in the `dict`)\n",
    "            2. `.items()` - to return a list of `(key, value)` tuples\n",
    "            3. `.keys()` - to return a list of all of the keys in the dictionary\n",
    "            3. `.values()` - to return a list of all of the the values \n",
    "         <br/><br/>\n",
    "    2. __FUNCTIONS__ - are a way to take a block of code and make it flexible and reusable in multiple places in your code without having to repeat all code each time.\n",
    "        * The code steps you want to turn into a function become a code block within a function definition.\n",
    "        * Functions can have zero or more arguments that are pointers in the definition that can be used in the function code block. Specific objects can be associated with these pointers when you use the function from other parts of your code.\n",
    "        * The syntax to define a function follows the pattern:\n",
    "          ```   \n",
    "            def FUNCTION_NAME(arguments):\n",
    "                # code block\n",
    "\n",
    "                return RESULT\n",
    "          ```\n",
    "            where:\n",
    "            * `FUNCTION_NAME` is the pointer to your function\n",
    "            * `arguments` are any pointers to objects that are going to be used in the function and will be specified when the function is called.\n",
    "            * `RESULT` is the object(s) you want to pass back from the function\n",
    "\n",
    "\n",
    "------"
   ]
  },
  {
   "cell_type": "markdown",
   "id": "c9be8814",
   "metadata": {},
   "source": [
    "## Encoding data in Python\n",
    "\n",
    "![](img/data_encoding.png)"
   ]
  },
  {
   "cell_type": "markdown",
   "id": "c2ba7f1e",
   "metadata": {},
   "source": [
    "\n",
    "* So far we have focused on using `list` objects to hold our data. Lists are a simple __ORDERED SEQUENCE OF OBJECTS__. \n",
    "\n",
    "\n",
    "* In a `list` object _the order is crucial_ and the position of an item in a list (its __INDEX__) is the only way we can keep track of what the item refers to.\n",
    "    * When we want to have a label to go with each piece of data we need to create two lists of the same length and make sure the items in each are align.\n",
    "        * _Note: It would also be possible to use a more complex nested data structure (see below)_\n",
    "\n",
    "\n",
    "\n",
    "* For example, to record the heights of three people:\n",
    "    1. Jay - 69\"\n",
    "    2. Deborah - 65\"\n",
    "    3. Min - 62\"\n",
    "        \n",
    "    we could do this:\n",
    "    ```\n",
    "    names =  ['Jay', 'Deborah', 'Min']\n",
    "    heights = [ 69, 65, 62 ]\n",
    "    ```    \n",
    "    <br/>\n",
    "    Then we can link the height data with the name label by using the same index:\n",
    "    \n",
    "    ```\n",
    "    \n",
    "    print(f'{ names[0] } is { heights[0] } inches tall.')\n",
    "    ```\n",
    "\n"
   ]
  },
  {
   "cell_type": "code",
   "execution_count": null,
   "id": "b42ecd63",
   "metadata": {},
   "outputs": [],
   "source": [
    "# create two lists using position to align name and height values\n",
    "\n",
    "names =  ['Jay', 'Deborah', 'Min']\n",
    "heights = [ 69, 65, 62 ]"
   ]
  },
  {
   "cell_type": "code",
   "execution_count": null,
   "id": "aa67f880",
   "metadata": {},
   "outputs": [],
   "source": [
    "# use indexing to display matching name and height values\n",
    "\n",
    "print(names[0], heights[0])"
   ]
  },
  {
   "cell_type": "code",
   "execution_count": null,
   "id": "6b016113",
   "metadata": {},
   "outputs": [],
   "source": [
    "# use fstring to incorporate data values into a text content\n",
    "\n",
    "print(f'{ names[0] } is { heights[0] } inches tall.')"
   ]
  },
  {
   "cell_type": "markdown",
   "id": "7e870079",
   "metadata": {},
   "source": [
    "* When you have two lists of the same length you can combine them item-by-item using the `zip(list1, list2)` function. a for-loop and the `zip()` function: "
   ]
  },
  {
   "cell_type": "code",
   "execution_count": null,
   "id": "721b9d18-043e-46de-a4b9-88350048e161",
   "metadata": {},
   "outputs": [],
   "source": [
    "list(zip(names,heights))"
   ]
  },
  {
   "cell_type": "markdown",
   "id": "233917ec-7081-4c36-b371-7f8557251218",
   "metadata": {},
   "source": [
    "* This should look familiar from the output we get from a `Counter` object we have been using to create frequency lists.\n",
    "\n",
    "* We can then use a loop to walk through the values item-by-item:"
   ]
  },
  {
   "cell_type": "code",
   "execution_count": null,
   "id": "9a20beb8",
   "metadata": {},
   "outputs": [],
   "source": [
    "for name, height in zip(names, heights):\n",
    "    print(f'{ name } is { height } inches tall.')"
   ]
  },
  {
   "cell_type": "markdown",
   "id": "c4689683",
   "metadata": {},
   "source": [
    "## 1. Dictionaries\n",
    "\n",
    "* The second data structure builtin to Python is the __DICTIONARY__. \n",
    "    * A dictionary is _an unordered set of KEY-VALUE pairs_.\n",
    "    * Dictionaries are realized as `dict` objects.\n",
    "\n",
    "* This allows each piece of data (the value) to have an associated label bound to it. It removes the need to use position/order to align values and labels.\n",
    "\n",
    "\n",
    "* Returning to our simple height data set, this would be encoded like this:\n",
    "\n",
    "    | KEY | VALUE |\n",
    "    | --- | ----- |\n",
    "    | Jay | 69   |\n",
    "    | Deborah | 65 |\n",
    "    | Min | 62 |\n",
    "    \n",
    "    \n",
    "### Creating a dictionary with a `dict` object\n",
    "    \n",
    "* The syntax to create a `dict` object in Python is:\n",
    "    \n",
    "    ```\n",
    "    {\n",
    "       key : value,\n",
    "       key : value,\n",
    "       ...\n",
    "    }\n",
    "    ```\n",
    "    \n",
    "    * curly braces `{ }` make the bounaries or beginning and end of the dictionary \n",
    "    * each pair of value+label has the format: `key : value`\n",
    "    * and pairs are separated by commas\n",
    "\n",
    "\n",
    "\n",
    "* Keys are UNIQUE in the dict object"
   ]
  },
  {
   "cell_type": "markdown",
   "id": "717096c1",
   "metadata": {},
   "source": [
    "* Let's create a dictionary with the name and height data and reference the resulting `dict` object with a named pointer `height_dict`:"
   ]
  },
  {
   "cell_type": "code",
   "execution_count": null,
   "id": "98cfacda",
   "metadata": {},
   "outputs": [],
   "source": [
    "height_dict = {\n",
    "    'Min': 62,\n",
    "    'Deborah': 65,\n",
    "    'Jay': 69\n",
    "}"
   ]
  },
  {
   "cell_type": "code",
   "execution_count": null,
   "id": "94f0dd93",
   "metadata": {},
   "outputs": [],
   "source": [
    "type(height_dict)"
   ]
  },
  {
   "cell_type": "markdown",
   "id": "039a0ee9",
   "metadata": {},
   "source": [
    "* Just like with a list we can use the `len()` function to find out how many items are in a `dict` object."
   ]
  },
  {
   "cell_type": "code",
   "execution_count": null,
   "id": "6bc31364",
   "metadata": {},
   "outputs": [],
   "source": [
    "len(height_dict)"
   ]
  },
  {
   "cell_type": "markdown",
   "id": "5c71e6f9",
   "metadata": {
    "editable": true,
    "slideshow": {
     "slide_type": ""
    },
    "tags": []
   },
   "source": [
    "* But unlike a `list` we __DO NOT__ use numeric indexing"
   ]
  },
  {
   "cell_type": "code",
   "execution_count": null,
   "id": "35150067",
   "metadata": {
    "editable": true,
    "slideshow": {
     "slide_type": ""
    },
    "tags": [
     "raises-exception",
     "raise-exception"
    ]
   },
   "outputs": [],
   "source": [
    "# this will create an error\n",
    "# trying to get the first item (key-value pair)\n",
    "height_dict[0]"
   ]
  },
  {
   "cell_type": "markdown",
   "id": "9d4c7be3",
   "metadata": {},
   "source": [
    "* This is because _there is NO ORDER_ in a dictionary.\n",
    "\n",
    "\n",
    "* Instead, we use the `key` as a way to retrieve items from a `dict` object.\n",
    "\n",
    "\n",
    "* The syntax for accessing an item in a dictionary is:\n",
    "    ```\n",
    "    dict[key]\n",
    "    ```\n",
    "    \n",
    "    e.g.\n",
    "    ```\n",
    "    height_dict['Jay']\n",
    "    ```"
   ]
  },
  {
   "cell_type": "code",
   "execution_count": null,
   "id": "d499462a",
   "metadata": {
    "editable": true,
    "slideshow": {
     "slide_type": ""
    },
    "tags": []
   },
   "outputs": [],
   "source": [
    "# retrieve the value for the item \n",
    "# with key 'Jan'\n",
    "height_dict['Jay']"
   ]
  },
  {
   "cell_type": "markdown",
   "id": "dcdcef2e",
   "metadata": {},
   "source": [
    "* The key must exist in the `dict` and match the key exactly.\n",
    "    * For instance, using `jay` or `JAY` instead of `Jay` will cause a `KeyError`"
   ]
  },
  {
   "cell_type": "code",
   "execution_count": null,
   "id": "4bd61dae-55c0-4bcf-bb63-ecd7a1f9545a",
   "metadata": {
    "editable": true,
    "slideshow": {
     "slide_type": ""
    },
    "tags": [
     "raise-exception",
     "raises-exception"
    ]
   },
   "outputs": [],
   "source": [
    "height_dict['jay']"
   ]
  },
  {
   "cell_type": "markdown",
   "id": "f0f44296",
   "metadata": {
    "editable": true,
    "slideshow": {
     "slide_type": ""
    },
    "tags": []
   },
   "source": [
    "* The dictionary specific function `.get(key)` provides another way to access an item in a `dict` object that doesn't creat an error if the key does not exist."
   ]
  },
  {
   "cell_type": "code",
   "execution_count": null,
   "id": "6d636296",
   "metadata": {
    "editable": true,
    "slideshow": {
     "slide_type": ""
    },
    "tags": []
   },
   "outputs": [],
   "source": [
    "# try and retrieve an item using a non-existant key\n",
    "height_dict.get('jay')"
   ]
  },
  {
   "cell_type": "markdown",
   "id": "8dd0648a",
   "metadata": {
    "editable": true,
    "slideshow": {
     "slide_type": ""
    },
    "tags": []
   },
   "source": [
    "* If the key does not exist the `.get()` function will return `None` (which does not display any output). \n",
    "\n",
    "\n",
    "* If the key does exist in the `dict` then the value associated with the key will be returned."
   ]
  },
  {
   "cell_type": "code",
   "execution_count": null,
   "id": "710baf83",
   "metadata": {},
   "outputs": [],
   "source": [
    "height_dict.get('Jay')"
   ]
  },
  {
   "cell_type": "code",
   "execution_count": null,
   "id": "3ef0892f",
   "metadata": {},
   "outputs": [],
   "source": [
    "height_dict.get('Min')"
   ]
  },
  {
   "cell_type": "markdown",
   "id": "49c4b756",
   "metadata": {},
   "source": [
    "#### Creating an _EMPTY DICTIONARY_ and adding items to it"
   ]
  },
  {
   "cell_type": "code",
   "execution_count": null,
   "id": "d4a1e78b",
   "metadata": {},
   "outputs": [],
   "source": [
    "# create am empty dictionary\n",
    "height2_dict = {}"
   ]
  },
  {
   "cell_type": "code",
   "execution_count": null,
   "id": "adc6d67a",
   "metadata": {},
   "outputs": [],
   "source": [
    "len(height2_dict)"
   ]
  },
  {
   "cell_type": "markdown",
   "id": "be2cc3e5",
   "metadata": {},
   "source": [
    "* We can add an item to the dict object referenced by `height2_dict` using the syntax:\n",
    "    ```\n",
    "    height2_dict[key] = value\n",
    "    ```"
   ]
  },
  {
   "cell_type": "code",
   "execution_count": null,
   "id": "4422af99",
   "metadata": {},
   "outputs": [],
   "source": [
    "# add a key:value pair Jay:69 \n",
    "height2_dict['Jay'] = 69"
   ]
  },
  {
   "cell_type": "code",
   "execution_count": null,
   "id": "cda406c6",
   "metadata": {},
   "outputs": [],
   "source": [
    "len(height2_dict)"
   ]
  },
  {
   "cell_type": "code",
   "execution_count": null,
   "id": "f300f189",
   "metadata": {},
   "outputs": [],
   "source": [
    "# look at the contents of the dict\n",
    "height2_dict"
   ]
  },
  {
   "cell_type": "code",
   "execution_count": null,
   "id": "60c1262f",
   "metadata": {},
   "outputs": [],
   "source": [
    "height2_dict['Min']=62\n",
    "height2_dict['Deborah']=65"
   ]
  },
  {
   "cell_type": "code",
   "execution_count": null,
   "id": "c119c78b",
   "metadata": {},
   "outputs": [],
   "source": [
    "len(height2_dict)"
   ]
  },
  {
   "cell_type": "code",
   "execution_count": null,
   "id": "911404ef",
   "metadata": {},
   "outputs": [],
   "source": [
    "height2_dict"
   ]
  },
  {
   "cell_type": "code",
   "execution_count": null,
   "id": "437aca81",
   "metadata": {},
   "outputs": [],
   "source": [
    "height2_dict['Jay'] = 70"
   ]
  },
  {
   "cell_type": "code",
   "execution_count": null,
   "id": "21543d3f",
   "metadata": {
    "editable": true,
    "slideshow": {
     "slide_type": ""
    },
    "tags": []
   },
   "outputs": [],
   "source": [
    "height2_dict"
   ]
  },
  {
   "cell_type": "markdown",
   "id": "b1c16bd9",
   "metadata": {},
   "source": [
    "#### Using `.keys()`, `.values()` and `.items()` dictionary function to list the keys\n",
    "\n",
    "* A `dict` object has a number of additional object specific functions\n",
    "  * `.keys()` - returns a list of all the keys in the `dict`\n",
    "  * `.values()` - returns a list of all the values\n",
    "  * `.items()` - returns a lists of `(key, value)` pairs\n",
    "      "
   ]
  },
  {
   "cell_type": "markdown",
   "id": "dc5397e8",
   "metadata": {},
   "source": [
    "\n",
    "| KEY | VALUE |\n",
    "| --- | ----- |\n",
    "| Jay | 69   |\n",
    "| Deborah | 65 |\n",
    "| Min | 62 |\n",
    "\n",
    "* We can get a list of all the keys in a `dict` (i.e. select the __KEY__ column in the table)"
   ]
  },
  {
   "cell_type": "code",
   "execution_count": null,
   "id": "ab438d45",
   "metadata": {},
   "outputs": [],
   "source": [
    "height_dict.keys()"
   ]
  },
  {
   "cell_type": "markdown",
   "id": "9f7601fd",
   "metadata": {},
   "source": [
    "* And similarly a list of all the values"
   ]
  },
  {
   "cell_type": "code",
   "execution_count": null,
   "id": "6ccd254d",
   "metadata": {},
   "outputs": [],
   "source": [
    "height_dict.values()"
   ]
  },
  {
   "cell_type": "markdown",
   "id": "b9d14c45",
   "metadata": {},
   "source": [
    "* We will often use these in a loop to walk through the items in a dictionary.\n",
    "  * For example, we can use the `.keys()` function to get a list of keys and walk through this list to access the associated value at each step"
   ]
  },
  {
   "cell_type": "code",
   "execution_count": null,
   "id": "f9709d67",
   "metadata": {},
   "outputs": [],
   "source": [
    "# first illustrate what walking through the list of keys\n",
    "# looks like by displaying each value\n",
    "\n",
    "for name in height_dict.keys():\n",
    "    print(name)"
   ]
  },
  {
   "cell_type": "markdown",
   "id": "802ea4b1",
   "metadata": {},
   "source": [
    "* Now at each step we use the current key, referenced by the loop pointer `name` to retrieve the associated value"
   ]
  },
  {
   "cell_type": "code",
   "execution_count": null,
   "id": "fd44fa1b",
   "metadata": {},
   "outputs": [],
   "source": [
    "for name in height_dict.keys():\n",
    "    print(name, 'is', height_dict[name], 'inches tall' )"
   ]
  },
  {
   "cell_type": "markdown",
   "id": "9bf881e9",
   "metadata": {},
   "source": [
    "* But just like we found we could use the `zip()` function in a loop to combine two or more lists, the `.items()` dictionary specific function gives as a pair of objects in a list."
   ]
  },
  {
   "cell_type": "code",
   "execution_count": null,
   "id": "2c9e2d11",
   "metadata": {},
   "outputs": [],
   "source": [
    "height_dict.items()"
   ]
  },
  {
   "cell_type": "markdown",
   "id": "4999b8f1",
   "metadata": {},
   "source": [
    "* And we can then create a loop with two pointers, one to the key and other to the value"
   ]
  },
  {
   "cell_type": "code",
   "execution_count": null,
   "id": "24c057f9",
   "metadata": {},
   "outputs": [],
   "source": [
    "for key, value in height_dict.items():\n",
    "    print(f\"Key is '{key}' & associated value is '{value}'.\")"
   ]
  },
  {
   "cell_type": "markdown",
   "id": "5b5f0bed",
   "metadata": {},
   "source": [
    "------\n",
    "\n",
    "\n",
    "\n",
    "![](img/state_population.png)\n",
    "\n",
    "### Using a dictionary as a lookup table/mapping\n",
    "\n",
    "* A common use for a dictionary is to create a mapping or lookup table between two forms of a piece of data, such as an abbreviation and the long form.\n",
    "\n",
    "\n",
    "* An example would be the two letter abbreviations for US states.\n",
    "\n",
    "\n",
    "* Here we have a selection of states and create a dictionary where:\n",
    "    * the __KEYS__ are the two letter abbreviations\n",
    "    * the __VALUES__ are the full state name"
   ]
  },
  {
   "cell_type": "code",
   "execution_count": null,
   "id": "78182567",
   "metadata": {},
   "outputs": [],
   "source": [
    "state_mapping = {\n",
    "     'AK': 'Alaska',\n",
    "     'AL': 'Alabama',\n",
    "     'AR': 'Arkansas',\n",
    "     'AZ': 'Arizona',\n",
    "     'CA': 'California',\n",
    "     'CO': 'Colorado',\n",
    "     'MO': 'Missouri',\n",
    "     'MT': 'Montana',\n",
    "     'NE': 'Nebraska',\n",
    "     'NH': 'New Hampshire',\n",
    "     'NJ': 'New Jersey',\n",
    "     'NV': 'Nevada'\n",
    "}"
   ]
  },
  {
   "cell_type": "markdown",
   "id": "d2fb2827",
   "metadata": {},
   "source": [
    "* So we can use the abbreviation to look up the associated state name."
   ]
  },
  {
   "cell_type": "code",
   "execution_count": null,
   "id": "225b197e",
   "metadata": {},
   "outputs": [],
   "source": [
    "state_mapping['CO']"
   ]
  },
  {
   "cell_type": "code",
   "execution_count": null,
   "id": "da5a417b",
   "metadata": {},
   "outputs": [],
   "source": [
    "# use the dict.get(KEY) function \n",
    "\n",
    "state_mapping.get('MT')"
   ]
  },
  {
   "cell_type": "code",
   "execution_count": null,
   "id": "a94c71a1",
   "metadata": {},
   "outputs": [],
   "source": [
    "print(\"NV is the 2 letter abbreviation for\", state_mapping['NV'])"
   ]
  },
  {
   "cell_type": "markdown",
   "id": "bf350ed0",
   "metadata": {},
   "source": [
    "* This kind of lookup or mapping dictionary can be really useful when you have other data sources that use the keys.\n",
    "\n",
    "\n",
    "* For example, if we had some data about the population in some US states (ranked by population size):\n",
    "\n",
    "| State | Population |\n",
    "| ----- | ---------- |\n",
    "| CA  | 39613493 |\n",
    "| NJ  | 8874520  |\n",
    "| AZ  | 7520103  |\n",
    "| MO  | 6169038  |\n",
    "| CO  | 5893634  |\n",
    "| AL  | 4934193  |\n",
    "| NV  | 3185786  |\n",
    "| AR  | 3033946  |\n",
    "| NE  | 1951996  |\n",
    "| NH  | 1372203  |\n",
    "| MT  | 1085004  |\n",
    "| AK  | 724357   |\n",
    "\n",
    "\n",
    "* We could encode this table as a `dict` object, where:\n",
    "    * the 2 letter state abbreviation is the __KEY__\n",
    "    * the __VALUES__ are the population counts"
   ]
  },
  {
   "cell_type": "code",
   "execution_count": null,
   "id": "6f7ca60d",
   "metadata": {},
   "outputs": [],
   "source": [
    "population_dict = {\n",
    " 'CA': 39613493,\n",
    " 'NJ': 8874520,\n",
    " 'AZ': 7520103,\n",
    " 'MO': 6169038,\n",
    " 'CO': 5893634,\n",
    " 'AL': 4934193,\n",
    " 'NV': 3185786,\n",
    " 'AR': 3033946,\n",
    " 'NE': 1951996,\n",
    " 'NH': 1372203,\n",
    " 'MT': 1085004,\n",
    " 'AK': 724357\n",
    "}"
   ]
  },
  {
   "cell_type": "markdown",
   "id": "dfe1fb19",
   "metadata": {},
   "source": [
    "* We can look up a state name using the `state_mapping` dictionary and the population in the `population_dict` using a common key, e.g. `CA`"
   ]
  },
  {
   "cell_type": "code",
   "execution_count": null,
   "id": "66a49c2e",
   "metadata": {},
   "outputs": [],
   "source": [
    "print(state_mapping['CA'], 'population is', population_dict['CA'])"
   ]
  },
  {
   "cell_type": "markdown",
   "id": "c9318663",
   "metadata": {},
   "source": [
    "* Incorporating this into a loop so we can display the states in our population table but replace the abbreviations."
   ]
  },
  {
   "cell_type": "code",
   "execution_count": null,
   "id": "d598a18f-d856-47ed-be6a-efa31b4593aa",
   "metadata": {},
   "outputs": [],
   "source": [
    "for state_abbrev, population in population_dict.items():\n",
    "    # look up the state name using abbreviation\n",
    "    sname = state_mapping[state_abbrev]\n",
    "    \n",
    "    # display state and population\n",
    "    print(f'{sname:>15} population: {population}')"
   ]
  },
  {
   "cell_type": "markdown",
   "id": "50454fb9",
   "metadata": {},
   "source": [
    "* We will see this use of dictionaries frequently as we move on to working with larger, more complex datasets.\n"
   ]
  },
  {
   "cell_type": "markdown",
   "id": "177c479b",
   "metadata": {},
   "source": [
    "----\n",
    "\n",
    "## 2. Functions\n",
    "\n",
    "* Python allows you to create your own functions that are:\n",
    "    1. A block of code to do something, e.g. the steps involved in normalizing and tokenizing a text\n",
    "    2. These steps are _wrapped_ up with a function pointer and zero or more __INPUT ARGUMENTS__\n",
    "    3. Optionally the function can __RETURN__ the result of running the steps in the code block.\n",
    "    \n",
    "    \n",
    "* The syntax template for a function is:\n",
    "    \n",
    "```\n",
    "def function_name(ARGS):\n",
    "    # CODE BLOCK\n",
    "    # ...\n",
    "    \n",
    "    return output   # optional\n",
    "```"
   ]
  },
  {
   "cell_type": "markdown",
   "id": "96ff1ae3",
   "metadata": {},
   "source": [
    "* The simplest kind of function is one that wraps up one or more steps of code with a label (the __function name__) and no arguments (extra pieces of data [objects] passed to the function).\n",
    "\n",
    "\n",
    "* For example, imagine we wanted to display the message:\n",
    "    ```\n",
    "    Hello!\n",
    "    How are you?\n",
    "    \n",
    "    \n",
    "    ```\n",
    "  \n",
    "  We could do:"
   ]
  },
  {
   "cell_type": "code",
   "execution_count": null,
   "id": "a4b04b74",
   "metadata": {},
   "outputs": [],
   "source": [
    "print('Hello!')\n",
    "print('How are you?')"
   ]
  },
  {
   "cell_type": "markdown",
   "id": "1e100289-a00d-4675-b553-19a7ccd76fb0",
   "metadata": {},
   "source": [
    "* If we wanted to repeat this message multiple times, it would become tedious to repeat those two lines of code over and over again."
   ]
  },
  {
   "cell_type": "code",
   "execution_count": null,
   "id": "f5b7b507",
   "metadata": {},
   "outputs": [],
   "source": [
    "print('Hello!')\n",
    "print('How are you?')\n",
    "\n",
    "print('Hello!')\n",
    "print('How are you?')\n",
    "\n",
    "print('Hello!')\n",
    "print('How are you?')"
   ]
  },
  {
   "cell_type": "markdown",
   "id": "56ff67d4",
   "metadata": {},
   "source": [
    "* So we could define a function called `say_hi` that had those two lines of code as the function code block.\n",
    "\n",
    "\n",
    "* The function definition would look like this:"
   ]
  },
  {
   "cell_type": "code",
   "execution_count": null,
   "id": "e48dae6d",
   "metadata": {},
   "outputs": [],
   "source": [
    "def say_hi():\n",
    "    print('Hello!')\n",
    "    print('How are you?')"
   ]
  },
  {
   "cell_type": "markdown",
   "id": "21efd592",
   "metadata": {},
   "source": [
    "* The first line will have the format:\n",
    "    ```\n",
    "    def FUNCTION_NAME():\n",
    "    ```\n",
    "  * keyword `def`\n",
    "  * followed by the function name \n",
    "  * then a set of parentheses that could contain any _arguments_ that could be passed to the function (but here we are not using arguments so the parentheses are empty)\n",
    "  * finally we need a colon `:` to indicate the start of the code block (this should be familiar now from `for-loops` and `if` conditional constructions.\n",
    "  \n",
    "  \n",
    "* Once the function definition cell is executed we can use the function name just like we would a general function like `print()` or `len()` or `type()`, etc."
   ]
  },
  {
   "cell_type": "code",
   "execution_count": null,
   "id": "a73494d7",
   "metadata": {},
   "outputs": [],
   "source": [
    "say_hi()"
   ]
  },
  {
   "cell_type": "code",
   "execution_count": null,
   "id": "b3af1ce4",
   "metadata": {},
   "outputs": [],
   "source": [
    "say_hi(), say_hi(), say_hi()"
   ]
  },
  {
   "cell_type": "markdown",
   "id": "805cc81a",
   "metadata": {},
   "source": [
    "* When we call the function, Python looks for the function definition that is referenced by the function name (`say_hi`) and executes the code block.\n",
    "\n",
    "\n",
    "* Let's modify the function `say_hi` to require a name to be specified when the function is called. Then we can use the specified value in the function code block to print a specific greeting."
   ]
  },
  {
   "cell_type": "code",
   "execution_count": null,
   "id": "b97f1359",
   "metadata": {},
   "outputs": [],
   "source": [
    "def say_hi(name):\n",
    "    print(f'Hello {name}!')\n",
    "    print('How are you?')"
   ]
  },
  {
   "cell_type": "code",
   "execution_count": null,
   "id": "5bfeb669",
   "metadata": {},
   "outputs": [],
   "source": [
    "say_hi('Zeek')"
   ]
  },
  {
   "cell_type": "code",
   "execution_count": null,
   "id": "6cfcdad2",
   "metadata": {},
   "outputs": [],
   "source": [
    "say_hi('Zelda')"
   ]
  },
  {
   "cell_type": "markdown",
   "id": "0df2bae6",
   "metadata": {},
   "source": [
    "* So as we change the argument we give to `say_hi` the greeting changes."
   ]
  },
  {
   "cell_type": "markdown",
   "id": "aa305a65",
   "metadata": {},
   "source": [
    "#### Returning an object from a function\n",
    "\n",
    "* Most often we will want to define functions that given some data will carry out a series on steps on these data and pass back the result.\n",
    "\n",
    "\n",
    "* For instance, if we wanted to add two numbers together, we could have a function:"
   ]
  },
  {
   "cell_type": "code",
   "execution_count": null,
   "id": "a9335fe8",
   "metadata": {},
   "outputs": [],
   "source": [
    "def add_nums(n1, n2):\n",
    "    result = n1 + n2\n",
    "    print(f'{n1} + {n2} = {result}')"
   ]
  },
  {
   "cell_type": "markdown",
   "id": "77119ec6",
   "metadata": {},
   "source": [
    "* It expects two numeric arguments, which it will add together and then display the result using `print()`."
   ]
  },
  {
   "cell_type": "code",
   "execution_count": null,
   "id": "d2a2af40",
   "metadata": {},
   "outputs": [],
   "source": [
    "add_nums(5,7)"
   ]
  },
  {
   "cell_type": "code",
   "execution_count": null,
   "id": "0bfb36a5",
   "metadata": {},
   "outputs": [],
   "source": [
    "add_nums(12,11)"
   ]
  },
  {
   "cell_type": "markdown",
   "id": "f9b8ef8d",
   "metadata": {},
   "source": [
    "* It works as we expect. But usually we won't the answer back as an object we can use in some other code steps.\n",
    "\n",
    "\n",
    "* To pass back an object we use `return OBJ` as the last line of the function code block."
   ]
  },
  {
   "cell_type": "code",
   "execution_count": null,
   "id": "a5b81cba",
   "metadata": {},
   "outputs": [],
   "source": [
    "def add_nums(n1, n2):\n",
    "    result = n1+n2\n",
    "    return result    # pass back the result object "
   ]
  },
  {
   "cell_type": "markdown",
   "id": "82ab9d5f",
   "metadata": {},
   "source": [
    "* So now when we call `add_nums(arg1, arg2)` we get back an object that contains the result of adding the two numbers together."
   ]
  },
  {
   "cell_type": "code",
   "execution_count": null,
   "id": "f7dd6bea",
   "metadata": {},
   "outputs": [],
   "source": [
    "add_nums(1,15)"
   ]
  },
  {
   "cell_type": "code",
   "execution_count": null,
   "id": "fdb31184",
   "metadata": {},
   "outputs": [],
   "source": [
    "add_nums(-10,3)"
   ]
  },
  {
   "cell_type": "markdown",
   "id": "2d4d0702",
   "metadata": {},
   "source": [
    "* So we might use the result of calling `add_nums()` twice in a conditional construction\n",
    "    * Is 10+15 > 11+13\n",
    "    * If the answer is 'Yes' (`True`) then display:\n",
    "        > 10+15 > 11+13"
   ]
  },
  {
   "cell_type": "code",
   "execution_count": null,
   "id": "b7b8caaf",
   "metadata": {},
   "outputs": [],
   "source": [
    "if add_nums(10,15) > add_nums(11,13):\n",
    "    print('10+15 > 11+13')"
   ]
  },
  {
   "cell_type": "markdown",
   "id": "ffcb377e",
   "metadata": {},
   "source": [
    "* Another example would be calculate the average or mean of a list of numbers.\n",
    "\n",
    "\n",
    "* So far, given a list of numbers called `nums`, we have done this:\n",
    "    ```\n",
    "    total = sum(nums)\n",
    "    avg = total/len(nums)\n",
    "    \n",
    "    \n",
    "    ```\n",
    " \n",
    " \n",
    "* If we want to do it for a second list, `nums2`:\n",
    "    ```\n",
    "    total2 = sum(nums2)\n",
    "    avg2 = total/len(nums2)\n",
    "    \n",
    "    \n",
    "    ```\n",
    "    \n",
    "  and so on.\n",
    "  \n",
    "  \n",
    "* But we definition a function called `mean` that takes a list of numbers as its argument and returns the resuls of suming the numbers and dividing by the length of the list of numbers."
   ]
  },
  {
   "cell_type": "code",
   "execution_count": null,
   "id": "6ee1c2ff",
   "metadata": {},
   "outputs": [],
   "source": [
    "def mean(nums):\n",
    "    total = sum(nums)\n",
    "    avg = total / len(nums)\n",
    "    \n",
    "    return avg"
   ]
  },
  {
   "cell_type": "markdown",
   "id": "3383da2c",
   "metadata": {},
   "source": [
    "* Then we can calculate the mean of any list of numbers easily, with one line of code."
   ]
  },
  {
   "cell_type": "code",
   "execution_count": null,
   "id": "baf022c8",
   "metadata": {},
   "outputs": [],
   "source": [
    "mean([1,5,10])"
   ]
  },
  {
   "cell_type": "code",
   "execution_count": null,
   "id": "a07388cc",
   "metadata": {},
   "outputs": [],
   "source": [
    "mean([434, 3434, 343434])"
   ]
  },
  {
   "cell_type": "code",
   "execution_count": null,
   "id": "09c6c9b0",
   "metadata": {},
   "outputs": [],
   "source": [
    "# use range(1,101) to generate a sequence of integers\n",
    "# from 1 to 100\n",
    "\n",
    "mean(range(1,101))"
   ]
  },
  {
   "cell_type": "markdown",
   "id": "990d6ff3",
   "metadata": {},
   "source": [
    "### Example: Function to calculate the median\n",
    "\n",
    "* The median of a list of numbers is usually defined as __the number in the middle of the list when the list is sorted in ascending order__.\n",
    "\n",
    "\n",
    "* This is straight forward _when the list has an odd number of items_, because there is a single middle item.\n",
    "\n",
    "\n",
    "* When _the list has an even number of items_, the median is defined as the average of the two middle items.\n",
    "\n",
    "\n",
    "* For example, given the list:\n",
    "    ```\n",
    "    [ 15, 1, 74, 3, 2 ]\n",
    "    ```\n",
    "  1. sort the list\n",
    "    ```\n",
    "    [ 1, 2, 3, 15, 74 ]\n",
    "    ```\n",
    "  2. select the middle (the 3rd of 5 items, i.e. index `2`)\n",
    "    ```\n",
    "    3\n",
    "    ```\n",
    "    \n",
    "    \n",
    "* If we add another item to the list to make it 6 items long:\n",
    "    ```\n",
    "    [ 15, 1, 74, 3, 2, 9 ]\n",
    "    ```\n",
    "  1. sort the list\n",
    "    ```\n",
    "    [ 1, 2, 3, 9, 15, 74 ]\n",
    "    ```\n",
    "  2. select the two idems in middle (the 3rd and 4th of 6 items, i.e. slice `2:4`)\n",
    "    ```\n",
    "    [3, 9]\n",
    "    ```\n",
    "  3. calculate the mean of these two numbers\n",
    "    ```\n",
    "    6\n",
    "    ```"
   ]
  },
  {
   "cell_type": "markdown",
   "id": "92cdb78e",
   "metadata": {},
   "source": [
    "* In Python the `/` operator is used for division. So given a list of 5 items the middle would be the _3rd item_ with an index of `2`."
   ]
  },
  {
   "cell_type": "code",
   "execution_count": null,
   "id": "21e838a7",
   "metadata": {},
   "outputs": [],
   "source": [
    "5 / 2"
   ]
  },
  {
   "cell_type": "markdown",
   "id": "eae32454",
   "metadata": {},
   "source": [
    "* But list indexes must be whole numbers (`int` objects)\n",
    "\n",
    "* So we could use the `int()` function"
   ]
  },
  {
   "cell_type": "code",
   "execution_count": null,
   "id": "f6f7c2ff",
   "metadata": {},
   "outputs": [],
   "source": [
    "int(5/2)"
   ]
  },
  {
   "cell_type": "markdown",
   "id": "266c19b9",
   "metadata": {},
   "source": [
    "* Or more conveniently we can use the `//` operator with does __integer division__."
   ]
  },
  {
   "cell_type": "code",
   "execution_count": null,
   "id": "2c14da35",
   "metadata": {},
   "outputs": [],
   "source": [
    "5//2"
   ]
  },
  {
   "cell_type": "markdown",
   "id": "89cbbd85",
   "metadata": {},
   "source": [
    "* Another useful operator is the __modulo operator__ which is a `%` character. It returns the remainder of the division that results in a fraction, e.g. 2 goes into 5 twice with a _remainder_ of 1."
   ]
  },
  {
   "cell_type": "code",
   "execution_count": null,
   "id": "d799833b",
   "metadata": {},
   "outputs": [],
   "source": [
    "5 % 2"
   ]
  },
  {
   "cell_type": "markdown",
   "id": "70b972b5",
   "metadata": {},
   "source": [
    "* This is helpful for determining whether a number is odd (will have a modulo > 0) or even (modulo value will be `0`).\n",
    "\n",
    "\n",
    "#### Defining the `median()` function"
   ]
  },
  {
   "cell_type": "code",
   "execution_count": null,
   "id": "87753f6e",
   "metadata": {
    "editable": true,
    "slideshow": {
     "slide_type": ""
    },
    "tags": []
   },
   "outputs": [],
   "source": [
    "def median(nums):\n",
    "    \n",
    "    # get the length of the list of numbers\n",
    "    length = len(nums)\n",
    "    \n",
    "    # use integer division to get the index of the middle item\n",
    "    middle_idx = length//2\n",
    "    \n",
    "    # create a copy of the nums sorted in ascending order\n",
    "    nums_ordered = sorted(nums)\n",
    "    \n",
    "    # if the list has an odd number of items there will be a single middle item\n",
    "    # and that can be return\n",
    "    if length % 2:\n",
    "        middle_item = nums_ordered[middle_idx]\n",
    "    else:\n",
    "    # if the list has an even number of items calculate the mean of the middle two\n",
    "        middle_item = sum(nums_ordered[middle_idx-1:middle_idx+1])/2\n",
    "\n",
    "    # return the middle item\n",
    "    return middle_item"
   ]
  },
  {
   "cell_type": "code",
   "execution_count": null,
   "id": "fc34d16e",
   "metadata": {},
   "outputs": [],
   "source": [
    "median([ 15, 1, 74, 3, 2 ])"
   ]
  },
  {
   "cell_type": "code",
   "execution_count": null,
   "id": "e27bff5b",
   "metadata": {},
   "outputs": [],
   "source": [
    "median([ 1, 2, 3, 9, 15, 74 ])"
   ]
  },
  {
   "cell_type": "code",
   "execution_count": null,
   "id": "8ed05838",
   "metadata": {
    "editable": true,
    "slideshow": {
     "slide_type": ""
    },
    "tags": []
   },
   "outputs": [],
   "source": []
  }
 ],
 "metadata": {
  "citation-manager": {
   "items": {}
  },
  "kernelspec": {
   "display_name": "Python 3 (ipykernel)",
   "language": "python",
   "name": "python3"
  },
  "language_info": {
   "codemirror_mode": {
    "name": "ipython",
    "version": 3
   },
   "file_extension": ".py",
   "mimetype": "text/x-python",
   "name": "python",
   "nbconvert_exporter": "python",
   "pygments_lexer": "ipython3",
   "version": "3.10.12"
  }
 },
 "nbformat": 4,
 "nbformat_minor": 5
}
