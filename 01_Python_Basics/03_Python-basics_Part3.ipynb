{
 "cells": [
  {
   "cell_type": "markdown",
   "metadata": {
    "editable": true,
    "slideshow": {
     "slide_type": ""
    },
    "tags": []
   },
   "source": [
    "<div>\n",
    "<img src=\"img/python_logo.png\" width=\"100px\" style=\"float: left; \"/> \n",
    "<div style=\"font-size: 40px; padding-top: 20px\">Python basics</div>   \n",
    "<div style=\"font-size: 30px; padding-top: 20px\">Part 3 - Conditions and Loops</div>   \n",
    "</div>\n",
    "\n",
    " \n",
    "<h2 style=\"clear: both\">COMM4190 Spring 2025</h2>\n",
    "\n",
    "<h3>Instructor: Matt O'Donnell (mbod@asc.upenn.edu)</h3>\n",
    "\n",
    "-----\n",
    "\n",
    "<div class=\"alert alert-info\">\n",
    "\n",
    "## Overview\n",
    "\n",
    "* This notebook will cover:\n",
    "    1. __CODE BLOCKS__ - are one or more lines of code that are executed by Python in order\n",
    "        * Comments are lines that can be used in a code block to document function but are not executed.\n",
    "            * It is good practice to use comments to outline the steps in a process\n",
    "            * Comments are lines in a code block that begin with the `#` (hash) character\n",
    "             \n",
    "        * _Code indentation_ - initial indentation of a line of code shows which code block it is a part of. Different levels work a bit like bulleted lists in a document.\n",
    "        <br/><br/>\n",
    "    2. __CONDITIONS__ - are constructions in Python that allow you to direct the steps your code on the basis of the result of a test.\n",
    "        * You can think of conditions like a decision tree where at a certain point you might as 'Is this true or not?' and you follow different paths depending on whether the answer is _YES_ or _NO_.\n",
    "        * _Conditional constructions_ will have at least one test and associated code block\n",
    "            * The syntax is:\n",
    "              ```\n",
    "              if TEST:\n",
    "                 # code block executed if TEST is True\n",
    "              ```\n",
    "    3. __LOOPS__ - are constructions in Python that allow you to _walk through_ each item in a sequence (e.g. a `list` object) and carry out a series of steps (in a __code block__) with each step.\n",
    "        * The most commonly used loop construction in Python is the __FOR LOOP__.\n",
    "        * _For loop constructions_ will have at least one test and associated code block\n",
    "            * The syntax is:\n",
    "              ```\n",
    "              for POINTER in LIST:\n",
    "                 # code block executed for each item in LIST\n",
    "              ```\n",
    "\n",
    "    4. __LOOP AND FILTER PARADIGM__ - a way to build process a list and select a subset of items.\n",
    "        * This Python idiom combines a for loop with a condition in the code block to create a subset of a list based of certain criteria.\n",
    "        * The syntax is:\n",
    "            ```\n",
    "            filtered_list = []\n",
    "            for item in list:\n",
    "                if FILTER_TEST:\n",
    "                   filtered_list.append(item)\n",
    "            ```\n",
    "    \n",
    "    \n",
    "</div>\n",
    "    \n",
    "    \n",
    "------"
   ]
  },
  {
   "cell_type": "markdown",
   "metadata": {},
   "source": [
    "## 1. Code Blocks\n",
    "\n",
    "* When more than one line of code is included in a code cell and you run the cell, each line is executed in turn in the order they appear, from top to bottom.\n",
    "    * For example:"
   ]
  },
  {
   "cell_type": "code",
   "execution_count": null,
   "metadata": {},
   "outputs": [],
   "source": [
    "print('Step 1')\n",
    "print('Step 2')\n",
    "print('Step 3')"
   ]
  },
  {
   "cell_type": "markdown",
   "metadata": {},
   "source": [
    "* This is refered to as a __CODE BLOCK__.\n",
    "\n",
    "\n",
    "* As we develop a series of common steps to process text (which we will sometimes refer to as a _processing pipeline_), we will start to group them into code blocks.\n",
    "\n",
    "\n",
    "* For example, lets take the process of _normalizing_ and _tokenizing_ a sentence like:\n",
    "    ```\n",
    "    This, is some text!\n",
    "    ```\n",
    "    \n",
    "* We want to do three things:\n",
    "    1. remove the punctuation from the string\n",
    "    2. transform all the characters into the same case (e.g. uppercase)\n",
    "    3. create a list of tokens by splitting on whitespace\n",
    "    \n",
    "    \n",
    "\n",
    "* Here is a code block that carries out those three steps:"
   ]
  },
  {
   "cell_type": "code",
   "execution_count": null,
   "metadata": {},
   "outputs": [],
   "source": [
    "a_string = 'This, is some text!'\n",
    "a_string_np = a_string.replace(',','').replace('!','')\n",
    "a_string_uc = a_string_np.upper()\n",
    "tokens = a_string_uc.split()\n",
    "print(tokens)"
   ]
  },
  {
   "cell_type": "markdown",
   "metadata": {},
   "source": [
    "### Comments\n",
    "\n",
    "* __Comments__ are lines included in a code block that provide documentation of what the code does so that you and readers of your code can more easily follow it.\n",
    "\n",
    "\n",
    "* A comment is a line in a code block that begins with a `#` (hash)\n",
    "\n",
    "\n",
    "* Using comments is a good way to start working out a code solution. First outline the steps you want your code to carry out to provide a template for your code.\n",
    "\n",
    "    * For example:"
   ]
  },
  {
   "cell_type": "code",
   "execution_count": null,
   "metadata": {},
   "outputs": [],
   "source": [
    "# Step 1. remove the punctuation from the string\n",
    "\n",
    "# Step 2. transform all the characters into the same case (e.g. uppercase)\n",
    "\n",
    "# Step 3. create a list of tokens by splitting on whitespace"
   ]
  },
  {
   "cell_type": "markdown",
   "metadata": {},
   "source": [
    "* Then you can work through and fill in the code for each step\n",
    "\n",
    "\n",
    "* Add code for Step 1:"
   ]
  },
  {
   "cell_type": "code",
   "execution_count": null,
   "metadata": {},
   "outputs": [],
   "source": [
    "a_string = 'This, is some text!'\n",
    "\n",
    "# Step 1. remove the punctuation from the string\n",
    "a_string_np = a_string.replace(',','').replace('!','')\n",
    "\n",
    "# Step 2. transform all the characters into the same case (e.g. uppercase)\n",
    "\n",
    "# Step 3. create a list of tokens by splitting on whitespace"
   ]
  },
  {
   "cell_type": "code",
   "execution_count": null,
   "metadata": {},
   "outputs": [],
   "source": [
    "a_string_np"
   ]
  },
  {
   "cell_type": "markdown",
   "metadata": {},
   "source": [
    "* Add code for Step 2:"
   ]
  },
  {
   "cell_type": "code",
   "execution_count": null,
   "metadata": {},
   "outputs": [],
   "source": [
    "a_string = 'This, is some text!'\n",
    "\n",
    "# Step 1. remove the punctuation from the string\n",
    "a_string_np = a_string.replace(',','').replace('!','')\n",
    "\n",
    "# Step 2. transform all the characters into the same case (e.g. uppercase)\n",
    "a_string_uc = a_string_np.upper()\n",
    "\n",
    "# Step 3. create a list of tokens by splitting on whitespace"
   ]
  },
  {
   "cell_type": "markdown",
   "metadata": {},
   "source": [
    "* Add code for Step 3:"
   ]
  },
  {
   "cell_type": "code",
   "execution_count": null,
   "metadata": {},
   "outputs": [],
   "source": [
    "a_string = 'This, is some text!'\n",
    "\n",
    "# Step 1. remove the punctuation from the string\n",
    "a_string_np = a_string.replace(',','').replace('!','')\n",
    "\n",
    "# Step 2. transform all the characters into the same case (e.g. uppercase)\n",
    "a_string_uc = a_string_np.upper()\n",
    "\n",
    "# Step 3. create a list of tokens by splitting on whitespace\n",
    "tokens = a_string_uc.split()\n",
    "\n",
    "print(tokens)"
   ]
  },
  {
   "cell_type": "markdown",
   "metadata": {},
   "source": [
    "### Indentation\n",
    "\n",
    "* In Python indentation in code blocks is important and are part of the syntax.\n",
    "\n",
    "\n",
    "* Series of lines that have the same amount of initial indentation function as a code block."
   ]
  },
  {
   "cell_type": "markdown",
   "metadata": {},
   "source": [
    "## 2. Conditions\n",
    "\n",
    "* Frequently we want to only do something if some condition is met (or is `True`)\n",
    "\n",
    "\n",
    "* For instance, if we test whether a string is all in lowercase with the `.islower()` function we get back a logical value, either:\n",
    "    * `True`\n",
    "    \n",
    "  or\n",
    "    * `False`\n",
    "    \n",
    "* Let's create two string objects with values:\n",
    "    1. `Matt`\n",
    "    2. `matt`\n",
    "    \n",
    "  and used _named pointers_\n",
    "  \n",
    "    1. `name`\n",
    "    2. `name_lc`\n",
    "    \n",
    "  to reference them."
   ]
  },
  {
   "cell_type": "code",
   "execution_count": null,
   "metadata": {},
   "outputs": [],
   "source": [
    "name='Matt'\n",
    "name_lc='matt'"
   ]
  },
  {
   "cell_type": "markdown",
   "metadata": {},
   "source": [
    "* These are string objects so we can use one of the *string specific functions*, called `islower()` to ask Python whether the value in the object has characters that are **all in lowercase**."
   ]
  },
  {
   "cell_type": "code",
   "execution_count": null,
   "metadata": {},
   "outputs": [],
   "source": [
    "name.islower()"
   ]
  },
  {
   "cell_type": "code",
   "execution_count": null,
   "metadata": {},
   "outputs": [],
   "source": [
    "name_lc.islower()"
   ]
  },
  {
   "cell_type": "markdown",
   "metadata": {},
   "source": [
    "* Now lets suppose we wanted to print a message based on whether or not this test is `True` or `False`"
   ]
  },
  {
   "cell_type": "code",
   "execution_count": null,
   "metadata": {},
   "outputs": [],
   "source": [
    "result = name.islower()\n",
    "print(f'\"{name}\" is all in lowercase is {result}')"
   ]
  },
  {
   "cell_type": "code",
   "execution_count": null,
   "metadata": {},
   "outputs": [],
   "source": [
    "result2 = name_lc.islower()\n",
    "print(f'\"{name_lc}\" is all in lowercase is {result2}')"
   ]
  },
  {
   "cell_type": "markdown",
   "metadata": {},
   "source": [
    "* __BUT__ really what we want if to display the statement __ONLY__ if the test is true.\n",
    "\n",
    "\n",
    "* This is where we use a **CONDITIONAL**."
   ]
  },
  {
   "cell_type": "code",
   "execution_count": null,
   "metadata": {},
   "outputs": [],
   "source": [
    "if name.islower():\n",
    "    print(f'\"{name}\" is all in lowercase')"
   ]
  },
  {
   "cell_type": "markdown",
   "metadata": {},
   "source": [
    "* No output is displayed because `name.islower()` is `False`"
   ]
  },
  {
   "cell_type": "markdown",
   "metadata": {},
   "source": [
    "* The syntax for a conditional in Python is:\n",
    "    ```\n",
    "    if TEST:\n",
    "       # code block\n",
    "    ```\n",
    "    \n",
    "    * Where:\n",
    "      * `TEST` is some Python that results in a `True` or `False` value\n",
    "      * And `code block` is __one or more indented lines__ of Python\n",
    "\n",
    "    * __NOTE__ The colon `:` after the test __MUST BE PRESENT__.\n",
    "      * This signals that following indented lines (the code block) are grouped together and only to be executed if `TEST` is `True`."
   ]
  },
  {
   "cell_type": "code",
   "execution_count": null,
   "metadata": {},
   "outputs": [],
   "source": [
    "name.isupper()"
   ]
  },
  {
   "cell_type": "code",
   "execution_count": null,
   "metadata": {},
   "outputs": [],
   "source": [
    "if name.upper().isupper():\n",
    "    print('Is upper')\n",
    "    \n",
    "print('Not part of code block')"
   ]
  },
  {
   "cell_type": "markdown",
   "metadata": {},
   "source": [
    "#### Some test operations for numbers"
   ]
  },
  {
   "cell_type": "code",
   "execution_count": null,
   "metadata": {},
   "outputs": [],
   "source": [
    "1>2"
   ]
  },
  {
   "cell_type": "code",
   "execution_count": null,
   "metadata": {},
   "outputs": [],
   "source": [
    "2>1"
   ]
  },
  {
   "cell_type": "markdown",
   "metadata": {},
   "source": [
    "* To test whether two numeric values are the same __USE A DOUBLE EQUAL__"
   ]
  },
  {
   "cell_type": "code",
   "execution_count": null,
   "metadata": {},
   "outputs": [],
   "source": [
    "2==2"
   ]
  },
  {
   "cell_type": "code",
   "execution_count": null,
   "metadata": {},
   "outputs": [],
   "source": [
    "1==3"
   ]
  },
  {
   "cell_type": "code",
   "execution_count": null,
   "metadata": {},
   "outputs": [],
   "source": [
    "# not equal to\n",
    "1!=3"
   ]
  },
  {
   "cell_type": "code",
   "execution_count": null,
   "metadata": {},
   "outputs": [],
   "source": [
    "if 1>2:\n",
    "    print(\"Something is wrong with Math\")\n",
    "    print(\"I better check what is going\")"
   ]
  },
  {
   "cell_type": "markdown",
   "metadata": {},
   "source": [
    "* We can invert a conditional test with `not`"
   ]
  },
  {
   "cell_type": "code",
   "execution_count": null,
   "metadata": {},
   "outputs": [],
   "source": [
    "1>2"
   ]
  },
  {
   "cell_type": "code",
   "execution_count": null,
   "metadata": {},
   "outputs": [],
   "source": [
    "not 1>2"
   ]
  },
  {
   "cell_type": "code",
   "execution_count": null,
   "metadata": {},
   "outputs": [],
   "source": [
    "if not 1>2:\n",
    "    print(\"OK that's good... math is still working!\")"
   ]
  },
  {
   "cell_type": "markdown",
   "metadata": {},
   "source": [
    "#### IF-ELSE\n",
    "\n",
    "* Often you want your code to do one thing if the result of the test is `True` and another different thing if the result is `False`.\n",
    "\n",
    "\n",
    "* The syntax in Python for this is:\n",
    "\n",
    "    ```\n",
    "    if TEST:\n",
    "       # code block 1\n",
    "       # ...\n",
    "    else:\n",
    "       # code block 2\n",
    "       # ...\n",
    "    ```\n",
    "\n",
    "* Where:\n",
    "  * `TEST` is some Python that results in a `True` or `False` value\n",
    "  * And `code block 1` is __one or more indented lines__ of Python to be executed if `TEST` is `True`\n",
    "  * And `code block 2` is __one or more indented lines__ of Python to be executed if `TEST` is `False`\n",
    "  "
   ]
  },
  {
   "cell_type": "code",
   "execution_count": null,
   "metadata": {},
   "outputs": [],
   "source": [
    "if 1>2:\n",
    "    print('Something is wrong with math')\n",
    "else:\n",
    "    print(\"OK that's good... math is still working!\")"
   ]
  },
  {
   "cell_type": "code",
   "execution_count": null,
   "metadata": {},
   "outputs": [],
   "source": [
    "if name.islower():\n",
    "    print(f'{name} is all in lowercase characters')\n",
    "else:\n",
    "    print(f'{name} is NOT all in lowercase characters')\n",
    "    "
   ]
  },
  {
   "cell_type": "markdown",
   "metadata": {},
   "source": [
    "## 3. Using loops to walk through a sequence\n",
    "\n",
    "\n",
    "* So far we have used list _indexing_ and _slicing_ to access the items in a list.\n",
    "\n",
    "\n",
    "* For example, given the list of tokens:\n",
    "    ```\n",
    "    ['This', 'is', 'a', 'SENTENCE']\n",
    "    ```\n",
    "    \n",
    "    "
   ]
  },
  {
   "cell_type": "code",
   "execution_count": null,
   "metadata": {},
   "outputs": [],
   "source": [
    "sentence = ['This', 'is', 'a', 'SENTENCE']"
   ]
  },
  {
   "cell_type": "markdown",
   "metadata": {},
   "source": [
    "#### Example 1. Display each of the tokens on a separate line\n",
    "\n",
    "\n",
    "* If we wanted to display of the tokens on a separate line, we could combine a call to the `print()` function and indexing each of the items in turn"
   ]
  },
  {
   "cell_type": "code",
   "execution_count": null,
   "metadata": {},
   "outputs": [],
   "source": [
    "print(sentence[0])\n",
    "print(sentence[1])\n",
    "print(sentence[2])\n",
    "print(sentence[3])"
   ]
  },
  {
   "cell_type": "markdown",
   "metadata": {},
   "source": [
    "* This is just about reasonable when the list of items is short. But it would become increasing verbose and untenable as the length of the list grows.\n",
    "\n",
    "\n",
    "\n",
    "#### Example 2. Test each token for case of first character\n",
    "\n",
    "* And what if we wanted to do more than just display each item but show two different messages depending on whether, for instance, the item in the list began with an uppercase character or not?\n",
    "\n"
   ]
  },
  {
   "cell_type": "code",
   "execution_count": null,
   "metadata": {},
   "outputs": [],
   "source": [
    "# define string templates for each of the messages\n",
    "is_uc = \"'{}' begins with an uppercase character\"\n",
    "isnot_uc = \"'{}' does not begin with an uppercase character\""
   ]
  },
  {
   "cell_type": "markdown",
   "metadata": {},
   "source": [
    "* We can select the first character of a token using indexing of the first character (index `0`)"
   ]
  },
  {
   "cell_type": "code",
   "execution_count": null,
   "metadata": {},
   "outputs": [],
   "source": [
    "sentence[0][0]"
   ]
  },
  {
   "cell_type": "markdown",
   "metadata": {},
   "source": [
    "* Here we have two levels of indexing\n",
    "    1. select the first item in the `list` object `sentence`\n",
    "        ```\n",
    "        sentence[0]\n",
    "        ```\n",
    "       \n",
    "       returns a `str` object `This` <br/><br/>\n",
    "    2. apply string indexing to access the first character of this `str` object\n",
    "        ```\n",
    "        'This'[0]\n",
    "        ```\n",
    "        \n",
    "        returns `T`\n",
    "        \n",
    "  So combining them we have:\n",
    "  ```\n",
    "  sentence[0][0]\n",
    "  ```\n",
    "  \n",
    "  \n",
    "* Then we set up a condition with an `if-else` construct"
   ]
  },
  {
   "cell_type": "code",
   "execution_count": null,
   "metadata": {},
   "outputs": [],
   "source": [
    "if sentence[0][0].isupper():\n",
    "    print(is_uc.format(sentence[0]))\n",
    "else:\n",
    "    print(isnot_uc.format(sentence[0]))"
   ]
  },
  {
   "cell_type": "markdown",
   "metadata": {},
   "source": [
    "* To apply this to each of the four items in the list we would need to duplicate it for each item"
   ]
  },
  {
   "cell_type": "code",
   "execution_count": null,
   "metadata": {},
   "outputs": [],
   "source": [
    "# process item 1 (index 0)\n",
    "if sentence[0][0].isupper():\n",
    "    print(is_uc.format(sentence[0]))\n",
    "else:\n",
    "    print(isnot_uc.format(sentence[0]))\n",
    "    \n",
    "# process item 2 (index 1)\n",
    "if sentence[1][0].isupper():\n",
    "    print(is_uc.format(sentence[1]))\n",
    "else:\n",
    "    print(isnot_uc.format(sentence[1]))\n",
    "    \n",
    "# process item 3 (index 2)\n",
    "if sentence[2][0].isupper():\n",
    "    print(is_uc.format(sentence[2]))\n",
    "else:\n",
    "    print(isnot_uc.format(sentence[2]))\n",
    "     \n",
    "# process item 4 (index 3)\n",
    "if sentence[3][0].isupper():\n",
    "    print(is_uc.format(sentence[3]))\n",
    "else:\n",
    "    print(isnot_uc.format(sentence[3]))\n",
    "  "
   ]
  },
  {
   "cell_type": "markdown",
   "metadata": {},
   "source": [
    "\n",
    "* Imagine if we had 100 or 1000 or 10000 items in our list!\n",
    "\n",
    "\n",
    "* This is were we can use a _for loop_ that allows us to **walk through each item in the list**.\n",
    "  * The syntax is:\n",
    "      ```\n",
    "      for POINTER in LIST:\n",
    "          # code block\n",
    "      ```\n",
    "      \n",
    "  * The key components are:\n",
    "      1. a `list` object to walk through (`LIST`)\n",
    "      2. a moving reference or name pointer (`POINTER`)\n",
    "      3. the `:` (colon) at the end of the line beginning with `for` \n",
    "          * WITHOUT THIS YOU WILL GET A SYNTAX ERROR\n",
    "      3. some steps of code to carry out with each step (the `code block`)\n",
    "          * notice the indentation"
   ]
  },
  {
   "cell_type": "markdown",
   "metadata": {},
   "source": [
    "#### Example 1 Revisted\n",
    "\n",
    "* Using a for loop construction we can replace:\n",
    "\n",
    "    ```\n",
    "    print(sentence[0])\n",
    "    print(sentence[1])\n",
    "    print(sentence[2])\n",
    "    print(sentence[3])\n",
    "    ```\n",
    "    \n",
    "  with:"
   ]
  },
  {
   "cell_type": "code",
   "execution_count": null,
   "metadata": {},
   "outputs": [],
   "source": [
    "for token in sentence:\n",
    "    print(token)"
   ]
  },
  {
   "cell_type": "markdown",
   "metadata": {},
   "source": [
    "* Here take notice the following:\n",
    "    1. `sentence` is the list object to 'walk through' item-by-item from the first to the last item\n",
    "    2. `token` is a name pointer used to reference the current item in the walk and this can be used in the code block to process each item\n",
    "    3. the colon (`:`) at the end of the first line\n",
    "    4. the code block is indented and here is a single line of code `print(token)`"
   ]
  },
  {
   "cell_type": "markdown",
   "metadata": {},
   "source": [
    "#### Example 2 Revisted\n",
    "\n",
    "* The for loop construct allows us to remove the duplication of the `if-else` code block "
   ]
  },
  {
   "cell_type": "code",
   "execution_count": null,
   "metadata": {},
   "outputs": [],
   "source": [
    "for token in sentence:\n",
    "    if token[0].isupper():\n",
    "        print(is_uc.format(token))\n",
    "    else:\n",
    "        print(isnot_uc.format(token))"
   ]
  },
  {
   "cell_type": "markdown",
   "metadata": {},
   "source": [
    "* The first line that sets up the loop is the same as in Example 1 Revisted\n",
    "\n",
    "\n",
    "* The code block has the `if-else` construct from Example 2 but uses the `token` pointer from the loop\n",
    "  * the test in the `if` line selects the first character in the `str` object currently referenced by `token` and applies the `isupper()` function.\n",
    "      * if the result is `True` then the indented code underneath (`print(is_uc.format(token))`) is executed\n",
    "      * but if the result is `False` then the indented code in the `else` code block is executed (`print(isnot_uc.format(token))`)\n",
    "  "
   ]
  },
  {
   "cell_type": "markdown",
   "metadata": {},
   "source": [
    "## 4. The _Loop and Filter_ paradigm\n",
    "\n",
    "### Filtering `list` objects using loops\n",
    "\n",
    "* Here we have a list of words, i.e. a sentence represented as an __ORDERED SEQUENCE OF TOKENS__, where a token is a `str` object."
   ]
  },
  {
   "cell_type": "code",
   "execution_count": null,
   "metadata": {},
   "outputs": [],
   "source": [
    "sentence = ['This', 'is', 'A', 'sentence', 'represented', 'as', 'a', 'LIST']"
   ]
  },
  {
   "cell_type": "markdown",
   "metadata": {},
   "source": [
    "* We have seen using _indexing_ and _slicing_ as ways to access the items in a `list` object"
   ]
  },
  {
   "cell_type": "code",
   "execution_count": null,
   "metadata": {},
   "outputs": [],
   "source": [
    "sentence[0]"
   ]
  },
  {
   "cell_type": "code",
   "execution_count": null,
   "metadata": {},
   "outputs": [],
   "source": [
    "sentence[2:4]"
   ]
  },
  {
   "cell_type": "markdown",
   "metadata": {},
   "source": [
    "* A __LOOP__ in Python is a construct that allows each item in a list to be processed in turn"
   ]
  },
  {
   "cell_type": "code",
   "execution_count": null,
   "metadata": {},
   "outputs": [],
   "source": [
    "for token in sentence:\n",
    "    print(token)"
   ]
  },
  {
   "cell_type": "markdown",
   "metadata": {
    "jp-MarkdownHeadingCollapsed": true,
    "tags": []
   },
   "source": [
    "* The code block in this example calls the `print()` function to display the data in the current `str` object which is referenced by the name pointer `token` at each step in the loop.\n",
    "\n",
    "\n",
    "#### Create a copy of a list using a list\n",
    "\n",
    "* Imagine we wanted to create another `list` object called `sentence_copy`. One way to do this would be to:\n",
    "  1. create an empty list called `sentence_copy`\n",
    "  2. walk through all the items in `sentence` (using a for loop)\n",
    "  3. and add each item to `sentence_copy` using the list `.append()` function"
   ]
  },
  {
   "cell_type": "code",
   "execution_count": null,
   "metadata": {},
   "outputs": [],
   "source": [
    "sentence_copy = []\n",
    "\n",
    "for item in sentence:\n",
    "    sentence_copy.append(item)"
   ]
  },
  {
   "cell_type": "code",
   "execution_count": null,
   "metadata": {},
   "outputs": [],
   "source": [
    "sentence_copy"
   ]
  },
  {
   "cell_type": "markdown",
   "metadata": {},
   "source": [
    "* The following code cell repeats this but adds some calls to `print()` to provide a step-by-step display of what is happening\n",
    "\n",
    "  1. Before the loop begins `sentence_copy` is an empty list\n",
    "  2. At each step of the walk through the list `sentence` the pointer `token` references the item in `sentence` at the current position in the walk\n",
    "  3. In the loop code block, we add this item to the end of the list referenced by `sentence_copy`\n",
    "  4. And then display the item currently referenced by `token` and the contents of `sentence_copy`"
   ]
  },
  {
   "cell_type": "code",
   "execution_count": null,
   "metadata": {},
   "outputs": [],
   "source": [
    "tmpl = \"Step {}\\n\\ttoken => '{}' (index={})\\n\\tsentence_copy {}\\n\\n\"\n",
    "\n",
    "sentence_copy = []\n",
    "\n",
    "print('Before loop begins\\n\\tsentence_copy {}\\n\\n'.format(sentence_copy))\n",
    "\n",
    "for idx, token in enumerate(sentence):\n",
    "    sentence_copy.append(token)\n",
    "    print(tmpl.format(idx+1, token, idx, sentence_copy))\n",
    "    \n",
    "print('After loop completed\\n\\tsentence_copy {}\\n\\n'.format(sentence_copy))\n"
   ]
  },
  {
   "cell_type": "markdown",
   "metadata": {},
   "source": [
    "* This pattern is the basis of the __LOOP AND FILTER__ paradigm\n",
    "    * If you have a list of items and you want create a new list that only contains certain of these items based on some criterion or criteria, then the _loop and filter_ pattern will look like:\n",
    "\n",
    "    ```\n",
    "    filtered_list = []\n",
    "\n",
    "    for item in your_list:\n",
    "        if TEST_ON_ITEM:\n",
    "           filtered_list.append(item)\n",
    "    ```\n",
    "    \n",
    "  where:\n",
    "  * `your_list` is a `list` object you wish to filter\n",
    "  * `TEST_ON_ITEM` is some test or function call that returns `True` or `False` based of the value referenced by `item`\n",
    "    * For example, if `item` referenced a `str` object then you could test to see if all the characters are lowercase:\n",
    "        ```\n",
    "        if item.lower():\n",
    "           ...\n",
    "        ```"
   ]
  },
  {
   "cell_type": "markdown",
   "metadata": {},
   "source": [
    "#### Select the tokens in `sentence` that are in uppercase\n",
    "\n",
    "* We can apply the __loop and filter__ paradigm to our list of tokens, `sentence` to select/filter tokens that are in uppercase"
   ]
  },
  {
   "cell_type": "code",
   "execution_count": null,
   "metadata": {},
   "outputs": [],
   "source": [
    "UC_tokens = []\n",
    "\n",
    "for token in sentence:\n",
    "    if token.isupper():\n",
    "        UC_tokens.append(token)"
   ]
  },
  {
   "cell_type": "code",
   "execution_count": null,
   "metadata": {},
   "outputs": [],
   "source": [
    "UC_tokens"
   ]
  },
  {
   "cell_type": "markdown",
   "metadata": {},
   "source": [
    "* Note the components of the loop and filter paradigm:\n",
    "    1. create an empty list (`UC_tokens=[]`)\n",
    "    2. set up a loop to walk through each item in our list of tokens and use the pointer `token`\n",
    "       ```\n",
    "       for token in sentence:\n",
    "       ```\n",
    "    3. specify the filter criteria in a condition construction\n",
    "       ```\n",
    "       if token.isupper():\n",
    "       ```"
   ]
  },
  {
   "cell_type": "markdown",
   "metadata": {},
   "source": [
    "#### Select the tokens in `sentence` that are in lowercase\n",
    "\n",
    "* We can do the same but this time selecting items that are all in lowercase"
   ]
  },
  {
   "cell_type": "code",
   "execution_count": null,
   "metadata": {},
   "outputs": [],
   "source": [
    "LC_tokens = []\n",
    "\n",
    "for token in sentence:\n",
    "    if token.islower():\n",
    "        LC_tokens.append(token)"
   ]
  },
  {
   "cell_type": "code",
   "execution_count": null,
   "metadata": {},
   "outputs": [],
   "source": [
    "LC_tokens"
   ]
  },
  {
   "cell_type": "markdown",
   "metadata": {},
   "source": [
    "#### Filter into two lists in a single loop\n",
    "\n",
    "* The two examples above could be combined into a single loop"
   ]
  },
  {
   "cell_type": "code",
   "execution_count": null,
   "metadata": {},
   "outputs": [],
   "source": [
    "UC_tokens = []\n",
    "LC_tokens = []\n",
    "\n",
    "for token in sentence:\n",
    "    \n",
    "    # add lowercase tokens to LC_tokens\n",
    "    if token.islower():\n",
    "        LC_tokens.append(token)\n",
    "    \n",
    "    # add uppercase tokens to UC_tokens\n",
    "    if token.isupper():\n",
    "        UC_tokens.append(token)"
   ]
  },
  {
   "cell_type": "code",
   "execution_count": null,
   "metadata": {},
   "outputs": [],
   "source": [
    "print('lowercase tokens', LC_tokens)\n",
    "print('uppercase tokens', UC_tokens)"
   ]
  },
  {
   "cell_type": "code",
   "execution_count": null,
   "metadata": {
    "editable": true,
    "slideshow": {
     "slide_type": ""
    },
    "tags": []
   },
   "outputs": [],
   "source": []
  }
 ],
 "metadata": {
  "citation-manager": {
   "items": {}
  },
  "kernelspec": {
   "display_name": "Python 3 (ipykernel)",
   "language": "python",
   "name": "python3"
  },
  "language_info": {
   "codemirror_mode": {
    "name": "ipython",
    "version": 3
   },
   "file_extension": ".py",
   "mimetype": "text/x-python",
   "name": "python",
   "nbconvert_exporter": "python",
   "pygments_lexer": "ipython3",
   "version": "3.10.12"
  }
 },
 "nbformat": 4,
 "nbformat_minor": 4
}
