{
 "cells": [
  {
   "cell_type": "markdown",
   "metadata": {
    "editable": true,
    "slideshow": {
     "slide_type": ""
    },
    "tags": []
   },
   "source": [
    "<div>\n",
    "<img src=\"img/python_logo.png\" width=\"100px\" style=\"float: left; \"/> \n",
    "<div style=\"font-size: 40px; padding-top: 20px\">Python basics</div>   \n",
    "<div style=\"font-size: 30px; padding-top: 20px\">Part 1 - Objects</div>   \n",
    "</div>\n",
    "\n",
    " \n",
    "\n",
    "\n",
    "<h2 style=\"clear: both\">COMM4190 Spring 2025</h2>\n",
    "\n",
    "<h3>Instructor: Matt O'Donnell (mbod@asc.upenn.edu)</h3>\n",
    "\n",
    "-----\n",
    "\n",
    "<div class=\"alert alert-info\">\n",
    "\n",
    "## Overview\n",
    "\n",
    "* This notebook will cover:\n",
    "    1. __OBJECTS__ which are a core concept for programming Python, where an __object__ holds data of different _types_ and a group of actions (*functions*) that can be applied to these data\n",
    "        * __Data types__ - data comes in different kinds/flavors, e.g. numbers, fractions, proportions, categories, text, etc., that are best represented by different objects (e.g. `str`, `int`, `float`). \n",
    "    2. __String objects__ - to work with text data we will most often use the _string_ data type in a `str` object.\n",
    "        * __Error messages__ - when the code is not quite right you will receive an _error message_ when you run a code cell. THIS WILL HAPPEN A LOT! But trying to understand the error message can help you figure out how to fix your code.\n",
    "        * __Names__ or __Named Pointers__ - labels that can be attached to objects to make it possible reference the object in subsequent steps\n",
    "        * __String functions__\n",
    "    3. __String Indexing and Slicing__\n",
    "    \n",
    "</div>\n",
    "    \n",
    "------"
   ]
  },
  {
   "cell_type": "markdown",
   "metadata": {},
   "source": [
    "## 1. Objects\n",
    "\n",
    "\n",
    "* __Objects are _things_ that have _properties_ (DATA) and related _actions_ they can do (FUNCTIONS)__. \n",
    "\n",
    "\n",
    "* An object in a programming language like Python, is a way to represent or model THINGS in the real world. Things tend to have features or properties (shape, size, weight, number of legs, and so on) and actions they are involved in (bouncing, rolling, walking, running, being filled, and so on).\n",
    "\n",
    "\n",
    "* For example, in _Goldilocks and the Three Bears_ the following things can be modeled as objects.\n",
    "\n",
    "<div style=\"text-align:center\">\n",
    "<img src=\"img/goldilocks_miyako.png\" />\n",
    "<div style=\"font-size: 8px; text-align: center; line-height: 1.2; margin-bottom: 20px;\">\n",
    "    Illustration by Miya Huang<br/>\n",
    "    https://miyako945.wixsite.com/artofmiya/portfolio?lightbox=dataItem-jzl1fmjg2\n",
    "</div>\n",
    "    \n",
    "</div>\n",
    "\n",
    "|  OBJECT | PROPERTIES     | FUNCTIONS |\n",
    "| :-----: | :--------:     | :-------: |\n",
    "|  __table__  | legs (4), top      | support, fold      |\n",
    "|  __bowl__   | size, weight, full/empty | be filled/emptied, be washed |\n",
    "|  __chair__  | legs (4), seat, arms | be sat/stood on |\n",
    "|  __bed__    | legs (4), mattress   | be slept in |\n",
    "|  __girl__   | legs (2), arms, hands, feet, head, name, hair, age | walk, eat, think, sleep |\n",
    "|  __bear__   | legs (4), paws, fur, eyes | run, climb, eat, sleep, speak(?) |\n",
    "\n",
    "\n",
    "* Objects can also referred to as __CLASSES__ in some contexts."
   ]
  },
  {
   "cell_type": "markdown",
   "metadata": {},
   "source": [
    "### Data types\n",
    "\n",
    "* Objects can hold pieces of data (e.g. numbers, text, logical (`True/False`) values) and combinations and sequences of data.\n",
    "\n",
    "\n",
    "* The `TYPE` of an object provides structure in terms of the properties and functions.\n",
    "\n",
    "\n",
    "* Python takes care of tracking and worrying about the type of an object (i.e. the __data types__) most of the time. So it is easier to work with than some other programming languages that need you to always be aware of the data type. But there are places where it is important and you might come across a `TypeError`."
   ]
  },
  {
   "cell_type": "markdown",
   "metadata": {},
   "source": [
    "## 2. _String_ (`str`) objects  \n",
    "\n",
    "* A string in Python is a way to represent a word or a piece of text data.\n",
    "\n",
    "\n",
    "* A string is a _sequence_ (or list) of characters.\n",
    "\n",
    "\n",
    "* To define a string in Python you use a pair of __matching__ quotes (either single or double), e.g."
   ]
  },
  {
   "cell_type": "code",
   "execution_count": null,
   "metadata": {},
   "outputs": [],
   "source": [
    "\"this is a string object\""
   ]
  },
  {
   "cell_type": "code",
   "execution_count": null,
   "metadata": {},
   "outputs": [],
   "source": [
    "'this is also a string object'"
   ]
  },
  {
   "cell_type": "markdown",
   "metadata": {},
   "source": [
    "* **NOTE** that both single `'` and double `\"` quotes can be used to mark the beginning and end of the text data. __BUT__ they must match "
   ]
  },
  {
   "cell_type": "markdown",
   "metadata": {},
   "source": [
    "### 2.1. General functions\n",
    "\n",
    "* There are some _general functions_ in Python that can be used on most objects.\n",
    "\n",
    "\n",
    "* The syntax for these functions is:\n",
    "    * `function_name(object)` <br/><br/>\n",
    "\n",
    "\n",
    "\n",
    "* Some of the must commonly used include:\n",
    "    * `print` - display a represenation of the data\n",
    "    * `len` - the size (length) of the data held by the object\n",
    "    * `type` - show what kind of object this is\n",
    "    * `dir` - list the features and functions/methods of the object\n"
   ]
  },
  {
   "cell_type": "markdown",
   "metadata": {},
   "source": [
    "* For example, the `print(obj)` function will display a representation of the data contained in an object"
   ]
  },
  {
   "cell_type": "code",
   "execution_count": null,
   "metadata": {},
   "outputs": [],
   "source": [
    "print(\"this is a string object\")"
   ]
  },
  {
   "cell_type": "markdown",
   "metadata": {},
   "source": [
    "* And the `len(obj)` function will return a data type specific indication of the size of the data in an object.\n",
    "\n",
    "* For a `str` object this is the number of _characters_:"
   ]
  },
  {
   "cell_type": "code",
   "execution_count": null,
   "metadata": {},
   "outputs": [],
   "source": [
    "len(\"this is a string object\")"
   ]
  },
  {
   "cell_type": "markdown",
   "metadata": {},
   "source": [
    "* There are `23` characters in the string object `this is a string object`"
   ]
  },
  {
   "cell_type": "markdown",
   "metadata": {},
   "source": [
    "* The `type(obj)` general function will return the data type of the `obj` given as the argument"
   ]
  },
  {
   "cell_type": "code",
   "execution_count": null,
   "metadata": {},
   "outputs": [],
   "source": [
    "type(\"this is a string object\")"
   ]
  },
  {
   "cell_type": "code",
   "execution_count": null,
   "metadata": {},
   "outputs": [],
   "source": [
    "type(11)"
   ]
  },
  {
   "cell_type": "code",
   "execution_count": null,
   "metadata": {},
   "outputs": [],
   "source": [
    "type(11.2)"
   ]
  },
  {
   "cell_type": "markdown",
   "metadata": {},
   "source": [
    "### 2.2. ERRORS!\n",
    "\n",
    "* You __ARE__ going to frequently encounter error messages as you work on learning Python and doing data analysis in notebooks.\n",
    "\n",
    "\n",
    "* This is __NOT__ something to be concerned about. \n",
    "\n",
    "\n",
    "* They do not mean you got something wrong... they just indicate you haven't got it quite right __YET__! \n",
    "\n",
    "\n",
    "* And the content of the error message is supposed to help you figure out how to fix it!"
   ]
  },
  {
   "cell_type": "code",
   "execution_count": null,
   "metadata": {
    "tags": [
     "raises-exception"
    ]
   },
   "outputs": [],
   "source": [
    "\"this is a string'"
   ]
  },
  {
   "cell_type": "markdown",
   "metadata": {},
   "source": [
    "* Notice that the start and end quote characters do not match\n",
    "\n",
    "* This produces a `SyntaxError`"
   ]
  },
  {
   "cell_type": "markdown",
   "metadata": {},
   "source": [
    "* Some of the operators (like addition `+` and substraction `-`) that we will learn will only work with certain `types`\n",
    "\n",
    "\n",
    "* For instance, you can add two numeric types together:"
   ]
  },
  {
   "cell_type": "code",
   "execution_count": null,
   "metadata": {},
   "outputs": [],
   "source": [
    "# two int objects\n",
    "\n",
    "1+15"
   ]
  },
  {
   "cell_type": "code",
   "execution_count": null,
   "metadata": {},
   "outputs": [],
   "source": [
    "# a float and an int\n",
    "\n",
    "15.1 - 2303"
   ]
  },
  {
   "cell_type": "markdown",
   "metadata": {},
   "source": [
    "* But if you try and add a number and string object you will see a `TypeError`"
   ]
  },
  {
   "cell_type": "code",
   "execution_count": null,
   "metadata": {
    "tags": [
     "raises-exception"
    ]
   },
   "outputs": [],
   "source": [
    "# an int and a str object\n",
    "\n",
    "1+'abc'"
   ]
  },
  {
   "cell_type": "markdown",
   "metadata": {},
   "source": [
    "### 2.3. Names or Named pointers\n",
    "\n",
    "* We can define a named pointer to link to an object so that we can refer to it in other parts of our code.\n",
    "\n",
    "\n",
    "* The syntax for this is:\n",
    "    * `pointer_name = OBJECT`\n",
    "\n",
    "\n",
    "* For example, the following code cell create a `str` object with the first sentence of _Goldilocks and the Three Bears_ and gives this object the __name__ `sent1`:"
   ]
  },
  {
   "cell_type": "code",
   "execution_count": null,
   "metadata": {},
   "outputs": [],
   "source": [
    "sent1='Once upon a time, there was a little girl named Goldilocks.'"
   ]
  },
  {
   "cell_type": "markdown",
   "metadata": {},
   "source": [
    "* Now we can get to (or reference) the string object using the pointer/name `sent1`"
   ]
  },
  {
   "cell_type": "code",
   "execution_count": null,
   "metadata": {},
   "outputs": [],
   "source": [
    "print(sent1)"
   ]
  },
  {
   "cell_type": "code",
   "execution_count": null,
   "metadata": {},
   "outputs": [],
   "source": [
    "len(sent1)"
   ]
  },
  {
   "cell_type": "code",
   "execution_count": null,
   "metadata": {},
   "outputs": [],
   "source": [
    "type(sent1)"
   ]
  },
  {
   "cell_type": "markdown",
   "metadata": {},
   "source": [
    "* __NOTE__ if you try and use a named pointer that hasn't been defined you will get a `NameError`"
   ]
  },
  {
   "cell_type": "code",
   "execution_count": null,
   "metadata": {
    "tags": [
     "raises-exception"
    ]
   },
   "outputs": [],
   "source": [
    "print(sent2)"
   ]
  },
  {
   "cell_type": "markdown",
   "metadata": {},
   "source": [
    "### 2.4. String functions\n",
    "\n",
    "* Functions (or methods) that are <u>specific to an object</u> can be applied to an instance of an object using the _dot notation_ where the syntax is:\n",
    "    * `object.function()`\n",
    "    \n",
    "    \n",
    "* For example, applying the `upper()` function on a string object will transform all the characters in the string into uppercase form:"
   ]
  },
  {
   "cell_type": "code",
   "execution_count": null,
   "metadata": {},
   "outputs": [],
   "source": [
    "sent1.upper()"
   ]
  },
  {
   "cell_type": "markdown",
   "metadata": {},
   "source": [
    "* In this example:\n",
    "    * `sent1` is a named pointer that references a `str` object\n",
    "    * The data in that string object is:\n",
    "        * `'Once upon a time, there was a little girl named Goldilocks.'`\n",
    "    * So three things are happening when you run `sent1.upper()`:\n",
    "        1. Python finds the named pointer `sent1`\n",
    "        2. and follows it to the `str` object\n",
    "        3. then it executes that object's `.upper()` function and returns the result (which is a new `str` object)\n",
    "        "
   ]
  },
  {
   "cell_type": "markdown",
   "metadata": {},
   "source": [
    "* Similarly, the `lower()` function transforms all the characters in a string into lower case."
   ]
  },
  {
   "cell_type": "code",
   "execution_count": null,
   "metadata": {},
   "outputs": [],
   "source": [
    "sent1.lower()"
   ]
  },
  {
   "cell_type": "markdown",
   "metadata": {},
   "source": [
    "* And the `title()` function makes the first character of each 'word' (determined by whitespace) an uppercase character."
   ]
  },
  {
   "cell_type": "code",
   "execution_count": null,
   "metadata": {},
   "outputs": [],
   "source": [
    "sent1.title()"
   ]
  },
  {
   "cell_type": "markdown",
   "metadata": {},
   "source": [
    "* __NOTE__ that applying these functions to the object pointed to by `sent1` does not change the object itself.\n",
    "\n",
    "\n",
    "* If we follow the pointer `sent1` to the string object, we see the original form of the string is still there: "
   ]
  },
  {
   "cell_type": "code",
   "execution_count": null,
   "metadata": {},
   "outputs": [],
   "source": [
    "sent1"
   ]
  },
  {
   "cell_type": "markdown",
   "metadata": {},
   "source": [
    "* So we can use another pointer to keep track of the result"
   ]
  },
  {
   "cell_type": "code",
   "execution_count": null,
   "metadata": {},
   "outputs": [],
   "source": [
    "sent1_UC = sent1.upper()"
   ]
  },
  {
   "cell_type": "code",
   "execution_count": null,
   "metadata": {},
   "outputs": [],
   "source": [
    "print('sent1 points to =>', sent1)\n",
    "print()\n",
    "print('sent1_UC points to =>', sent1_UC)"
   ]
  },
  {
   "cell_type": "code",
   "execution_count": null,
   "metadata": {},
   "outputs": [],
   "source": [
    "sent2='She went for a walk in the forest.'\n",
    "sent3='Pretty soon, she came upon a house.'\n",
    "sent4='She knocked and, when no one answered, she walked right in.'"
   ]
  },
  {
   "cell_type": "markdown",
   "metadata": {},
   "source": [
    "* Some of the specific string object functions are __LOGICAL TESTS__ that will test whether certain things are TRUE or FALSE about the data.\n",
    "\n",
    "\n",
    "* For example, the `.startswith(test_str)` function compares the beginning of the string data in a string object with the `test_str` and returns `True` if it matches and `False` if it does not. "
   ]
  },
  {
   "cell_type": "code",
   "execution_count": null,
   "metadata": {},
   "outputs": [],
   "source": [
    "sent2.startswith('S')"
   ]
  },
  {
   "cell_type": "markdown",
   "metadata": {},
   "source": [
    "* First, use the name `sent2` to get to the `str` object:\n",
    "    ```\n",
    "    'She went for a walk in the forest.'\n",
    "    ```\n",
    "* Then apply the string specific function `.startswith('S')` to this object to test whether the data begins with an uppercase `S`.\n",
    "\n",
    "* It does so the returned result is `True`\n",
    "\n",
    "---\n",
    "\n",
    "* The `.startswith()` function can take more than one character as the `str` __argument__.\n"
   ]
  },
  {
   "cell_type": "code",
   "execution_count": null,
   "metadata": {},
   "outputs": [],
   "source": [
    "sent2.startswith('She')"
   ]
  },
  {
   "cell_type": "markdown",
   "metadata": {},
   "source": [
    "* Here we tested to see if the data in the `str` object referenced (pointed to) by the name `sent2` begins with the three characters `S` followed by `h` followed by `e`\n",
    "\n",
    "\n",
    "* __NOTE__ that this function is _case sensitive_ so you will get a different result testing `She` and `she`"
   ]
  },
  {
   "cell_type": "code",
   "execution_count": null,
   "metadata": {},
   "outputs": [],
   "source": [
    "sent2.startswith('she')"
   ]
  },
  {
   "cell_type": "markdown",
   "metadata": {
    "tags": []
   },
   "source": [
    "* The `.endswith()` string specific function does something similar but starts from the end of the data in a `str` object"
   ]
  },
  {
   "cell_type": "code",
   "execution_count": null,
   "metadata": {},
   "outputs": [],
   "source": [
    "sent3.endswith('!')"
   ]
  },
  {
   "cell_type": "markdown",
   "metadata": {},
   "source": [
    "* `sent3` points to a `str` object with data\n",
    "   ```\n",
    "    'Pretty soon, she came upon a house.'\n",
    "   ```\n",
    "\n",
    "* The last character is a `.` and not `!` so the test returns `False`\n",
    "\n",
    "\n",
    "----\n",
    "\n",
    "* Another string specific function that works as a logical test on the data is `.islower()`. As you might imagine it looks at all the characters and returns `True` if __ALL OF THEM__ are in lowercase otherwise it returns `False`."
   ]
  },
  {
   "cell_type": "code",
   "execution_count": null,
   "metadata": {},
   "outputs": [],
   "source": [
    "sent4.islower()"
   ]
  },
  {
   "cell_type": "code",
   "execution_count": null,
   "metadata": {},
   "outputs": [],
   "source": [
    "# take a look at the data in the str\n",
    "# object referenced by sent4\n",
    "\n",
    "sent4"
   ]
  },
  {
   "cell_type": "markdown",
   "metadata": {},
   "source": [
    "* The first character is uppercase so the `.islower()` test returns `False`\n",
    "\n",
    "\n",
    "* Remember we can transform the case of characters in a `str` object using `.islower()`"
   ]
  },
  {
   "cell_type": "code",
   "execution_count": null,
   "metadata": {},
   "outputs": [],
   "source": [
    "sent4.lower()"
   ]
  },
  {
   "cell_type": "markdown",
   "metadata": {},
   "source": [
    "* And then we could \"chain\" the two functions toghether like this:"
   ]
  },
  {
   "cell_type": "code",
   "execution_count": null,
   "metadata": {},
   "outputs": [],
   "source": [
    "sent4.lower().islower()"
   ]
  },
  {
   "cell_type": "markdown",
   "metadata": {},
   "source": [
    "* First use the `sent4` named pointer to reference the `str` object\n",
    "\n",
    "* Then apply the `.lower()` string specific function to transform the data to ALL LOWERCASE. This results in:\n",
    "    ```\n",
    "    'she knocked and, when no one answered, she walked right in.'\n",
    "    ```\n",
    "\n",
    "* Then apply the `.islower()` test to the result\n",
    "\n",
    "----"
   ]
  },
  {
   "cell_type": "markdown",
   "metadata": {},
   "source": [
    "#### The `dir()` and `help()` functions\n",
    "\n",
    "* The `dir()` function will list the functions that are specific to a specific class. You do not often need to use it or worry about the details at this stage. And you can ignore the items beginning with the double underscores for now.\n",
    "\n",
    "\n",
    "* But if you look down the list you will see some of the things that can be done with string objects."
   ]
  },
  {
   "cell_type": "code",
   "execution_count": null,
   "metadata": {},
   "outputs": [],
   "source": [
    "dir(str)"
   ]
  },
  {
   "cell_type": "code",
   "execution_count": null,
   "metadata": {},
   "outputs": [],
   "source": [
    "help(str.strip)"
   ]
  },
  {
   "cell_type": "markdown",
   "metadata": {},
   "source": [
    "* We can test out the `.strip()` function"
   ]
  },
  {
   "cell_type": "code",
   "execution_count": null,
   "metadata": {},
   "outputs": [],
   "source": [
    "\"    Once upon a time   \".strip()"
   ]
  },
  {
   "cell_type": "markdown",
   "metadata": {},
   "source": [
    "### 2.5. An example to illustrate using `str` objects and named pointers"
   ]
  },
  {
   "cell_type": "code",
   "execution_count": null,
   "metadata": {},
   "outputs": [],
   "source": [
    "'BEARS!'"
   ]
  },
  {
   "cell_type": "markdown",
   "metadata": {},
   "source": [
    "* the `'` quotes around the output indicate that it is a string type object\n",
    "* using the `print()` function gives a prettier formatted version of the object (including any layout characters like line feeds etc)"
   ]
  },
  {
   "cell_type": "code",
   "execution_count": null,
   "metadata": {},
   "outputs": [],
   "source": [
    "print('BEARS!')"
   ]
  },
  {
   "cell_type": "markdown",
   "metadata": {},
   "source": [
    "* we can apply functions to this string"
   ]
  },
  {
   "cell_type": "code",
   "execution_count": null,
   "metadata": {},
   "outputs": [],
   "source": [
    "len('BEARS!')"
   ]
  },
  {
   "cell_type": "code",
   "execution_count": null,
   "metadata": {},
   "outputs": [],
   "source": [
    "'BEARS!'.lower()"
   ]
  },
  {
   "cell_type": "markdown",
   "metadata": {},
   "source": [
    "* BUT each time we retype it we are creating another string object and after the line of code has been executed we have no way of getting back to that same object\n",
    "* It is 'orphaned' in the Python memory workspace!"
   ]
  },
  {
   "cell_type": "markdown",
   "metadata": {},
   "source": [
    "![](img/pointer1.png)"
   ]
  },
  {
   "cell_type": "markdown",
   "metadata": {},
   "source": [
    "* when we do something to it like `replace` the exclamation point with an empty character (`''`)\n",
    "* the result is also a new object that is orphaned "
   ]
  },
  {
   "cell_type": "code",
   "execution_count": null,
   "metadata": {},
   "outputs": [],
   "source": [
    "'BEARS!'.replace('!','')"
   ]
  },
  {
   "cell_type": "markdown",
   "metadata": {},
   "source": [
    "![](img/pointer2.png)"
   ]
  },
  {
   "cell_type": "markdown",
   "metadata": {},
   "source": [
    "* So we can assign a named pointer to the string object and then we have a way to get back to it..."
   ]
  },
  {
   "cell_type": "code",
   "execution_count": null,
   "metadata": {},
   "outputs": [],
   "source": [
    "text = 'BEARS!'"
   ]
  },
  {
   "cell_type": "markdown",
   "metadata": {},
   "source": [
    "![](img/pointer3.png)"
   ]
  },
  {
   "cell_type": "code",
   "execution_count": null,
   "metadata": {},
   "outputs": [],
   "source": [
    "print(text)"
   ]
  },
  {
   "cell_type": "code",
   "execution_count": null,
   "metadata": {},
   "outputs": [],
   "source": [
    "print(text*5)"
   ]
  },
  {
   "cell_type": "code",
   "execution_count": null,
   "metadata": {},
   "outputs": [],
   "source": [
    "print(text.lower())"
   ]
  },
  {
   "cell_type": "markdown",
   "metadata": {},
   "source": [
    "* **BUT** notice if we do something the object pointed to by the name `text` it doesn't change the object"
   ]
  },
  {
   "cell_type": "code",
   "execution_count": null,
   "metadata": {},
   "outputs": [],
   "source": [
    "print(\"This is result of calling replace('!','') on text >>>\", text.replace('!',''))\n",
    "print()\n",
    "print(\"The current object pointed to by text is >>>\", text)"
   ]
  },
  {
   "cell_type": "markdown",
   "metadata": {},
   "source": [
    "* **SO** to get the behavior we might have expected, that is, that `text` would point to the result of stripping the `!` we need to reassign the pointer:"
   ]
  },
  {
   "cell_type": "code",
   "execution_count": null,
   "metadata": {},
   "outputs": [],
   "source": [
    "text = text.replace('!','')"
   ]
  },
  {
   "cell_type": "markdown",
   "metadata": {},
   "source": [
    "* this does the following:\n",
    "\n",
    "![](img/pointer5.png)"
   ]
  },
  {
   "cell_type": "code",
   "execution_count": null,
   "metadata": {},
   "outputs": [],
   "source": [
    "print(\"The current object pointed to by text is >>>\", text)"
   ]
  },
  {
   "cell_type": "code",
   "execution_count": null,
   "metadata": {},
   "outputs": [],
   "source": [
    "text2 = 'BEARS!'"
   ]
  },
  {
   "cell_type": "code",
   "execution_count": null,
   "metadata": {},
   "outputs": [],
   "source": [
    "print('text >>> ', text)\n",
    "print()\n",
    "print('text2 >>> ', text2)"
   ]
  },
  {
   "cell_type": "markdown",
   "metadata": {},
   "source": [
    "![](img/pointer7.png)"
   ]
  },
  {
   "cell_type": "code",
   "execution_count": null,
   "metadata": {},
   "outputs": [],
   "source": [
    "text2=text.lower()"
   ]
  },
  {
   "cell_type": "code",
   "execution_count": null,
   "metadata": {},
   "outputs": [],
   "source": [
    "print('text >>> ', text)\n",
    "print()\n",
    "print('text2 >>> ', text2)"
   ]
  },
  {
   "cell_type": "markdown",
   "metadata": {},
   "source": [
    "![](img/pointer8.png)"
   ]
  },
  {
   "cell_type": "markdown",
   "metadata": {},
   "source": [
    "## 3. Indexing and slicing of a `string`\n",
    "\n",
    "### 3.1. Indexing\n",
    "\n",
    "* A string is a sequence (or list) of characters so we can refer to specific characters in the string using **INDEXING**\n",
    "* In Python indexes begin at **ZERO**/**0**\n",
    "* So `bear[1]` is the character `e` and *not* `b` which is `bear[0]`"
   ]
  },
  {
   "cell_type": "code",
   "execution_count": null,
   "metadata": {},
   "outputs": [],
   "source": [
    "print('bear'[1])"
   ]
  },
  {
   "cell_type": "markdown",
   "metadata": {},
   "source": [
    "* indexing the `str` object `bear` with index 1 will return __THE SECOND__ character `e`"
   ]
  },
  {
   "cell_type": "code",
   "execution_count": null,
   "metadata": {},
   "outputs": [],
   "source": [
    "print('bear'[0])"
   ]
  },
  {
   "cell_type": "markdown",
   "metadata": {},
   "source": [
    "* We use index `0` to get the first character \n",
    "\n",
    "\n",
    "* We can do the same using a named pointer"
   ]
  },
  {
   "cell_type": "code",
   "execution_count": null,
   "metadata": {},
   "outputs": [],
   "source": [
    "word = \"Bear!\""
   ]
  },
  {
   "cell_type": "code",
   "execution_count": null,
   "metadata": {},
   "outputs": [],
   "source": [
    "# index 1 -> 2nd character\n",
    "\n",
    "word[1]"
   ]
  },
  {
   "cell_type": "code",
   "execution_count": null,
   "metadata": {},
   "outputs": [],
   "source": [
    "# index 3 -> 4th character \n",
    "\n",
    "word[3]"
   ]
  },
  {
   "cell_type": "markdown",
   "metadata": {},
   "source": [
    "* We can also go backwards from the end of the string using __negative indices__:"
   ]
  },
  {
   "cell_type": "code",
   "execution_count": null,
   "metadata": {},
   "outputs": [],
   "source": [
    "word[-1]"
   ]
  },
  {
   "cell_type": "markdown",
   "metadata": {},
   "source": [
    "![](img/string-indexing.png)"
   ]
  },
  {
   "cell_type": "markdown",
   "metadata": {},
   "source": [
    "* __NOTE__ if you try use an index beyond the length of the data you'll get an `IndexError`"
   ]
  },
  {
   "cell_type": "code",
   "execution_count": null,
   "metadata": {},
   "outputs": [],
   "source": [
    "len(word)"
   ]
  },
  {
   "cell_type": "markdown",
   "metadata": {},
   "source": [
    "* `word` references a `str` object with 5 characters\n",
    "    ```\n",
    "    'Bear!'\n",
    "    ```\n",
    "    \n",
    "* So there are five indices:\n",
    "    ```\n",
    "    0, 1, 2, 3, 4\n",
    "    ```\n",
    "    \n",
    "* If we try and retrieve the 6th characer (index `5`)"
   ]
  },
  {
   "cell_type": "code",
   "execution_count": null,
   "metadata": {
    "tags": [
     "raises-exception"
    ]
   },
   "outputs": [],
   "source": [
    "word[5]"
   ]
  },
  {
   "cell_type": "markdown",
   "metadata": {},
   "source": [
    "* we get an `IndexError`"
   ]
  },
  {
   "cell_type": "markdown",
   "metadata": {},
   "source": [
    "### 3.2. Slicing\n",
    "* A **SLICE** is a contiguous sequence of characters in a string"
   ]
  },
  {
   "cell_type": "code",
   "execution_count": null,
   "metadata": {},
   "outputs": [],
   "source": [
    "word[0:3]"
   ]
  },
  {
   "cell_type": "markdown",
   "metadata": {},
   "source": [
    "* The start index is **inclusive** and the end index is **exclusive**\n",
    "* But better to understand the indexes as points **BEFORE** a character just like in the figure above"
   ]
  },
  {
   "cell_type": "code",
   "execution_count": null,
   "metadata": {},
   "outputs": [],
   "source": [
    "# remember sent1\n",
    "sent1"
   ]
  },
  {
   "cell_type": "markdown",
   "metadata": {},
   "source": [
    "* Let's take a slice of the first 18 characters"
   ]
  },
  {
   "cell_type": "code",
   "execution_count": null,
   "metadata": {},
   "outputs": [],
   "source": [
    "sent1[0:18]"
   ]
  },
  {
   "cell_type": "code",
   "execution_count": null,
   "metadata": {
    "editable": true,
    "slideshow": {
     "slide_type": ""
    },
    "tags": []
   },
   "outputs": [],
   "source": []
  }
 ],
 "metadata": {
  "citation-manager": {
   "items": {}
  },
  "kernelspec": {
   "display_name": "Python 3 (ipykernel)",
   "language": "python",
   "name": "python3"
  },
  "language_info": {
   "codemirror_mode": {
    "name": "ipython",
    "version": 3
   },
   "file_extension": ".py",
   "mimetype": "text/x-python",
   "name": "python",
   "nbconvert_exporter": "python",
   "pygments_lexer": "ipython3",
   "version": "3.10.12"
  }
 },
 "nbformat": 4,
 "nbformat_minor": 4
}
