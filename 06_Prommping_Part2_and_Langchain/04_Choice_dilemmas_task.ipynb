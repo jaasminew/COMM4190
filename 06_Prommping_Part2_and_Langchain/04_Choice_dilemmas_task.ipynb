{
 "cells": [
  {
   "cell_type": "markdown",
   "id": "a8f46fea-9d12-423b-a4bf-58b89b591373",
   "metadata": {},
   "source": [
    "# Choice dilemma scenarios"
   ]
  },
  {
   "cell_type": "code",
   "execution_count": 1,
   "id": "630317c2-d15e-457e-b663-6af5941a38d7",
   "metadata": {},
   "outputs": [],
   "source": [
    "from IPython.display import display, Markdown, HTML\n",
    "import ipywidgets as widgets\n",
    "import pandas as pd"
   ]
  },
  {
   "cell_type": "code",
   "execution_count": 2,
   "id": "0a160518-5248-4455-86fa-356c46212a7f",
   "metadata": {},
   "outputs": [],
   "source": [
    "dilemmas = [line.strip() for line in open('choice_dilemmas.txt').readlines() if line.strip()]"
   ]
  },
  {
   "cell_type": "code",
   "execution_count": 3,
   "id": "31c3692d-2b5d-4d29-bb1a-5feef3420ccd",
   "metadata": {},
   "outputs": [],
   "source": [
    "instructions = '''\n",
    "- For each of the following dilemma scenarios there are two choices mentioned, \n",
    "e.g. _decide whether to help her fellow miners as a volunteer (A) or not (B)_\n",
    "\n",
    "- For each scenario, use the slider to record your decision:\n",
    "    1. Strongly recommend choice A\n",
    "    2. Recommend choice A\n",
    "    3. Tend to recommend choice A\n",
    "    4. Neutral to either alternative\n",
    "    5. Tend to recommend choice B\n",
    "    6. Tend to recommend choice B\n",
    "    7. Strongly recommend choice B\n",
    "\n",
    "\n",
    "----\n",
    "'''"
   ]
  },
  {
   "cell_type": "code",
   "execution_count": 5,
   "id": "0ca65bb2-1237-41ea-ba52-556ed2e27625",
   "metadata": {},
   "outputs": [
    {
     "data": {
      "text/markdown": [
       "## Choice dilemmas"
      ],
      "text/plain": [
       "<IPython.core.display.Markdown object>"
      ]
     },
     "metadata": {},
     "output_type": "display_data"
    },
    {
     "data": {
      "text/markdown": [
       "\n",
       "- For each of the following dilemma scenarios there are two choices mentioned, \n",
       "e.g. _decide whether to help her fellow miners as a volunteer (A) or not (B)_\n",
       "\n",
       "- For each scenario, use the slider to record your decision:\n",
       "    1. Strongly recommend choice A\n",
       "    2. Recommend choice A\n",
       "    3. Tend to recommend choice A\n",
       "    4. Neutral to either alternative\n",
       "    5. Tend to recommend choice B\n",
       "    6. Tend to recommend choice B\n",
       "    7. Strongly recommend choice B\n",
       "\n",
       "\n",
       "----\n"
      ],
      "text/plain": [
       "<IPython.core.display.Markdown object>"
      ]
     },
     "metadata": {},
     "output_type": "display_data"
    },
    {
     "data": {
      "text/markdown": [
       "1. Ms. A.D. is a miner. Some other miners have been buried by rubble. Ms. A.D. must decide whether to help her fellow miners as a volunteer or not."
      ],
      "text/plain": [
       "<IPython.core.display.Markdown object>"
      ]
     },
     "metadata": {},
     "output_type": "display_data"
    },
    {
     "data": {
      "application/vnd.jupyter.widget-view+json": {
       "model_id": "37fcf7cb93b44fbba0a65b3721518920",
       "version_major": 2,
       "version_minor": 0
      },
      "text/plain": [
       "IntSlider(value=4, max=7, min=1)"
      ]
     },
     "metadata": {},
     "output_type": "display_data"
    },
    {
     "data": {
      "text/markdown": [
       "2. The son of Ms. S.H. has been unjustly reprimanded by a teacher in school. Ms. S.H. is contemplating whether to discuss the issue with the teacher, weighing potential disadvantages for her son if she were to bring it up."
      ],
      "text/plain": [
       "<IPython.core.display.Markdown object>"
      ]
     },
     "metadata": {},
     "output_type": "display_data"
    },
    {
     "data": {
      "application/vnd.jupyter.widget-view+json": {
       "model_id": "9337344b787b48db998a489b2120b755",
       "version_major": 2,
       "version_minor": 0
      },
      "text/plain": [
       "IntSlider(value=4, max=7, min=1)"
      ]
     },
     "metadata": {},
     "output_type": "display_data"
    },
    {
     "data": {
      "text/markdown": [
       "3. Ms. A.Q. is an underground engineer who has received an offer to join a newly established firm where her income would be tied to the firm’s profits. She needs to determine if she should take the new position or stay put."
      ],
      "text/plain": [
       "<IPython.core.display.Markdown object>"
      ]
     },
     "metadata": {},
     "output_type": "display_data"
    },
    {
     "data": {
      "application/vnd.jupyter.widget-view+json": {
       "model_id": "30c236c07e6847789d6bf633a488db26",
       "version_major": 2,
       "version_minor": 0
      },
      "text/plain": [
       "IntSlider(value=4, max=7, min=1)"
      ]
     },
     "metadata": {},
     "output_type": "display_data"
    },
    {
     "data": {
      "text/markdown": [
       "4. Mr. A.B. is a managing director and is running late for a business meeting at the airport. He must decide quickly whether to speed through the airport traffic or allow the business connection to wait."
      ],
      "text/plain": [
       "<IPython.core.display.Markdown object>"
      ]
     },
     "metadata": {},
     "output_type": "display_data"
    },
    {
     "data": {
      "application/vnd.jupyter.widget-view+json": {
       "model_id": "03a92d3c8f764e30b6303ea27aca3dbe",
       "version_major": 2,
       "version_minor": 0
      },
      "text/plain": [
       "IntSlider(value=4, max=7, min=1)"
      ]
     },
     "metadata": {},
     "output_type": "display_data"
    },
    {
     "data": {
      "text/markdown": [
       "5. Ms. A.Z. has a prominent scar over her left eye that alters her appearance significantly. She is faced with the difficult choice of undergoing a surgical procedure that poses a risk of losing sight in that eye."
      ],
      "text/plain": [
       "<IPython.core.display.Markdown object>"
      ]
     },
     "metadata": {},
     "output_type": "display_data"
    },
    {
     "data": {
      "application/vnd.jupyter.widget-view+json": {
       "model_id": "95cec4fee059474eb886f3ca347889f5",
       "version_major": 2,
       "version_minor": 0
      },
      "text/plain": [
       "IntSlider(value=4, max=7, min=1)"
      ]
     },
     "metadata": {},
     "output_type": "display_data"
    },
    {
     "data": {
      "text/markdown": [
       "6. Ms. B.N. is an electrical engineer with the opportunity to work further away for a higher salary. This job would mean being away from her family for extended periods, which has put a strain on her marriage, and divorce has been mentioned. She must make a decision regarding this job offer."
      ],
      "text/plain": [
       "<IPython.core.display.Markdown object>"
      ]
     },
     "metadata": {},
     "output_type": "display_data"
    },
    {
     "data": {
      "application/vnd.jupyter.widget-view+json": {
       "model_id": "188cfd72fbf447a1a0b2fa94d3d71e9a",
       "version_major": 2,
       "version_minor": 0
      },
      "text/plain": [
       "IntSlider(value=4, max=7, min=1)"
      ]
     },
     "metadata": {},
     "output_type": "display_data"
    },
    {
     "data": {
      "text/markdown": [
       "7. Mr. A.S. has a severe spinal injury, confining him to bed indefinitely. There’s a risky surgical option available that could potentially improve his condition, and he is pondering whether to proceed with the surgery."
      ],
      "text/plain": [
       "<IPython.core.display.Markdown object>"
      ]
     },
     "metadata": {},
     "output_type": "display_data"
    },
    {
     "data": {
      "application/vnd.jupyter.widget-view+json": {
       "model_id": "31fc24bc75ac4e0995fdd3e31761f078",
       "version_major": 2,
       "version_minor": 0
      },
      "text/plain": [
       "IntSlider(value=4, max=7, min=1)"
      ]
     },
     "metadata": {},
     "output_type": "display_data"
    },
    {
     "data": {
      "text/markdown": [
       "8. Mrs. A.J. holds the position of managing director at a supermarket and enjoys her role. However, she’s been offered a higher position at a different company, which doesn’t require the high school diploma she lacks. She is now deciding whether to pursue this new opportunity."
      ],
      "text/plain": [
       "<IPython.core.display.Markdown object>"
      ]
     },
     "metadata": {},
     "output_type": "display_data"
    },
    {
     "data": {
      "application/vnd.jupyter.widget-view+json": {
       "model_id": "a48e435dd0de4a60a139fe7f71a15870",
       "version_major": 2,
       "version_minor": 0
      },
      "text/plain": [
       "IntSlider(value=4, max=7, min=1)"
      ]
     },
     "metadata": {},
     "output_type": "display_data"
    },
    {
     "data": {
      "text/markdown": [
       "9. Mr. A.P. has the chance to take on a managing director role in South America. However, his husband cannot handle the climate, which might necessitate his departure from South America. He needs to choose whether the job is worth the personal sacrifice."
      ],
      "text/plain": [
       "<IPython.core.display.Markdown object>"
      ]
     },
     "metadata": {},
     "output_type": "display_data"
    },
    {
     "data": {
      "application/vnd.jupyter.widget-view+json": {
       "model_id": "863a92a219a241309b51a64d978879c2",
       "version_major": 2,
       "version_minor": 0
      },
      "text/plain": [
       "IntSlider(value=4, max=7, min=1)"
      ]
     },
     "metadata": {},
     "output_type": "display_data"
    },
    {
     "data": {
      "text/markdown": [
       "10. Mrs. A.M. is a political expert in economics. During an upcoming newspaper interview, she faces the choice of voicing her personal views, which differ from her party’s stance, potentially causing controversy, or sticking to the party line to avoid conflict."
      ],
      "text/plain": [
       "<IPython.core.display.Markdown object>"
      ]
     },
     "metadata": {},
     "output_type": "display_data"
    },
    {
     "data": {
      "application/vnd.jupyter.widget-view+json": {
       "model_id": "fff44746b0254071b3e4b79e4486f3de",
       "version_major": 2,
       "version_minor": 0
      },
      "text/plain": [
       "IntSlider(value=4, max=7, min=1)"
      ]
     },
     "metadata": {},
     "output_type": "display_data"
    }
   ],
   "source": [
    "sliders = []\n",
    "display(Markdown('## Choice dilemmas'))\n",
    "display(Markdown(f'{instructions}'))\n",
    "\n",
    "for dnum, dilemma in enumerate(dilemmas,1):\n",
    "    display(Markdown(f'{dnum}. {dilemma}'))\n",
    "    slider = widgets.IntSlider(4,1,7)\n",
    "    display(slider)\n",
    "    sliders.append(slider)"
   ]
  },
  {
   "cell_type": "markdown",
   "id": "c7a8e3df-d066-4fde-a9f2-f024cbd97fcd",
   "metadata": {},
   "source": [
    "### Initial Choices\n",
    "\n",
    "* Once you have rated the 10 scenarios capture your initial choices"
   ]
  },
  {
   "cell_type": "code",
   "execution_count": null,
   "id": "d82c9e0d-c109-4380-8a61-94a0b135ea5a",
   "metadata": {},
   "outputs": [],
   "source": [
    "initial_choices = [s.value for s in sliders]\n",
    "cdf = pd.DataFrame(dict(scenario_text = dilemmas, initial_choices = initial_choices))"
   ]
  },
  {
   "cell_type": "code",
   "execution_count": null,
   "id": "8da00d79-a62d-4a94-9fd1-2eaea6ddf1e5",
   "metadata": {},
   "outputs": [],
   "source": [
    "cdf"
   ]
  },
  {
   "cell_type": "code",
   "execution_count": null,
   "id": "b441f61a-4a8c-49f4-a548-c39af9e617b3",
   "metadata": {},
   "outputs": [],
   "source": [
    "cdf.to_csv('initial_choices.csv', index=False)"
   ]
  },
  {
   "cell_type": "markdown",
   "id": "691f7f47-eed6-42c7-be3d-94d5b1c85e43",
   "metadata": {},
   "source": [
    "### Group Exercise"
   ]
  },
  {
   "cell_type": "code",
   "execution_count": null,
   "id": "623d4663-102d-4886-a1be-f8a300317e44",
   "metadata": {},
   "outputs": [],
   "source": []
  }
 ],
 "metadata": {
  "citation-manager": {
   "items": {}
  },
  "kernelspec": {
   "display_name": "Python 3-12 (COMM4190)",
   "language": "python",
   "name": "python3-12_comm4190"
  },
  "language_info": {
   "codemirror_mode": {
    "name": "ipython",
    "version": 3
   },
   "file_extension": ".py",
   "mimetype": "text/x-python",
   "name": "python",
   "nbconvert_exporter": "python",
   "pygments_lexer": "ipython3",
   "version": "3.12.8"
  }
 },
 "nbformat": 4,
 "nbformat_minor": 5
}
