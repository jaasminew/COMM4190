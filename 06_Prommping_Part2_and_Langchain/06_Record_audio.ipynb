{
 "cells": [
  {
   "cell_type": "markdown",
   "id": "d9b6cb7e-7c93-44c7-b387-5bdf823c2b8e",
   "metadata": {},
   "source": [
    "## Recording some audio"
   ]
  },
  {
   "cell_type": "code",
   "execution_count": null,
   "id": "00c3bef2-8144-4a20-8039-b382de4e756e",
   "metadata": {},
   "outputs": [],
   "source": [
    "from openai import OpenAI\n",
    "from ipywebrtc import AudioRecorder, CameraStream\n",
    "import os\n",
    "import openai\n",
    "import json\n",
    "\n",
    "\n",
    "from dotenv import load_dotenv\n",
    "_  = load_dotenv()"
   ]
  },
  {
   "cell_type": "code",
   "execution_count": null,
   "id": "0c30ad5d-ffab-46b7-9142-7d9ed6b3e169",
   "metadata": {},
   "outputs": [],
   "source": [
    "camera = CameraStream(constraints={'audio': True,'video':False})\n",
    "recorder = AudioRecorder(stream=camera)\n",
    "recorder"
   ]
  },
  {
   "cell_type": "code",
   "execution_count": null,
   "id": "8d4e521a-10cd-4112-9a72-e8d07ae6a21d",
   "metadata": {},
   "outputs": [],
   "source": [
    "recorder.save('discussion_audio.wav')"
   ]
  },
  {
   "cell_type": "code",
   "execution_count": null,
   "id": "937af112-1892-4a4e-9466-426abc1385f8",
   "metadata": {},
   "outputs": [],
   "source": [
    "client = OpenAI(api_key=openai.api_key)\n",
    "\n",
    "audio_file= open(\"discussions/group1.wav\", \"rb\")\n",
    "transcript = client.audio.transcriptions.create(\n",
    "  model=\"whisper-1\", \n",
    "  file=audio_file,\n",
    "  response_format = 'verbose_json'\n",
    "  \n",
    ")"
   ]
  },
  {
   "cell_type": "code",
   "execution_count": null,
   "id": "ff97231c-ac4f-47f4-b28d-f637f1ccc1d7",
   "metadata": {},
   "outputs": [],
   "source": [
    "print(transcript)"
   ]
  },
  {
   "cell_type": "code",
   "execution_count": null,
   "id": "4c35b271-a74f-4e78-8bb1-4e3b18776ed2",
   "metadata": {},
   "outputs": [],
   "source": []
  }
 ],
 "metadata": {
  "citation-manager": {
   "items": {}
  },
  "kernelspec": {
   "display_name": "Python 3-12 (COMM4190)",
   "language": "python",
   "name": "python3-12_comm4190"
  },
  "language_info": {
   "codemirror_mode": {
    "name": "ipython",
    "version": 3
   },
   "file_extension": ".py",
   "mimetype": "text/x-python",
   "name": "python",
   "nbconvert_exporter": "python",
   "pygments_lexer": "ipython3",
   "version": "3.12.8"
  }
 },
 "nbformat": 4,
 "nbformat_minor": 5
}
