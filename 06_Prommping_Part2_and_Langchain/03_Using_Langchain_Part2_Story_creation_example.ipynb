{
 "cells": [
  {
   "cell_type": "markdown",
   "id": "8029eda2-4ece-48a8-8071-c5aaf7def4df",
   "metadata": {},
   "source": [
    "# Using `langchain` (Part 2)\n",
    "\n",
    "### Story creation chain examples from Ch.4 of _Prompt Engineering_ book\n",
    "\n",
    "* https://learning.oreilly.com/library/view/prompt-engineering-for/9781098153427/ch04.html#id260"
   ]
  },
  {
   "cell_type": "markdown",
   "id": "3abcf55e-5296-4ea1-ab62-5dba96184133",
   "metadata": {},
   "source": [
    "![](img/story_creation_chain.png)"
   ]
  },
  {
   "cell_type": "markdown",
   "id": "6908bbf7-a55a-45c0-93b6-7c68bcb474ea",
   "metadata": {},
   "source": [
    "### Setup\n",
    "\n",
    "* Run the following cells to set up the notebook environment"
   ]
  },
  {
   "cell_type": "code",
   "execution_count": 1,
   "id": "7a3c4a41-28a4-46f6-9d66-cccf111088da",
   "metadata": {},
   "outputs": [],
   "source": [
    "from langchain_core.prompts.chat import ChatPromptTemplate\n",
    "from langchain_core.runnables import (\n",
    "                                        RunnablePassthrough,\n",
    "                                        RunnableLambda,\n",
    "                                        RunnableParallel\n",
    ")\n",
    "\n",
    "from langchain_openai.chat_models import ChatOpenAI\n",
    "from langchain_core.output_parsers import StrOutputParser\n",
    "\n",
    "\n",
    "from operator import itemgetter\n",
    "\n",
    "from dotenv import load_dotenv\n",
    "import os"
   ]
  },
  {
   "cell_type": "code",
   "execution_count": 2,
   "id": "075bb32a-408f-4964-aadc-43d4c9145396",
   "metadata": {},
   "outputs": [],
   "source": [
    "# Load API key\n",
    "_ = load_dotenv()"
   ]
  },
  {
   "cell_type": "markdown",
   "id": "a46a32cf-5ea0-482c-bd15-5858abb615de",
   "metadata": {},
   "source": [
    "### 1. Story creation prompt template"
   ]
  },
  {
   "cell_type": "code",
   "execution_count": 3,
   "id": "ec705edb-0b48-4ed4-acdc-cbf866086729",
   "metadata": {},
   "outputs": [],
   "source": [
    "character_generation_prompt = ChatPromptTemplate.from_template(\n",
    "    \"\"\"I want you to brainstorm 4 characters for my short story. The\n",
    "    genre is {genre}. Each character must have a Name and a Biography.\n",
    "    You must provide a name and biography for each character, this is very\n",
    "    important!\n",
    "    ---\n",
    "    Example response:\n",
    "    Name -- CharWiz, Biography -- A wizard who is a master of magic.\n",
    "    Name -- CharWar, Biography -- A warrior who is a master of the sword.\n",
    "    ---\n",
    "    Characters: \"\"\"\n",
    ")\n",
    "\n",
    "plot_generation_prompt = ChatPromptTemplate.from_template(\n",
    "    \"\"\"Given the following characters and the genre, create an effective\n",
    "    plot for a short story:\n",
    "    Characters:\n",
    "    {characters}\n",
    "    ---\n",
    "    Genre: {genre}\n",
    "    ---\n",
    "    Plot: \"\"\"\n",
    "    )\n",
    "\n",
    "scene_generation_plot_prompt = ChatPromptTemplate.from_template(\n",
    "    \"\"\"Act as an effective content creator.\n",
    "    Given multiple characters and a plot you are responsible generating\n",
    "    the various scenes for each act.\n",
    "\n",
    "    You must de-compose the plot into multiple effective scenes:\n",
    "    ---\n",
    "    Characters:\n",
    "    {characters}\n",
    "    ---\n",
    "    Genre: {genre}\n",
    "    ---\n",
    "    Plot: {plot}\n",
    "    ---\n",
    "    Example response:\n",
    "    Scenes:\n",
    "    Scene 1: Some text here.\n",
    "    Scene 2: Some text here.\n",
    "    Scene 3: Some text here.\n",
    "    ----\n",
    "    Scenes:\n",
    "    \"\"\"\n",
    ")"
   ]
  },
  {
   "cell_type": "code",
   "execution_count": 4,
   "id": "1520a890-546d-4254-94ce-3a6df1251689",
   "metadata": {},
   "outputs": [
    {
     "name": "stdout",
     "output_type": "stream",
     "text": [
      "I want you to brainstorm 4 characters for my short story. The\n",
      "    genre is horror. Each character must have a Name and a Biography.\n",
      "    You must provide a name and biography for each character, this is very\n",
      "    important!\n",
      "    ---\n",
      "    Example response:\n",
      "    Name -- CharWiz, Biography -- A wizard who is a master of magic.\n",
      "    Name -- CharWar, Biography -- A warrior who is a master of the sword.\n",
      "    ---\n",
      "    Characters: \n"
     ]
    }
   ],
   "source": [
    "print(character_generation_prompt.invoke({'genre': 'horror'}).messages[0].content)"
   ]
  },
  {
   "cell_type": "markdown",
   "id": "d94d26eb-c708-423b-b156-8083df83f6f2",
   "metadata": {},
   "source": [
    "#### Using passthrough and `itemgetter`"
   ]
  },
  {
   "cell_type": "code",
   "execution_count": 5,
   "id": "e17a56a5-4705-4bab-ac3f-9c959b6b0512",
   "metadata": {},
   "outputs": [
    {
     "data": {
      "text/plain": [
       "{'genre': 'fantasy'}"
      ]
     },
     "execution_count": 5,
     "metadata": {},
     "output_type": "execute_result"
    }
   ],
   "source": [
    "chain = RunnablePassthrough() | {\n",
    "    \"genre\": itemgetter(\"genre\"),\n",
    "  }\n",
    "\n",
    "chain.invoke({\"genre\": \"fantasy\"})\n",
    "# {'genre': 'fantasy'}"
   ]
  },
  {
   "cell_type": "code",
   "execution_count": 6,
   "id": "5814930d-cc80-4526-ae6f-b39e03e37c55",
   "metadata": {},
   "outputs": [],
   "source": [
    "master_chain = RunnablePassthrough() | {\n",
    "    \"genre\": itemgetter(\"genre\"),\n",
    "    \"upper_case_genre\": lambda x: x[\"genre\"].upper(),\n",
    "    \"lower_case_genre\": RunnableLambda(lambda x: x[\"genre\"].lower()),\n",
    "}"
   ]
  },
  {
   "cell_type": "markdown",
   "id": "1094a29c-0fdb-4a60-8f36-0697031a11a2",
   "metadata": {},
   "source": [
    "### Subchains for characters, plot and scenes\n",
    "\n",
    "* Define the sub chains"
   ]
  },
  {
   "cell_type": "code",
   "execution_count": 7,
   "id": "f575676b-c935-42cc-acb4-7bc1af6f41a3",
   "metadata": {},
   "outputs": [],
   "source": [
    "# Create the chat model:\n",
    "model = ChatOpenAI()\n",
    "\n",
    "# Create the sub-chains:\n",
    "character_generation_chain = ( character_generation_prompt\n",
    "| model\n",
    "| StrOutputParser() )\n",
    "\n",
    "plot_generation_chain = ( plot_generation_prompt\n",
    "| model\n",
    "| StrOutputParser() )\n",
    "\n",
    "scene_generation_plot_chain = ( scene_generation_plot_prompt\n",
    "| model\n",
    "| StrOutputParser()  )"
   ]
  },
  {
   "cell_type": "markdown",
   "id": "176f60bb-634d-4297-8b50-2dfc88304f29",
   "metadata": {},
   "source": [
    "#### Call the characters generation chain"
   ]
  },
  {
   "cell_type": "code",
   "execution_count": 8,
   "id": "15957e93-c6c2-43f8-8c1f-2f4aaec0c96d",
   "metadata": {},
   "outputs": [],
   "source": [
    "characters = character_generation_chain.invoke({'genre': 'horror'})"
   ]
  },
  {
   "cell_type": "code",
   "execution_count": 9,
   "id": "78512507-12b7-4571-aee2-022aa429b39a",
   "metadata": {},
   "outputs": [
    {
     "name": "stdout",
     "output_type": "stream",
     "text": [
      "1. Name -- Dr. Abigail Blackwell, Biography -- A brilliant and ambitious scientist who will stop at nothing to achieve her goals, even if it means crossing ethical boundaries. She is known for her cold demeanor and ruthless determination.\n",
      "\n",
      "2. Name -- Marcus Bennett, Biography -- A former soldier plagued by PTSD and haunted by his experiences in combat. He is struggling to adjust to civilian life and is easily triggered by loud noises and crowded spaces. Despite his tough exterior, he is deeply traumatized and fragile.\n",
      "\n",
      "3. Name -- Emily Woods, Biography -- A young and naive college student who is eager to explore the paranormal. She is fascinated by ghosts and the supernatural, often putting herself in dangerous situations in pursuit of a thrilling experience. Her curiosity and recklessness make her a liability to herself and others.\n",
      "\n",
      "4. Name -- Reverend Johnathan Hayes, Biography -- A charismatic preacher with a dark secret. He is a master manipulator who uses his charm and influence to control his congregation and conceal his sinister intentions. Behind his facade of piety lies a twisted and corrupt soul.\n"
     ]
    }
   ],
   "source": [
    "print(characters)"
   ]
  },
  {
   "cell_type": "markdown",
   "id": "ea256f70-ac03-4531-9b69-802e8f2e05f1",
   "metadata": {},
   "source": [
    "#### Call the plot generation chain"
   ]
  },
  {
   "cell_type": "code",
   "execution_count": null,
   "id": "2a7edeef-c42d-4187-833b-39298613efa3",
   "metadata": {},
   "outputs": [],
   "source": [
    "plot = plot_generation_chain.invoke({'characters': characters, 'genre': 'horror'})"
   ]
  },
  {
   "cell_type": "code",
   "execution_count": null,
   "id": "2e3ae111-5b3d-4f42-a5af-d79e272c706a",
   "metadata": {},
   "outputs": [],
   "source": [
    "print(plot)"
   ]
  },
  {
   "cell_type": "markdown",
   "id": "184053b1-44e3-4e00-81f2-276bdafbfb73",
   "metadata": {},
   "source": [
    "#### Call the scenes generation chain"
   ]
  },
  {
   "cell_type": "code",
   "execution_count": null,
   "id": "b0c7fbb5-c45f-4b5b-ad7e-61534af38fab",
   "metadata": {},
   "outputs": [],
   "source": [
    "scenes = scene_generation_plot_chain.invoke({\n",
    "    'genre': 'horror',\n",
    "    'characters': characters,\n",
    "    'plot': plot\n",
    "})"
   ]
  },
  {
   "cell_type": "code",
   "execution_count": null,
   "id": "1a4efeb6-fdfa-401b-ad55-d85aa6b102bb",
   "metadata": {},
   "outputs": [],
   "source": [
    "print(scenes)"
   ]
  },
  {
   "cell_type": "markdown",
   "id": "ebf1aa2b-14f6-4d0c-b507-1310feb4f19a",
   "metadata": {},
   "source": [
    "### Build the master chain"
   ]
  },
  {
   "cell_type": "code",
   "execution_count": null,
   "id": "223b7c2b-e749-4ea0-ae67-cfac3ac33367",
   "metadata": {},
   "outputs": [],
   "source": [
    "master_chain = (\n",
    "    {\"characters\": character_generation_chain, \"genre\":\n",
    "    RunnablePassthrough()}\n",
    "    | RunnableParallel(\n",
    "        characters=itemgetter(\"characters\"),\n",
    "        genre=itemgetter(\"genre\"),\n",
    "        plot=plot_generation_chain,\n",
    "    )\n",
    "    | RunnableParallel(\n",
    "        characters=itemgetter(\"characters\"),\n",
    "        genre=itemgetter(\"genre\"),\n",
    "        plot=itemgetter(\"plot\"),\n",
    "        scenes=scene_generation_plot_chain,\n",
    "    )\n",
    ")"
   ]
  },
  {
   "cell_type": "code",
   "execution_count": null,
   "id": "aa761897-ecf0-47a7-bf98-5a87ea2eb87b",
   "metadata": {},
   "outputs": [],
   "source": [
    "story_result = master_chain.invoke({\"genre\": \"Under 5s children horror mystery\"})"
   ]
  },
  {
   "cell_type": "code",
   "execution_count": null,
   "id": "4fc7af56-8c34-4d1b-92da-cbdb11fc5b33",
   "metadata": {},
   "outputs": [],
   "source": [
    "story_result.keys()"
   ]
  },
  {
   "cell_type": "code",
   "execution_count": null,
   "id": "5d03a6d2-879b-4437-8d65-e69b229d602a",
   "metadata": {},
   "outputs": [],
   "source": [
    "print(story_result['genre'])"
   ]
  },
  {
   "cell_type": "code",
   "execution_count": null,
   "id": "81f30679-6a4e-45bd-864a-008b740bb2da",
   "metadata": {},
   "outputs": [],
   "source": [
    "print(story_result['characters'])"
   ]
  },
  {
   "cell_type": "code",
   "execution_count": null,
   "id": "8a1a8bb9-2b39-4482-9b42-1f6d9433fb1a",
   "metadata": {},
   "outputs": [],
   "source": [
    "print(story_result['plot'])"
   ]
  },
  {
   "cell_type": "code",
   "execution_count": null,
   "id": "bf32de48-19d5-413d-a469-69bc0a622f32",
   "metadata": {},
   "outputs": [],
   "source": [
    "print(story_result['scenes'])"
   ]
  },
  {
   "cell_type": "code",
   "execution_count": null,
   "id": "8a8b2e4d-0fbc-4ce9-9279-ba271b35097e",
   "metadata": {},
   "outputs": [],
   "source": []
  }
 ],
 "metadata": {
  "citation-manager": {
   "items": {}
  },
  "kernelspec": {
   "display_name": "Python 3-12 (COMM4190)",
   "language": "python",
   "name": "python3-12_comm4190"
  },
  "language_info": {
   "codemirror_mode": {
    "name": "ipython",
    "version": 3
   },
   "file_extension": ".py",
   "mimetype": "text/x-python",
   "name": "python",
   "nbconvert_exporter": "python",
   "pygments_lexer": "ipython3",
   "version": "3.12.8"
  }
 },
 "nbformat": 4,
 "nbformat_minor": 5
}
