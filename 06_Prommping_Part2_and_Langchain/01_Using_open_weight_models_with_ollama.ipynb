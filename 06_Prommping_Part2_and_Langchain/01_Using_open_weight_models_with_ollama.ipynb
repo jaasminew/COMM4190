{
 "cells": [
  {
   "cell_type": "markdown",
   "id": "d9a6fcc3-42ea-470b-bb24-f25496fa5c9a",
   "metadata": {},
   "source": [
    "# Ollama\n",
    "\n",
    "* https://ollama.com\n",
    "\n",
    "* Models:\n",
    "  - https://ollama.com/library"
   ]
  },
  {
   "cell_type": "code",
   "execution_count": null,
   "id": "ae9872ca-1a2c-40b9-9e32-73c94fad3db9",
   "metadata": {},
   "outputs": [],
   "source": [
    "import openai\n",
    "import requests\n",
    "import json\n",
    "from openai import OpenAI\n",
    "import pandas as pd"
   ]
  },
  {
   "cell_type": "code",
   "execution_count": null,
   "id": "77d575ef-4fe8-4080-8582-fa2cdddb809d",
   "metadata": {},
   "outputs": [],
   "source": [
    "list_models_url = \"http://10.30.16.100:11434/api/tags\""
   ]
  },
  {
   "cell_type": "code",
   "execution_count": null,
   "id": "b8e22578-2d0c-48d6-83c7-ef83f679b5d4",
   "metadata": {},
   "outputs": [],
   "source": [
    "resp=requests.get(list_models_url)\n",
    "models_json = resp.json()\n"
   ]
  },
  {
   "cell_type": "code",
   "execution_count": null,
   "id": "5b9fd745-96fc-4ab7-9e9d-fbb5307ecba4",
   "metadata": {},
   "outputs": [],
   "source": [
    "for model in models_json['models']:\n",
    "    print(model['name'].replace(':latest',''))"
   ]
  },
  {
   "cell_type": "code",
   "execution_count": null,
   "id": "9974c822-5e99-4f0c-ab2d-f721c4b86111",
   "metadata": {},
   "outputs": [],
   "source": []
  },
  {
   "cell_type": "code",
   "execution_count": null,
   "id": "1c345da6-55df-4dfd-b254-3c0b0205f2f5",
   "metadata": {},
   "outputs": [],
   "source": [
    "client = OpenAI(\n",
    "    base_url = 'http://10.30.16.100:11434/v1',\n",
    "    api_key='ollama', # required, but unused\n",
    ")"
   ]
  },
  {
   "cell_type": "code",
   "execution_count": null,
   "id": "6cbb88d5-5ba0-4e99-9fde-1cca4086aaf2",
   "metadata": {},
   "outputs": [],
   "source": [
    "messages = [\n",
    "    {\"role\": \"system\", \"content\": \"You are a helpful assistant.\"},\n",
    "    {\"role\": \"user\", \"content\": \"Who won the world series in 2020?\"},\n",
    "\n",
    "  ]"
   ]
  },
  {
   "cell_type": "code",
   "execution_count": null,
   "id": "3d8442a4-e38e-4c99-887c-5786feba88d9",
   "metadata": {},
   "outputs": [],
   "source": [
    "response = client.chat.completions.create(\n",
    "  model=\"deepseek-r1:1.5b\",\n",
    "  messages=messages,\n",
    "  max_tokens=1000\n",
    ")\n",
    "print(response.choices[0].message.content)"
   ]
  },
  {
   "cell_type": "code",
   "execution_count": null,
   "id": "25cb4ec5-2e95-4e8b-b1db-4d51de015bcb",
   "metadata": {},
   "outputs": [],
   "source": []
  },
  {
   "cell_type": "code",
   "execution_count": null,
   "id": "9be09905-e3c7-40f7-a4a6-f8e83b173d71",
   "metadata": {},
   "outputs": [],
   "source": []
  },
  {
   "cell_type": "code",
   "execution_count": null,
   "id": "659a2cf5-e42d-4178-8728-7648e8852bea",
   "metadata": {},
   "outputs": [],
   "source": []
  }
 ],
 "metadata": {
  "citation-manager": {
   "items": {}
  },
  "kernelspec": {
   "display_name": "Python 3-12 (COMM4190)",
   "language": "python",
   "name": "python3-12_comm4190"
  },
  "language_info": {
   "codemirror_mode": {
    "name": "ipython",
    "version": 3
   },
   "file_extension": ".py",
   "mimetype": "text/x-python",
   "name": "python",
   "nbconvert_exporter": "python",
   "pygments_lexer": "ipython3",
   "version": "3.12.8"
  }
 },
 "nbformat": 4,
 "nbformat_minor": 5
}
