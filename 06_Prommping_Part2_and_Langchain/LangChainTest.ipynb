{
 "cells": [
  {
   "cell_type": "code",
   "execution_count": 14,
   "id": "fef0d8ce-50e2-4f6f-bd0b-7d189c0dae53",
   "metadata": {},
   "outputs": [],
   "source": [
    "from langchain_openai.chat_models import ChatOpenAI\n",
    "from langchain_core.prompts.chat import (\n",
    "    ChatPromptTemplate,\n",
    "    SystemMessagePromptTemplate,\n",
    "    HumanMessagePromptTemplate\n",
    ")\n",
    "from operator import itemgetter\n",
    "from langchain_core.runnables import RunnableMap\n",
    "from langchain import LLMChain, PromptTemplate  # if needed for other functionalities\n",
    "from langchain_core.output_parsers import StrOutputParser\n",
    "\n",
    "from dotenv import load_dotenv\n",
    "import os"
   ]
  },
  {
   "cell_type": "code",
   "execution_count": 15,
   "id": "901929af-ee14-4114-882b-b95c365d7635",
   "metadata": {},
   "outputs": [],
   "source": [
    "# Load API key\n",
    "_ = load_dotenv()"
   ]
  },
  {
   "cell_type": "markdown",
   "id": "4af509ca-4e99-4fb1-8178-d668dd91129f",
   "metadata": {},
   "source": [
    "# Trial 1: only run chain A"
   ]
  },
  {
   "cell_type": "code",
   "execution_count": 10,
   "id": "93acaa7c-1773-4dc1-847e-fed169fa7193",
   "metadata": {},
   "outputs": [],
   "source": [
    "# 1) System Message\n",
    "system_prompt = \"\"\"You are an extremely creative entrepreneur who has successfully designed and built many commercially successful products.\n",
    "You are helping me generate profitable product ideas.\n",
    "\"\"\"\n",
    "system_message_template = SystemMessagePromptTemplate.from_template(system_prompt)\n",
    "\n",
    "# 2) Chain A - generate 5 questions\n",
    "user_prompt_a = HumanMessagePromptTemplate.from_template(\n",
    "    \"\"\"Please help me come up with product ideas about {product}, targeting {target_customers}.\n",
    "    I want the ideas to be BOLD and INNOVATIVE.\n",
    "\n",
    "    First, generate exactly 5 thought-provoking questions that force me to explore new angles or possibilities for {product} and {target_customers}.\n",
    "    Please output them in the following numbered list format:\n",
    "    1. [keyword(s)]: [question]\n",
    "    2. [keyword(s)]: [question]\n",
    "    3. ...\n",
    "    4. ...\n",
    "    5. ...\n",
    "    \"\"\"\n",
    ")\n",
    "\n",
    "chat_prompt = ChatPromptTemplate.from_messages([\n",
    "    system_message_template,\n",
    "    user_prompt_a\n",
    "])\n",
    "\n",
    "# 3) Create the chatmodel \n",
    "llm = ChatOpenAI(\n",
    "    temperature=0.8,\n",
    ")\n",
    "\n",
    "# 4) Pipe the prompt into the LLM to form a runnable pipeline\n",
    "pipeline_a = chat_prompt | llm"
   ]
  },
  {
   "cell_type": "code",
   "execution_count": 12,
   "id": "9f77f0e3-cce4-46e3-844b-3d3f1fea6eaa",
   "metadata": {},
   "outputs": [
    {
     "name": "stdout",
     "output_type": "stream",
     "text": [
      "1. Customization: How can a notebook be designed to adapt and cater to the diverse UX design process, allowing for personalized layouts and templates?\n",
      "2. Collaboration: In what ways can a notebook facilitate seamless collaboration among UX designers, whether in person or remotely?\n",
      "3. Integration: How can a notebook integrate digital tools and platforms to enhance the UX design workflow, bridging the gap between analog and digital processes?\n",
      "4. Sustainability: Can a notebook be created with sustainable materials and eco-friendly practices, aligning with the values of environmentally conscious UX designers?\n",
      "5. Augmented Reality: How might incorporating augmented reality features into a notebook revolutionize the way UX designers ideate, prototype, and present their work?\n"
     ]
    }
   ],
   "source": [
    "response = pipeline_a.invoke({\"product\": \"a notebook\", \"target_customers\": \"ux designers\"})\n",
    "\n",
    "# print (response.content)"
   ]
  },
  {
   "cell_type": "markdown",
   "id": "6e6142d2-8fd4-43f3-86ed-437914f13e74",
   "metadata": {},
   "source": [
    "# Trial 2: combine Chain A and Chain B"
   ]
  },
  {
   "cell_type": "code",
   "execution_count": 23,
   "id": "94d8f42e-a9df-49b4-be98-00515fb7cf43",
   "metadata": {},
   "outputs": [
    {
     "name": "stdout",
     "output_type": "stream",
     "text": [
      "1. Mobility & Integration: How can a note taker seamlessly integrate with a student's existing digital devices and platforms to ensure notes are easily accessible on the go?\n",
      "- Create a cloud-based note-taking app that syncs across all devices instantly.\n",
      "- Develop a smart pen that transfers handwritten notes to digital formats automatically.\n",
      "- Implement NFC technology for easy sharing and access on multiple devices.\n",
      "\n",
      "2. Artificial Intelligence: How can AI be leveraged in a note taker to provide personalized study recommendations based on a student's note-taking habits and learning style?\n",
      "- Use AI to analyze notes and suggest relevant study materials or resources.\n",
      "- Implement AI chatbots for answering queries related to notes and study topics.\n",
      "- Create an AI-powered study planner based on note-taking patterns.\n",
      "\n",
      "3. Collaboration & Sharing: In what ways can a note taker facilitate real-time collaboration and sharing features to enhance group study sessions among college students?\n",
      "- Enable real-time editing and commenting on shared notes for group study sessions.\n",
      "- Incorporate video conferencing directly within the note-taking app for group discussions.\n",
      "- Implement version control features for collaborative note-taking projects.\n",
      "\n",
      "4. Sustainability & Eco-friendliness: How can a note taker be designed using sustainable materials or with eco-friendly features to appeal to environmentally-conscious college students?\n",
      "- Design the note taker using recycled materials or biodegradable components.\n",
      "- Offer a digital-only option to reduce paper usage and promote sustainability.\n",
      "- Partner with eco-friendly organizations to plant trees for every note taker sold.\n",
      "\n",
      "5. Multimodal Learning: How can a note taker incorporate features that cater to different learning styles, such as visual, auditory, and kinesthetic, to enhance the overall learning experience for students?\n",
      "- Include voice recording capabilities for auditory learners to supplement written notes.\n",
      "- Provide customizable templates for visual learners to organize information graphically.\n",
      "- Integrate interactive quizzes or flashcards for kinesthetic learners to reinforce learning through active participation.\n"
     ]
    }
   ],
   "source": [
    "# 1) System Message\n",
    "system_prompt = \"\"\"You are an extremely creative entrepreneur who has successfully designed and built many commercially successful products.\n",
    "You are helping me generate profitable product ideas.\n",
    "\"\"\"\n",
    "system_message_template = SystemMessagePromptTemplate.from_template(system_prompt)\n",
    "\n",
    "# 2) Chain A - generate 5 questions\n",
    "user_prompt_a = HumanMessagePromptTemplate.from_template(\n",
    "    \"\"\"Please help me come up with product ideas about {product}, targeting {target_customers}.\n",
    "    I want the ideas to be BOLD and INNOVATIVE.\n",
    "\n",
    "    First, generate exactly 5 thought-provoking questions that force me to explore new angles or possibilities for {product} and {target_customers}.\n",
    "    Please output them in the following numbered list format:\n",
    "    1. [keyword(s)]: [question]\n",
    "    2. [keyword(s)]: [question]\n",
    "    3. ...\n",
    "    4. ...\n",
    "    5. ...\n",
    "    \"\"\"\n",
    ")\n",
    "\n",
    "chat_prompt_a = ChatPromptTemplate.from_messages([\n",
    "    system_message_template,\n",
    "    user_prompt_a\n",
    "])\n",
    "\n",
    "# 3) Chain B - generate 3 short answers to each question\n",
    "user_prompt_b = HumanMessagePromptTemplate.from_template(\n",
    "    \"\"\"We have the following 5 questions about {product} targeting {target_customers}:\n",
    "\n",
    "{questions}\n",
    "\n",
    "Now, for each question, generate 3 potential directions (each under 50 words) that are inspirational \n",
    "to guide users in developing their own creative solutions.\n",
    "\n",
    "Format them immediately after each question using an unordered list, for example:\n",
    "\n",
    "1. [keyword(s)]: [question]\n",
    "- direction 1\n",
    "- direction 2\n",
    "- direction 3\n",
    "\n",
    "2. [keyword(s)]: [question]\n",
    "- direction 1\n",
    "- direction 2\n",
    "- direction 3\n",
    "\n",
    "... and so on.\n",
    "\n",
    "Remember to keep each direction under 50 words.\n",
    "\"\"\"\n",
    ")\n",
    "chat_prompt_b = ChatPromptTemplate.from_messages([\n",
    "    system_message_template, \n",
    "    user_prompt_b\n",
    "])\n",
    "\n",
    "# 4) Create a ChatOpenAI model\n",
    "llm = ChatOpenAI(\n",
    "    temperature=0.8,\n",
    ")\n",
    "\n",
    "# 5) Build a single pipeline for both steps\n",
    "pipeline = (\n",
    "    RunnableMap({\n",
    "        \"questions\": chat_prompt_a | llm,  # Chain A\n",
    "        \"product\": itemgetter(\"product\"),\n",
    "        \"target_customers\": itemgetter(\"target_customers\"),\n",
    "    })\n",
    "    | chat_prompt_b\n",
    "    | llm  # Chain B\n",
    ")\n",
    "\n",
    "\n",
    "# 6) Use the pipeline\n",
    "\n",
    "if __name__ == \"__main__\":\n",
    "    inputs = {\n",
    "        \"product\": \"a note taker\",\n",
    "        \"target_customers\": \"college students\"\n",
    "    }\n",
    "\n",
    "    result = pipeline.invoke(inputs)\n",
    "\n",
    "    # 'result' is a ChatMessage object; get its text with .content\n",
    "    print(result.content)"
   ]
  },
  {
   "cell_type": "code",
   "execution_count": null,
   "id": "4e8f0190-5679-443a-bb27-b8e0f1114284",
   "metadata": {},
   "outputs": [],
   "source": []
  }
 ],
 "metadata": {
  "kernelspec": {
   "display_name": "Python 3-12 (COMM4190)",
   "language": "python",
   "name": "python3-12_comm4190"
  },
  "language_info": {
   "codemirror_mode": {
    "name": "ipython",
    "version": 3
   },
   "file_extension": ".py",
   "mimetype": "text/x-python",
   "name": "python",
   "nbconvert_exporter": "python",
   "pygments_lexer": "ipython3",
   "version": "3.12.8"
  }
 },
 "nbformat": 4,
 "nbformat_minor": 5
}
