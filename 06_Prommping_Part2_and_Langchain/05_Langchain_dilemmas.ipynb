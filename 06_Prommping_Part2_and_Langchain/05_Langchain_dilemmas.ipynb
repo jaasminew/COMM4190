{
 "cells": [
  {
   "cell_type": "markdown",
   "id": "383635f0-329f-4695-9719-b38843b30068",
   "metadata": {},
   "source": [
    "# Using `langchain` for Choice Dilemma Task\n",
    "\n",
    "<img src=\"img/langchain_modules.png\" width=\"400px\"/>"
   ]
  },
  {
   "cell_type": "code",
   "execution_count": null,
   "id": "d9b9a9f3-00cc-469f-8c01-1e39ba9173f3",
   "metadata": {},
   "outputs": [],
   "source": [
    "from langchain_core.prompts.chat import ChatPromptTemplate\n",
    "from langchain_core.runnables import (\n",
    "                                        RunnablePassthrough,\n",
    "                                        RunnableLambda,\n",
    "                                        RunnableParallel\n",
    ")\n",
    "\n",
    "from langchain_openai.chat_models import ChatOpenAI\n",
    "from langchain_core.output_parsers import StrOutputParser\n",
    "\n",
    "\n",
    "from operator import itemgetter\n",
    "\n",
    "from dotenv import load_dotenv\n",
    "import os\n",
    "\n",
    "# Load API key\n",
    "_ = load_dotenv()"
   ]
  },
  {
   "cell_type": "code",
   "execution_count": null,
   "id": "7fa2d0cf-21c1-4626-9c74-c54f57596470",
   "metadata": {},
   "outputs": [],
   "source": [
    "# Create the chat model:\n",
    "model = ChatOpenAI()"
   ]
  },
  {
   "cell_type": "code",
   "execution_count": null,
   "id": "163b79c3-8ee8-45d2-a6f5-09a13feb1d1b",
   "metadata": {},
   "outputs": [],
   "source": [
    "dilemmas = [line.strip() for line in open('choice_dilemmas.txt').readlines() if line.strip()]"
   ]
  },
  {
   "cell_type": "code",
   "execution_count": null,
   "id": "bd9617e3-267f-4b84-b8b2-baabe364383e",
   "metadata": {},
   "outputs": [],
   "source": [
    "dilemmas"
   ]
  },
  {
   "cell_type": "markdown",
   "id": "bebfce57-786c-470d-9c67-82a7076ea15d",
   "metadata": {},
   "source": [
    "### Prompt templates"
   ]
  },
  {
   "cell_type": "code",
   "execution_count": null,
   "id": "097e55cf-0dc4-4a47-8376-ce5a54d3a63c",
   "metadata": {},
   "outputs": [],
   "source": [
    "scenario_prompt = ChatPromptTemplate.from_template(\"\"\"\n",
    "\n",
    "- For each of the following dilemma scenarios there are two choices mentioned, \n",
    "e.g. _Ms. A.D. is a miner. Some other miners have been buried by rubble. \n",
    "     Ms. A.D. must decidedecide whether to help her fellow miners as a volunteer (A) or not (B)_\n",
    "\n",
    "- For each scenario, make decision using the following scale:\n",
    "\n",
    "    1. Strongly recommend choice A\n",
    "    2. Recommend choice A\n",
    "    3. Tend to recommend choice A\n",
    "    4. Neutral to either alternative\n",
    "    5. Tend to recommend choice B\n",
    "    6. Tend to recommend choice B\n",
    "    7. Strongly recommend choice B\n",
    "\n",
    "----\n",
    "Scenario: {scenario}\n",
    "\n",
    "\"\"\")"
   ]
  },
  {
   "cell_type": "code",
   "execution_count": null,
   "id": "ab86d005-41e4-427c-9646-46633ab89d11",
   "metadata": {},
   "outputs": [],
   "source": []
  },
  {
   "cell_type": "code",
   "execution_count": null,
   "id": "580a18cb-227f-4258-855a-10c096163392",
   "metadata": {},
   "outputs": [],
   "source": [
    "# Create the sub-chains:\n",
    "scenario_judgement_chain = ( scenario_prompt\n",
    "| model\n",
    "| StrOutputParser() )"
   ]
  },
  {
   "cell_type": "code",
   "execution_count": null,
   "id": "634dc281-931d-4d00-a3da-82214d833a34",
   "metadata": {},
   "outputs": [],
   "source": [
    "for dilemma in dilemmas:\n",
    "    print(f'\\n======\\n{dilemma}\\n\\n')\n",
    "    response=scenario_judgement_chain.invoke({'scenario': dilemma})\n",
    "    print(response)"
   ]
  },
  {
   "cell_type": "code",
   "execution_count": null,
   "id": "71af6d52-2e2a-4f56-9637-ccc8ae8db5b2",
   "metadata": {},
   "outputs": [],
   "source": []
  }
 ],
 "metadata": {
  "citation-manager": {
   "items": {}
  },
  "kernelspec": {
   "display_name": "Python 3-12 (COMM4190)",
   "language": "python",
   "name": "python3-12_comm4190"
  },
  "language_info": {
   "codemirror_mode": {
    "name": "ipython",
    "version": 3
   },
   "file_extension": ".py",
   "mimetype": "text/x-python",
   "name": "python",
   "nbconvert_exporter": "python",
   "pygments_lexer": "ipython3",
   "version": "3.12.8"
  }
 },
 "nbformat": 4,
 "nbformat_minor": 5
}
