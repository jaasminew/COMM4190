{
 "cells": [
  {
   "cell_type": "markdown",
   "id": "61a0eabd-1c7c-49a2-965e-3976b171e155",
   "metadata": {},
   "source": [
    "# Customizing the blog\n",
    "\n",
    "## Overview\n",
    "\n",
    "---"
   ]
  },
  {
   "cell_type": "markdown",
   "id": "1e725115-3757-4c9c-83bd-dd419d8eddcd",
   "metadata": {},
   "source": [
    "### Github Pages view of blog repository\n",
    "\n",
    "* If you completed Step 1 and Step 2 notebooks successfully then you should be able to see the rendered version of your blog on github pages.\n",
    "\n",
    "\n",
    "* The url for the site will be:\n",
    "  - `https://{GITHUB_USERID}.github.io/comm4190_S25_Using_LLMs_Blog`\n",
    "  - replace `{GITHUB_USERID}` with your github user id\n",
    "  - for example, my example blog is:\n",
    "    https://mdbodonnell.github.io/comm4190_S25_Using_LLMs_Blog"
   ]
  },
  {
   "cell_type": "markdown",
   "id": "49ea2ac4-a22c-4b99-aaab-e0e0f694be19",
   "metadata": {},
   "source": [
    "### Blog folder\n",
    "\n",
    "* If you completed Step 1 and Step 2 notebooks successfully then you should have a folder called `comm4190_S25_Using_LLMs_Blog` inside your `comm4190_S25` folder.\n",
    "\n",
    "<img src=\"img/blog_folder.png\" width=\"400px\" />\n",
    "\n",
    "\n",
    "* This is the folder you will use to create blog entries about your experiments with prompting LLMs.\n",
    "\n",
    "\n"
   ]
  },
  {
   "cell_type": "markdown",
   "id": "5f9bd87a-57a9-46c9-a2b3-73d5fdd825e7",
   "metadata": {},
   "source": [
    "#### Files and structure of the blog folder\n",
    "\n",
    "<img src=\"img/blog_folder2.png\" width=\"400px\" />\n",
    "\n",
    "\n",
    "1. The `posts` folder contains the sub-folders for each post you create\n",
    "2. The `profile.jpg` is the default image that will be displayed on the **About** page. Change this by uploading a new image.\n",
    "3. The file `_quarto.yml` has configuration settings for the blog\n",
    "4. The file `about.qmd` is used for the **About** page on the blog\n",
    "5. The file `index.qmd` is used for the structure of the main/home page of the blog\n",
    "\n",
    "**IMPORTANT**\n",
    "- To edit these three files in JupyterHub **DO NOT JUST CLICK ON THEM** and open them up as notebooks. This will cause some issues.\n",
    "- Instead **RIGHT CLICK ON THE FILENAME** and select `Open with > Editor`\n",
    "\n",
    "<img src=\"img/open_with.png\" width=\"400px\" />\n"
   ]
  },
  {
   "attachments": {},
   "cell_type": "markdown",
   "id": "0f834939-7dfb-4bb8-a0b8-6d7972f08278",
   "metadata": {},
   "source": [
    "### Blog settings in `_quarto.yml`\n",
    "\n",
    "* Remember to open this file by **RIGHT CLICK > OPEN WITH > EDITOR**\n",
    "\n",
    "<img src=\"img/quarto_settings.png\" width=\"600px\"/>\n",
    "\n",
    "* Change the title of your blog by editing the `title` value under `website`\n",
    "\n",
    "* You can try different themes/styles by changing the value of `theme` under `html`\n",
    "\n",
    "* You can see the list of themes in the Quarto documentation:\n",
    "  - https://quarto.org/docs/websites/website-blog.html#themes\n",
    "  \n",
    "  Or try them out here:\n",
    "  - https://bootswatch.com/cosmo/"
   ]
  },
  {
   "cell_type": "markdown",
   "id": "f6754775-cd06-4008-ae53-2829ce705c6b",
   "metadata": {},
   "source": [
    "### About page settings in `about.qmd`\n",
    "\n",
    "* Remember to open this file by **RIGHT CLICK > OPEN WITH > EDITOR**\n",
    "\n",
    "<img src=\"img/about_page.png\" width=\"600px\"/>\n",
    "\n",
    "* Change description text in this file to change what is displayed on the **About** page underneath the profile picture."
   ]
  },
  {
   "cell_type": "markdown",
   "id": "2b361a4a-f193-4db0-8760-f9cef10737e3",
   "metadata": {},
   "source": [
    "### About page settings in `about.qmd`\n",
    "\n",
    "* Remember to open this file by **RIGHT CLICK > OPEN WITH > EDITOR**\n",
    "\n",
    "<img src=\"img/blog_index_page.png\" width=\"600px\"/>\n",
    "\n",
    "\n",
    "* The only thing you definitely need to change here is the title of your blog.\n",
    "\n",
    "* You can learn more about the other settings by reading the Quarto documentation:\n",
    "  - https://quarto.org/docs/websites/website-blog.html"
   ]
  },
  {
   "cell_type": "markdown",
   "id": "d420a376-ec75-4d75-927f-ba89e9349a4b",
   "metadata": {},
   "source": [
    "### Updating your blog repository and pushing to `github`\n",
    "\n",
    "* To update your blog after making changes to settings files and/or editing or adding to posts follow these steps.\n",
    "\n",
    "* Go to the `Git` pane on the left hand side (third icon down under the file folder)\n",
    "\n",
    "1. Stage changes\n",
    "   - You will see a list of the files that have changes in your blog folder under the **Changes** option.\n",
    "   \n",
    "   <img src=\"img/stage_changes.png\" width=\"300px\"/>\n",
    "   \n",
    "   - Click the `+` (plus) icon to add these changes to the repository.\n",
    "   <br/><br/>\n",
    "\n",
    "2. Commit changes\n",
    "   - Once add these files will be listed under the **Staged** tab\n",
    "   <img src=\"img/commit_changes.png\" width=\"300px\"/>\n",
    "   - Add a _commit message_ (a short description of what the changes are) in the text book\n",
    "   - Click **COMMIT**\n",
    "   <br/><br/>\n",
    "5. Push changes to github repo\n",
    "   \n",
    "   <img src=\"img/push_changes.png\" width=\"200px\"/>\n",
    "\n",
    "   - Then once the changes are committed you can push them up to the github repo by looking at the top of the `Git` pane for the cloud UP icon with an orange dot.\n",
    "   - Click on this to push the changes to github\n",
    "   - If all goes well you will see a **Successfully pushed** message.\n",
    "   <br/><br/>\n",
    "4. Go to the github repo for your blog and on the **Actions** tab you should see the process of updating your blog has started. If it is successful then the blog should be updated.\n",
    "   "
   ]
  },
  {
   "cell_type": "code",
   "execution_count": null,
   "id": "fd784dcd-e443-4166-8da8-b3eed228c67a",
   "metadata": {},
   "outputs": [],
   "source": []
  }
 ],
 "metadata": {
  "citation-manager": {
   "items": {}
  },
  "kernelspec": {
   "display_name": "Python 3-12 (COMM4190)",
   "language": "python",
   "name": "python3-12_comm4190"
  },
  "language_info": {
   "codemirror_mode": {
    "name": "ipython",
    "version": 3
   },
   "file_extension": ".py",
   "mimetype": "text/x-python",
   "name": "python",
   "nbconvert_exporter": "python",
   "pygments_lexer": "ipython3",
   "version": "3.12.8"
  }
 },
 "nbformat": 4,
 "nbformat_minor": 5
}
