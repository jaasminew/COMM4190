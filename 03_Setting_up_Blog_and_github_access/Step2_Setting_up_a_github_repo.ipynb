{
 "cells": [
  {
   "cell_type": "markdown",
   "id": "37e80184-e3e5-4524-b410-286bda774d4b",
   "metadata": {},
   "source": [
    "# Setting up a `github` repo with github pages\n",
    "\n",
    "## Overview\n",
    "\n",
    "---"
   ]
  },
  {
   "cell_type": "markdown",
   "id": "7da3cfad-32d1-4fc9-a2bf-7025f2376fbb",
   "metadata": {},
   "source": [
    "## Instructions\n",
    "\n",
    "### 1. Create a copy (_fork_) of the template repo from github\n",
    "\n",
    "* Go to the following repo on github in the browser you are already logged into github.com on:\n",
    "    * https://github.com/mbod/comm4190_S25_Using_LLMs_Blog\n",
    "    <br/><br/>\n",
    "\n",
    "* **FORK** the repository\n",
    "  - Click on the **Fork** button on the right hand side\n",
    "    <img src=\"img/fork_repo.png\" width=\"600px\" />\n",
    "\n",
    "  - Click **Create fork**\n",
    "    - **IMPORTANT** Uncheck the \"Copy the **main** branch only\" option\n",
    "    <img src=\"img/create_fork.png\" width=\"600px\" />\n",
    "\n",
    "  - This will create a copy of the repository under your github account\n"
   ]
  },
  {
   "cell_type": "markdown",
   "id": "828f7506-9323-491d-a79d-fa63420832f3",
   "metadata": {},
   "source": [
    "## 2. Set Action and Pages settings on forked repo \n",
    "\n",
    "### Action settings\n",
    "\n",
    "* Go to the forked repository on github\n",
    "\n",
    "* Click on the **Actions** tab\n",
    "  <img src=\"img/gh_actions.png\" width=\"600px\" />\n",
    "\n",
    "  \n",
    "* And click the green button \"I understand my workflows, go ahead and enable them\""
   ]
  },
  {
   "cell_type": "markdown",
   "id": "f71eaa14-46d5-4eb4-a788-828d8748ca47",
   "metadata": {},
   "source": [
    "### Github pages settings\n",
    "\n",
    "* Go to the **Settings** tab for the repo (the last option with the cog icon by it)\n",
    "\n",
    "* Select the **Pages** option from the left hand side\n",
    "  <img src=\"img/repo_settings.png\" width=\"600px\" />\n",
    "\n",
    "\n",
    "* Under the **Branch** selection look for the `gh-pages` branch in the select list.\n",
    "\n",
    "  <img src=\"img/setup_gh_pages1.png\" width=\"400px\" />\n",
    "\n",
    "* Once this is selected hit **Save**\n",
    "\n",
    "  <img src=\"img/setup_gh_pages2.png\" width=\"400px\" />\n"
   ]
  },
  {
   "cell_type": "markdown",
   "id": "14304cb6-13be-47b8-811b-fe8cc11a9a58",
   "metadata": {
    "tags": []
   },
   "source": [
    "## 3. Clone the repository on `commjhub.asc.upenn.edu`\n",
    "- Make sure you have completed the steps in the notebook called `Step1_github_access_token.ipynb`\n",
    "- This has some low level code to help you setup private keys in JupyterHub so you can connect to `github.com` and use the JupyterLab github extension in the left-hand menu bar.\n",
    "\n",
    "<img src=\"img/github_extension.png\" width=\"400px\"/>\n",
    "\n",
    "- Work through the instructions in that notebook carefully"
   ]
  },
  {
   "cell_type": "markdown",
   "id": "8982ca20-05eb-4484-94cd-db03622bf7ea",
   "metadata": {},
   "source": [
    "## 4. Clone a copy of the repo in your `COMM4190_S25` folder\n",
    "\n",
    "1. On github.com go to the forked repository from Step 1 above.\n",
    "   - Click on **Code** \n",
    "   \n",
    "   <img src=\"img/get_clone_url.png\" width=\"400px\"/>\n",
    "   \n",
    "   - Copy the SSH path for the repo\n",
    " \n",
    "   - You can copy the path to your clipboard with the icon to the right of the path\n",
    "   <br/><br/>\n",
    "2. Navigate to the `COMM4190_S25` folder\n",
    "\n",
    "<img src=\"img/course_folder.png\" width=\"250px\"/>\n",
    "<br/><br/>\n",
    "\n",
    "3. Open the github extension in the left menu bar\n",
    "\n",
    "    <img src=\"img/github_extension.png\" width=\"250px\"/>\n",
    "\n",
    "    - click on **Clone Repository**\n",
    "    - paste the SSH path you copied and click **Clone**\n",
    "\n",
    "    <img src=\"img/clone_repo.png\" width=\"300px\"/>"
   ]
  },
  {
   "cell_type": "code",
   "execution_count": null,
   "id": "62074ccd-38e3-4a71-b217-bb3192ae959d",
   "metadata": {},
   "outputs": [],
   "source": []
  }
 ],
 "metadata": {
  "citation-manager": {
   "items": {}
  },
  "kernelspec": {
   "display_name": "Python 3-12 (COMM4190)",
   "language": "python",
   "name": "python3-12_comm4190"
  },
  "language_info": {
   "codemirror_mode": {
    "name": "ipython",
    "version": 3
   },
   "file_extension": ".py",
   "mimetype": "text/x-python",
   "name": "python",
   "nbconvert_exporter": "python",
   "pygments_lexer": "ipython3",
   "version": "3.12.8"
  }
 },
 "nbformat": 4,
 "nbformat_minor": 5
}
