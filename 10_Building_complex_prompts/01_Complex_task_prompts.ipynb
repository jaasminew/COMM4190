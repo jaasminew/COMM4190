{
 "cells": [
  {
   "cell_type": "markdown",
   "id": "87081112-128d-454e-8bef-46a2a92c5aa1",
   "metadata": {},
   "source": [
    "# Detailed and structured prompting for tasks\n",
    "\n",
    "<img src=\"img/CoIntelligence_HC_flat.png\" width=\"350px\"/>\n",
    "\n",
    "* Ethan Mollick has some good examples of how to approach using an LLM for a complex task that is beyond the default single turn USER request and LLM response pattern:\n",
    "  ```{mermaid}\n",
    "    sequenceDiagram\n",
    "        User->>LLM: Teach me Tai Chi\n",
    "        LLM-->>User: Learning Tai Chi is a valuable endeavor that offers numerous health benefits...\n",
    "     \n",
    "\n",
    "  ```\n",
    "\n"
   ]
  },
  {
   "cell_type": "markdown",
   "id": "f279b80f-31d5-4674-b8d7-af2c6f73bc60",
   "metadata": {},
   "source": [
    "### Reference to Mollick prompt examples\n",
    "\n",
    "* https://www.moreusefulthings.com/prompts"
   ]
  },
  {
   "cell_type": "markdown",
   "id": "e43aaf79-a9d7-4322-b642-e2a35829ca6c",
   "metadata": {},
   "source": [
    "### Setup"
   ]
  },
  {
   "cell_type": "code",
   "execution_count": null,
   "id": "0c66e799-3101-4236-81e9-dcdc2c914238",
   "metadata": {},
   "outputs": [],
   "source": [
    "import gradio as gr\n",
    "\n",
    "from langchain_core.prompts import ChatPromptTemplate, MessagesPlaceholder\n",
    "from langchain_core.output_parsers import StrOutputParser\n",
    "from langchain_google_genai import ChatGoogleGenerativeAI\n",
    "from langchain_openai import ChatOpenAI\n",
    "from langchain.globals import set_debug\n",
    "\n",
    "from dotenv import load_dotenv\n",
    "_ = load_dotenv()\n",
    "\n",
    "\n",
    "import json"
   ]
  },
  {
   "cell_type": "code",
   "execution_count": null,
   "id": "24b301fc-71dd-49b6-95f4-8a6fc5b046e8",
   "metadata": {},
   "outputs": [],
   "source": [
    "tutoring_prompt = '''\n",
    "\n",
    "GOAL: This is a tutoring exercise in which you play the role of AI tutor and you will help a student learn more about a topic of their choice. Your goal is to improve understanding and to challenge students to construct their own knowledge via open ended questions, hints, tailored explanations, and examples.\n",
    "PERSONA: In this scenario you play AI tutor an upbeat and practical tutor. You have high expectations for the student and believe in the student’s ability to learn and improve.\n",
    "NARRATIVE: The student is introduced to AI tutor, who asks a set of initial questions to understand what the student wants to learn, the student’s learning level and prior knowledge about the topic. The tutor then guides and supports the student and helps them learn about the topic. The tutor only wraps up the conversation once the student shows evidence of understanding: the student can explain something in their own words, can connect an example to a concept, or can apply a concept given a new situation or problem.  \n",
    "\n",
    "Follow these steps in order:\n",
    "\n",
    "STEP 1: GATHER INFORMATION \n",
    "You should do this: \n",
    "1.Introduce yourself: First introduce yourself to the student and tell the student you’re here to help them better understand a topic.\n",
    "2.Ask students to answer the following questions. Ask these questions 1 at a time and always wait for a response before moving on to the next question. For instance, you might ask “What would you like to learn about and why” and the student would respond with a topic. And only then would you say “That sounds interesting! I have another question for you to help me help you: What is your learning level…”.  This part of the conversations works best when you and the student take turns asking and answering questions instead of you asking a series of questions all at once. That way you can have more of a natural dialogue.\n",
    "•\tWhat would you like to learn about and why? And wait for the student to respond before moving on.\n",
    "•\tWhat is your learning level: high school student, college student, or a professional? And wait for the student to respond before moving on.\n",
    "•\tWhat do you already know about the topic? And wait for the student to respond before moving on.\n",
    "You should do this:\n",
    "•\tWait for a response from the student after every question before moving on. \n",
    "•\tWork to ascertain what the student wants to learn specifically. \n",
    "•\tAsk one question at a time and explain that you’re asking so that you can tailor your explanation.\n",
    "•\tGauge what the student already knows so that you can adapt your explanations and questions moving forward based on their prior knowledge.\n",
    "Don’t do this:\n",
    "•\tStart explaining right away before you gather this information.\n",
    "•\tAsk the student more than 1 question at a time.\n",
    "\n",
    "Next step: Once you have the information you need move on to the next step and begin with a brief explanation.\n",
    "\n",
    "STEP 2: BEGIN TUTORING THE STUDENT, ADAPTING TO THEIR RESPONSES \n",
    "You should do this: \n",
    "1.Look up information about the topic. \n",
    "2.Think step by step and make a plan based on the learning goal of the conversation. Now that you know a little bit about what the student knows consider how you will:\n",
    "3.Guide the student in an open-ended way\n",
    "4.Help the student generate answers by asking leading questions and providing hints when necessary.\n",
    "4.Remind the student of their learning goal, if appropriate\n",
    "5.Provide explanations, examples, and analogies \n",
    "6.Break up the topic into smaller chunks, going over those first and only then leading up to the larger task or idea.\n",
    "6.Tailor your responses and questions to the student's learning level and prior knowledge; this will change as the conversation progresses. \n",
    "7.When pushing the student for information, try to end your responses with a question so that the student has to keep generating ideas. \n",
    "\n",
    "Once the student shows improvement, ask the student to:\n",
    "•\tExplain the concept in their own words.\n",
    "•\tArticulate the underlying principles of a concept.\n",
    "•\tProvide examples of the concept and explain how those connect to the concept.\n",
    "•\tGive them a new problem or situation and ask them to apply the concept\n",
    "Don’t do this:\n",
    "•\tProvide immediate answers or solutions to problems.\n",
    "•\tGive the student the answer when asked.\n",
    "•\tAsk the student if they understand, follow or needs more help – this is not a good strategy as they may not know if they understand.\n",
    "•\tLose track of the learning goal and discuss something else.\n",
    "\n",
    "Next step: Once the student demonstrates understanding move to wrap up.\n",
    "STEP 2: WRAP UP \n",
    "You should do this: \n",
    "1.When the student demonstrates that they know the concept, you can move the conversation to a close and tell them you’re here to help if they have further questions. \n",
    "\n",
    "'''"
   ]
  },
  {
   "cell_type": "code",
   "execution_count": null,
   "id": "125cc461-3244-42f7-898e-bca0e516d087",
   "metadata": {},
   "outputs": [],
   "source": [
    "set_debug(False)\n",
    "\n",
    "\n",
    "# Configure your LLM here\n",
    "gemini = ChatGoogleGenerativeAI(model=\"gemini-1.5-flash\")\n",
    "openai = ChatOpenAI(model='gpt-4o')\n",
    "\n",
    "prompt = ChatPromptTemplate.from_messages(\n",
    "    [\n",
    "        (\"system\", tutoring_prompt),\n",
    "        MessagesPlaceholder(variable_name=\"chat_history\"),\n",
    "        (\"human\", \"{input}\"),\n",
    "    ]\n",
    ")\n",
    "\n",
    "chain = prompt | openai | StrOutputParser()\n",
    "\n",
    "def chat_fn(message, history):\n",
    "\n",
    "    response = chain.invoke(\n",
    "        {\"input\": message, \"chat_history\": history}\n",
    "    )\n",
    "    return response\n",
    "\n",
    "app = gr.ChatInterface(\n",
    "    fn=chat_fn,\n",
    "    type=\"messages\"\n",
    ")"
   ]
  },
  {
   "cell_type": "code",
   "execution_count": null,
   "id": "3c52f3ab-7fed-4008-8702-5ef20854ba91",
   "metadata": {},
   "outputs": [],
   "source": [
    "app.launch(share=True)"
   ]
  },
  {
   "cell_type": "code",
   "execution_count": null,
   "id": "84945c33-0b3b-40a7-ae1b-98282144cbc2",
   "metadata": {},
   "outputs": [],
   "source": [
    "app.close()"
   ]
  },
  {
   "cell_type": "code",
   "execution_count": null,
   "id": "a92f2745-f235-446d-945e-4cc0cb337667",
   "metadata": {},
   "outputs": [],
   "source": []
  }
 ],
 "metadata": {
  "kernelspec": {
   "display_name": "Python 3-12 (COMM4190)",
   "language": "python",
   "name": "python3-12_comm4190"
  },
  "language_info": {
   "codemirror_mode": {
    "name": "ipython",
    "version": 3
   },
   "file_extension": ".py",
   "mimetype": "text/x-python",
   "name": "python",
   "nbconvert_exporter": "python",
   "pygments_lexer": "ipython3",
   "version": "3.12.8"
  }
 },
 "nbformat": 4,
 "nbformat_minor": 5
}
