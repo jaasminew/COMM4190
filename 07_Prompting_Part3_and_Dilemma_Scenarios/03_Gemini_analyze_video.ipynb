{
 "cells": [
  {
   "cell_type": "markdown",
   "id": "702f4b1d-8312-4bb6-809d-662d2a7c2d2d",
   "metadata": {},
   "source": [
    "# Analyze video using Gemini\n",
    "\n",
    "### Overview\n",
    "\n",
    "* Use Google Gemini LLM to analyze and describe a video\n",
    "\n",
    "* **NOTE**\n",
    "  - This is experimental and there is no clear guidelines yet as to what prompting strategies work best. It will likely vary from video to video type.\n",
    "\n",
    "#### Steps\n",
    "\n",
    "1. Upload or download a video in a format like mp4\n",
    "2. To analyze the video with Gemini you first have to upload it to gcloud\n",
    "3. Then edit the prompt string to get the kind of description you want\n",
    "\n",
    "-----"
   ]
  },
  {
   "cell_type": "markdown",
   "id": "fb32cf0d-3823-4535-820f-365b15fe65e3",
   "metadata": {},
   "source": [
    "### Setup"
   ]
  },
  {
   "cell_type": "code",
   "execution_count": null,
   "id": "ff1d85db-c7f2-488e-9a00-df2a9e738928",
   "metadata": {},
   "outputs": [],
   "source": [
    "import os\n",
    "import time\n",
    "\n",
    "from pytube import YouTube\n",
    "\n",
    "\n",
    "import google.generativeai as genai\n",
    "from IPython.display import Markdown, Video\n",
    "from dotenv import load_dotenv\n",
    "\n",
    "_ = load_dotenv()"
   ]
  },
  {
   "cell_type": "markdown",
   "id": "a3a597b6-25b4-4b47-88e5-8e9bfd46038c",
   "metadata": {},
   "source": [
    "#### Setup Gemini API access"
   ]
  },
  {
   "cell_type": "code",
   "execution_count": null,
   "id": "d169ac21-812a-46e0-835d-891469a88f53",
   "metadata": {},
   "outputs": [],
   "source": [
    "genai.configure()\n"
   ]
  },
  {
   "cell_type": "markdown",
   "id": "da2bfed9-352b-4b59-8623-f64a28fba5e6",
   "metadata": {},
   "source": [
    "### Download YouTube video\n",
    "\n",
    "* To download a video from YouTube:\n",
    "  1. Copy the URL and create a string object called `YT_VIDEO_URL`\n",
    "  2. Run the `download_youtube_video()` function:\n",
    "    - `url` - the url of the video\n",
    "    - `output_folderf` - defaults to `data/videos` but can be changed"
   ]
  },
  {
   "cell_type": "markdown",
   "id": "55c9cbdf-443c-4124-a795-e8975adc2c5f",
   "metadata": {},
   "source": [
    "### View video"
   ]
  },
  {
   "cell_type": "code",
   "execution_count": null,
   "id": "27d40186-83a4-487c-9e02-f271e072e2c0",
   "metadata": {},
   "outputs": [],
   "source": [
    "video_file_name = 'videos/Football_Anthem_Film_adidas.mp4'"
   ]
  },
  {
   "cell_type": "code",
   "execution_count": null,
   "id": "2408d352-018a-4a41-aa76-56cdd17cb8f2",
   "metadata": {},
   "outputs": [],
   "source": [
    "Video(video_file_name)"
   ]
  },
  {
   "cell_type": "markdown",
   "id": "a70705fc-b7e5-45cb-906b-96b1103ec214",
   "metadata": {},
   "source": [
    "### Upload video to gcloud so it can be analyzed by Gemini"
   ]
  },
  {
   "cell_type": "code",
   "execution_count": null,
   "id": "7bddee34-79b3-4eaf-93a8-362423bad273",
   "metadata": {},
   "outputs": [],
   "source": [
    "print(f\"Uploading file...\")\n",
    "video_file = genai.upload_file(path=video_file_name)\n",
    "print(f\"Completed upload: {video_file.uri}\")"
   ]
  },
  {
   "cell_type": "code",
   "execution_count": null,
   "id": "22aa50cb-a3e0-45b3-8a75-ae5cebf9c152",
   "metadata": {},
   "outputs": [],
   "source": [
    "\n",
    "# Check whether the file is ready to be used.\n",
    "while video_file.state.name == \"PROCESSING\":\n",
    "    print('.', end='')\n",
    "    time.sleep(10)\n",
    "    video_file = genai.get_file(video_file.name)\n",
    "\n",
    "if video_file.state.name == \"FAILED\":\n",
    "  raise ValueError(video_file.state.name)"
   ]
  },
  {
   "cell_type": "markdown",
   "id": "882640b4-dcfe-499a-9c8a-9e75ead3f10e",
   "metadata": {},
   "source": [
    "### Analyze the video and produce text description"
   ]
  },
  {
   "cell_type": "code",
   "execution_count": null,
   "id": "32a1f8c6-5fad-4099-9b8c-ddf660fba73f",
   "metadata": {},
   "outputs": [],
   "source": [
    "\n",
    "# Create the prompt.\n",
    "prompt = '''\n",
    "    Summarize this video in detail, scene by scene, describing the action, characters, themes\n",
    "    so that someone who cannot see the video would be able to get the same full sense and message\n",
    "    that a person viewing the video does. Include timestamps for each scene and elements described.\n",
    "\n",
    "    Separately produce a transcript of the audio narration with the video also with timestamps.\n",
    "    '''\n",
    "\n",
    "# Choose a Gemini model.\n",
    "model = genai.GenerativeModel(model_name=\"gemini-1.5-pro-latest\")\n",
    "\n",
    "# Make the LLM request.\n",
    "print(\"Making LLM inference request...\")\n",
    "response = model.generate_content([video_file, prompt],\n",
    "                                  request_options={\"timeout\": 600})\n",
    "\n",
    "# Print the response, rendering any Markdown\n",
    "print(response.text)"
   ]
  },
  {
   "cell_type": "code",
   "execution_count": null,
   "id": "2842411c-05c6-4419-ad19-ebb6ad5338a4",
   "metadata": {},
   "outputs": [],
   "source": []
  }
 ],
 "metadata": {
  "citation-manager": {
   "items": {}
  },
  "kernelspec": {
   "display_name": "Python 3-12 (COMM4190)",
   "language": "python",
   "name": "python3-12_comm4190"
  },
  "language_info": {
   "codemirror_mode": {
    "name": "ipython",
    "version": 3
   },
   "file_extension": ".py",
   "mimetype": "text/x-python",
   "name": "python",
   "nbconvert_exporter": "python",
   "pygments_lexer": "ipython3",
   "version": "3.12.8"
  }
 },
 "nbformat": 4,
 "nbformat_minor": 5
}
