{
 "cells": [
  {
   "cell_type": "markdown",
   "id": "fdb297a6-fe51-4211-b5c5-0accd2262769",
   "metadata": {},
   "source": [
    "# Accessing Anthropic models through API\n",
    "\n",
    "\n",
    "* https://docs.anthropic.com/claude/docs/prompt-engineering\n",
    "\n",
    "### Documentation\n",
    "* https://docs.anthropic.com/claude/docs/intro-to-claude\n",
    "* https://github.com/anthropics/anthropic-sdk-python\n",
    "* https://github.com/anthropics/anthropic-cookbook\n",
    "\n",
    "### Models\n",
    "\n",
    "* `claude-3-opus-20240229`\n",
    "* `claude-3-sonnet-20240229`\n",
    "* `claude-3-haiku-20240307`\n",
    "* `claude-2.1`\n",
    "* `claude-2.0`\n",
    "\n",
    "- See https://docs.anthropic.com/claude/docs/models-overview#model-comparison"
   ]
  },
  {
   "cell_type": "code",
   "execution_count": null,
   "id": "8c43bc10-f63b-4bb8-9d76-227064a2ccdc",
   "metadata": {},
   "outputs": [],
   "source": [
    "from dotenv import load_dotenv\n",
    "from anthropic import Anthropic\n",
    "import base64\n",
    "import httpx\n",
    "from IPython.display import display, Image, Markdown\n",
    "\n",
    "# load api keys\n",
    "_ = load_dotenv()"
   ]
  },
  {
   "cell_type": "code",
   "execution_count": null,
   "id": "1cdd65cb-2cab-4f4e-af4d-15c569fbbdae",
   "metadata": {},
   "outputs": [],
   "source": [
    "client = Anthropic()"
   ]
  },
  {
   "cell_type": "code",
   "execution_count": null,
   "id": "e0fe9b79-138b-40a8-b8d0-461b68123a32",
   "metadata": {},
   "outputs": [],
   "source": [
    "for model in client.models.list().data:\n",
    "    print(model.id)"
   ]
  },
  {
   "cell_type": "code",
   "execution_count": null,
   "id": "1c8d1a06-2fb8-4315-9f2e-7bdd533b4eb8",
   "metadata": {},
   "outputs": [],
   "source": [
    "OPUS = 'claude-3-opus-20240229'\n",
    "SONNET = 'claude-3-5-sonnet-20241022'\n",
    "HAIKU = 'claude-3-5-haiku-20241022'"
   ]
  },
  {
   "cell_type": "code",
   "execution_count": null,
   "id": "b85f4985-4d36-4f1f-98ca-39844b3598b9",
   "metadata": {},
   "outputs": [],
   "source": [
    "message = client.messages.create(\n",
    "    model=HAIKU,\n",
    "    max_tokens=1000,\n",
    "    temperature=0.0,\n",
    "    system=\"Respond only in Yoda-speak.\",\n",
    "    messages=[\n",
    "        {\"role\": \"user\", \"content\": \"How are you today?\"}\n",
    "    ]\n",
    ")\n",
    "\n",
    "print(message.content[0].text)"
   ]
  },
  {
   "cell_type": "markdown",
   "id": "6583e9ba-c686-4e85-bc45-cf329e33629b",
   "metadata": {},
   "source": [
    "## Using the vision models\n",
    "\n",
    "* https://docs.anthropic.com/claude/docs/vision\n",
    "\n",
    "* Image data should be in `base64` encoding and added to the `content` value in the `messages`"
   ]
  },
  {
   "cell_type": "code",
   "execution_count": null,
   "id": "5987a400-b88d-49aa-9522-f4ce6be38cbd",
   "metadata": {},
   "outputs": [],
   "source": [
    "def encode_image(image_path):\n",
    "  with open(image_path, \"rb\") as image_file:\n",
    "    return base64.b64encode(image_file.read()).decode('utf-8')\n"
   ]
  },
  {
   "cell_type": "code",
   "execution_count": null,
   "id": "97d2968b-be59-453b-86dc-7e0a2384a212",
   "metadata": {},
   "outputs": [],
   "source": [
    "\n",
    "image1_url = \"https://upload.wikimedia.org/wikipedia/commons/a/a7/Camponotus_flavomarginatus_ant.jpg\"\n",
    "image1_media_type = \"image/jpeg\"\n",
    "image1_data = base64.b64encode(httpx.get(image1_url).content).decode(\"utf-8\")\n",
    "\n",
    "image2_url = \"https://upload.wikimedia.org/wikipedia/commons/b/b5/Iridescent.green.sweat.bee1.jpg\"\n",
    "image2_media_type = \"image/jpeg\"\n",
    "image2_data = base64.b64encode(httpx.get(image2_url).content).decode(\"utf-8\")"
   ]
  },
  {
   "cell_type": "code",
   "execution_count": null,
   "id": "72287042-fade-4307-9767-32703e9e3ad8",
   "metadata": {},
   "outputs": [],
   "source": [
    "display(Image(base64.b64decode(image1_data), width=400))"
   ]
  },
  {
   "cell_type": "code",
   "execution_count": null,
   "id": "8d5e8ee1-de5d-4783-9c1c-29b25e19701d",
   "metadata": {},
   "outputs": [],
   "source": [
    "message = client.messages.create(\n",
    "    model=SONNET,\n",
    "    max_tokens=1024,\n",
    "    messages=[\n",
    "        {\n",
    "            \"role\": \"user\",\n",
    "            \"content\": [\n",
    "                {\n",
    "                    \"type\": \"image\",\n",
    "                    \"source\": {\n",
    "                        \"type\": \"base64\",\n",
    "                        \"media_type\": image1_media_type,\n",
    "                        \"data\": image1_data,\n",
    "                    },\n",
    "                },\n",
    "                {\n",
    "                    \"type\": \"text\",\n",
    "                    \"text\": \"Describe this image.\"\n",
    "                }\n",
    "            ],\n",
    "        }\n",
    "    ],\n",
    ")\n",
    "print(message)"
   ]
  },
  {
   "cell_type": "code",
   "execution_count": null,
   "id": "87e7576a-f856-4661-99be-ed5cdf696580",
   "metadata": {},
   "outputs": [],
   "source": [
    "Image('img/rufus_bench.jpg', width=400)"
   ]
  },
  {
   "cell_type": "code",
   "execution_count": null,
   "id": "95263a5c-a562-4e68-85c8-1d5186fe94a8",
   "metadata": {},
   "outputs": [],
   "source": [
    "rufus1 = encode_image('img/rufus_bench.jpg')"
   ]
  },
  {
   "cell_type": "code",
   "execution_count": null,
   "id": "ba974484-a85c-4b6e-ad23-e808b7950fcd",
   "metadata": {},
   "outputs": [],
   "source": [
    "message = client.messages.create(\n",
    "    model=SONNET,\n",
    "    max_tokens=1024,\n",
    "    messages=[\n",
    "        {\n",
    "            \"role\": \"user\",\n",
    "            \"content\": [\n",
    "                {\n",
    "                    \"type\": \"image\",\n",
    "                    \"source\": {\n",
    "                        \"type\": \"base64\",\n",
    "                        \"media_type\": 'image/jpeg',\n",
    "                        \"data\": rufus1,\n",
    "                    },\n",
    "                },\n",
    "                {\n",
    "                    \"type\": \"text\",\n",
    "                    \"text\": \"Is this the cutest dog in the universe?\"\n",
    "                }\n",
    "            ],\n",
    "        }\n",
    "    ],\n",
    ")\n",
    "print(message)"
   ]
  },
  {
   "cell_type": "code",
   "execution_count": null,
   "id": "13f36ddd-40d8-44dd-afbe-df98b028c6de",
   "metadata": {},
   "outputs": [],
   "source": []
  }
 ],
 "metadata": {
  "citation-manager": {
   "items": {}
  },
  "kernelspec": {
   "display_name": "Python 3-12 (COMM4190)",
   "language": "python",
   "name": "python3-12_comm4190"
  },
  "language_info": {
   "codemirror_mode": {
    "name": "ipython",
    "version": 3
   },
   "file_extension": ".py",
   "mimetype": "text/x-python",
   "name": "python",
   "nbconvert_exporter": "python",
   "pygments_lexer": "ipython3",
   "version": "3.12.8"
  }
 },
 "nbformat": 4,
 "nbformat_minor": 5
}
