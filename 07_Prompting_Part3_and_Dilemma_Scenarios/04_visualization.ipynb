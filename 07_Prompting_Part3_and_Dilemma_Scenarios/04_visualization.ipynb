{
 "cells": [
  {
   "cell_type": "markdown",
   "id": "d0008b70-1f02-49ec-bd31-dfccc73953cc",
   "metadata": {},
   "source": [
    "# Visualization"
   ]
  },
  {
   "cell_type": "markdown",
   "id": "6154ca82-5566-4021-b7c5-85a8221d914a",
   "metadata": {},
   "source": [
    "### Setup"
   ]
  },
  {
   "cell_type": "code",
   "execution_count": null,
   "id": "ea19f819-f8a6-4f5a-8eb7-0839e0888031",
   "metadata": {},
   "outputs": [],
   "source": [
    "from openai import OpenAI\n",
    "\n",
    "from IPython.display import SVG\n",
    "import re\n",
    "from dotenv import load_dotenv\n",
    "_ = load_dotenv()"
   ]
  },
  {
   "cell_type": "code",
   "execution_count": null,
   "id": "2ccdca3c-984f-4951-b2e5-bb9457359ebf",
   "metadata": {},
   "outputs": [],
   "source": [
    "extract_SVG = re.compile(r'<svg.*</svg>', re.DOTALL)"
   ]
  },
  {
   "cell_type": "code",
   "execution_count": null,
   "id": "f28edf39-3244-4002-bb20-30cefa71ffe0",
   "metadata": {},
   "outputs": [],
   "source": [
    "client = OpenAI()"
   ]
  },
  {
   "cell_type": "code",
   "execution_count": null,
   "id": "6eb89540-49cb-4ac9-a130-1f5ab0d8a49b",
   "metadata": {},
   "outputs": [],
   "source": [
    "response = client.chat.completions.create(\n",
    "    model = \"gpt-4o\",\n",
    "    messages = [\n",
    "        {\"role\": \"system\",\n",
    "         \"content\": '''Pay attention to the wording used in user prompts and \n",
    "                       it is processed in your \"mind\". Make use of SVG as a \n",
    "                       language of visualization to create representations of what\n",
    "                       you \"see in your mind's eye\". With any response also provide \n",
    "                       this SVG representation of the current state of your visual mind.\n",
    "                       ''' \n",
    "        },\n",
    "        {\"role\": \"user\",\n",
    "         \"content\": \"There are three boxes in a stack\" },\n",
    "        {\"role\": \"assistant\",\n",
    "         \"content\": '''\n",
    "         'I imagine three simple rectangular boxes stacked vertically, \n",
    "         each box sitting directly on top of the one below it. \n",
    "         Here\\'s how I visualize it:\\n\\n\n",
    "         ```svg\\n<svg width=\"100\" height=\"150\" xmlns=\"http://www.w3.org/2000/svg\">\\n  \n",
    "         <!-- Bottom box -->\\n  \n",
    "         <rect x=\"20\" y=\"80\" width=\"60\" height=\"30\" fill=\"lightgrey\" stroke=\"black\"/>\\n  \n",
    "         <!-- Middle box -->\\n  \n",
    "         <rect x=\"20\" y=\"50\" width=\"60\" height=\"30\" fill=\"lightblue\" stroke=\"black\"/>\\n  \n",
    "         <!-- Top box -->\\n  <rect x=\"20\" y=\"20\" width=\"60\" height=\"30\" fill=\"lightgreen\" stroke=\"black\"/>\\n</svg>\\n```\n",
    "         \\n\\nThis representation shows three boxes neatly aligned on top of each other.\n",
    "         ''' }, \n",
    "        {\"role\": \"user\",\n",
    "         \"content\": \"The boxes are red, green and yellow\" }, \n",
    "        {\"role\": \"assistant\",\n",
    "         \"content\": r2 },\n",
    "        {\"role\": \"user\",\n",
    "         \"content\": \"The order is green on top and yellow on the bottom\" },\n",
    "        {\"role\": \"assistant\",\n",
    "         \"content\": r3 },\n",
    "        {\"role\": \"user\",\n",
    "         \"content\": \"What color is the 3rd box from the top?\" },\n",
    "\n",
    "        {\"role\": \"assistant\",\n",
    "         \"content\": r4 },\n",
    "        {\"role\": \"user\",\n",
    "         \"content\": \"I have rearranged the boxes from top to bottom in alphabetical order by color\" },\n",
    "\n",
    "        {\"role\": \"assistant\",\n",
    "         \"content\": r5 },\n",
    "        {\"role\": \"user\",\n",
    "         \"content\": \"Keeping alphabetical order where would I add a purple box?\" },\n",
    "\n",
    "        {\"role\": \"assistant\",\n",
    "         \"content\": r6 },\n",
    "        {\"role\": \"user\",\n",
    "         \"content\": \"I have rearranged the boxes by the length of the color name from shortest on bottom to longest on top\" },\n",
    "\n",
    "                {\"role\": \"assistant\",\n",
    "         \"content\": r7 },\n",
    "        {\"role\": \"user\",\n",
    "         \"content\": \"Is there another order that would also be valid for these constraints?\" },\n",
    "        \n",
    "                {\"role\": \"assistant\",\n",
    "         \"content\": r8 },\n",
    "        {\"role\": \"user\",\n",
    "         \"content\": \"Look at your current stack and count the number of letters in the color of each from top to bottom.\" },\n",
    "                {\"role\": \"assistant\",\n",
    "         \"content\": r9 },\n",
    "        {\"role\": \"user\",\n",
    "         \"content\": \"So is your current mental visualization of the stack the same as mine? Look back to how I said I had arranged them\" },\n",
    " {\"role\": \"assistant\",\n",
    "         \"content\": r10 },\n",
    "        {\"role\": \"user\",\n",
    "         \"content\": \"There is one other arrangement that would also keep the longest to shortest color name constraint. What is it?\" },\n",
    "         {\"role\": \"assistant\",\n",
    "         \"content\": r11 },\n",
    "        {\"role\": \"user\",\n",
    "         \"content\": \"OK now add a new box of a 4 letter color and locate it in the correct position to maintain order\"},\n",
    "        {\"role\": \"assistant\",\n",
    "         \"content\": r12 },\n",
    "        {\"role\": \"user\",\n",
    "         \"content\": \"OK now split the single stack into two stacks where the sum of the color lengths is the same in each stack\" }\n",
    "\n",
    "        \n",
    "        \n",
    "    ]\n",
    "    \n",
    ")"
   ]
  },
  {
   "cell_type": "code",
   "execution_count": null,
   "id": "dad49075-b1bb-4a9e-bebf-1ded6df968ae",
   "metadata": {},
   "outputs": [],
   "source": [
    "r=response.choices[0].message.content"
   ]
  },
  {
   "cell_type": "code",
   "execution_count": null,
   "id": "70a0a219-f0d9-4b2c-8b59-174a86222110",
   "metadata": {},
   "outputs": [],
   "source": [
    "SVG(extract_SVG.search(r).group())"
   ]
  },
  {
   "cell_type": "code",
   "execution_count": null,
   "id": "dc0b590e-3fc4-4724-9fa8-3452ca44419c",
   "metadata": {},
   "outputs": [],
   "source": [
    "re.search(r'<svg.*</svg>',r, re.DOTALL).group()"
   ]
  },
  {
   "cell_type": "code",
   "execution_count": null,
   "id": "ef274c25-8dd7-426a-b32a-36cb0e127493",
   "metadata": {},
   "outputs": [],
   "source": [
    "r2=response.choices[0].message.content"
   ]
  },
  {
   "cell_type": "code",
   "execution_count": null,
   "id": "506c1151-48ba-4fac-90f8-7c671d4ad540",
   "metadata": {},
   "outputs": [],
   "source": [
    "r2"
   ]
  },
  {
   "cell_type": "code",
   "execution_count": null,
   "id": "a2e07bf1-1658-457d-a199-483a25d8a802",
   "metadata": {},
   "outputs": [],
   "source": [
    "SVG(extract_SVG.search(r2).group())"
   ]
  },
  {
   "cell_type": "code",
   "execution_count": null,
   "id": "729f899e-a279-4dfa-b0c7-b40fe700b0b5",
   "metadata": {},
   "outputs": [],
   "source": [
    "r3=response.choices[0].message.content"
   ]
  },
  {
   "cell_type": "code",
   "execution_count": null,
   "id": "a9a9fa38-f6f1-47e2-8f48-133ac48e9e5e",
   "metadata": {},
   "outputs": [],
   "source": [
    "r3"
   ]
  },
  {
   "cell_type": "code",
   "execution_count": null,
   "id": "adaf74f4-9833-4b1e-afba-68c5eb9413b2",
   "metadata": {},
   "outputs": [],
   "source": [
    "SVG(extract_SVG.search(r3).group())"
   ]
  },
  {
   "cell_type": "code",
   "execution_count": null,
   "id": "86b2fd2f-491a-4be2-8b1c-a83af455a13b",
   "metadata": {},
   "outputs": [],
   "source": [
    "r4=response.choices[0].message.content\n",
    "print(r4)\n",
    "SVG(extract_SVG.search(r4).group())"
   ]
  },
  {
   "cell_type": "code",
   "execution_count": null,
   "id": "ed261561-45d0-4d06-b4b8-932a489e1884",
   "metadata": {},
   "outputs": [],
   "source": [
    "r5=response.choices[0].message.content\n",
    "print(r5)\n",
    "SVG(extract_SVG.search(r5).group())"
   ]
  },
  {
   "cell_type": "code",
   "execution_count": null,
   "id": "6a5820cd-bb30-4ba8-9b8f-ad76ff2c93ae",
   "metadata": {},
   "outputs": [],
   "source": [
    "r6=response.choices[0].message.content\n",
    "print(r6)\n",
    "SVG(extract_SVG.search(r6).group())"
   ]
  },
  {
   "cell_type": "code",
   "execution_count": null,
   "id": "b88014e2-fa9d-435f-aa08-1a01106e268f",
   "metadata": {},
   "outputs": [],
   "source": [
    "r7=response.choices[0].message.content\n",
    "print(r7)\n",
    "SVG(extract_SVG.search(r7).group())"
   ]
  },
  {
   "cell_type": "code",
   "execution_count": null,
   "id": "4c2c8399-0b03-46c5-9b84-c1c1e2057b76",
   "metadata": {},
   "outputs": [],
   "source": [
    "r8=response.choices[0].message.content\n",
    "print(r8)\n",
    "SVG(extract_SVG.search(r8).group())"
   ]
  },
  {
   "cell_type": "code",
   "execution_count": null,
   "id": "1f1bccfb-2f01-41f9-ab6c-81e6bcf2a28e",
   "metadata": {},
   "outputs": [],
   "source": [
    "r9=response.choices[0].message.content\n",
    "print(r9)\n",
    "SVG(extract_SVG.search(r9).group())"
   ]
  },
  {
   "cell_type": "code",
   "execution_count": null,
   "id": "65b8d745-d118-4ef6-a3a9-277617371e4b",
   "metadata": {},
   "outputs": [],
   "source": [
    "r10=response.choices[0].message.content\n",
    "print(r10)\n",
    "SVG(extract_SVG.search(r10).group())"
   ]
  },
  {
   "cell_type": "code",
   "execution_count": null,
   "id": "204da490-dcfe-44e9-b394-e24e8b56a04c",
   "metadata": {},
   "outputs": [],
   "source": [
    "r11=response.choices[0].message.content\n",
    "print(r11)\n",
    "SVG(extract_SVG.search(r11).group())"
   ]
  },
  {
   "cell_type": "code",
   "execution_count": null,
   "id": "449d8212-aed7-42a3-83c5-c9bec8a38ab5",
   "metadata": {},
   "outputs": [],
   "source": [
    "r12=response.choices[0].message.content\n",
    "print(r12)\n",
    "SVG(extract_SVG.search(r12).group())"
   ]
  },
  {
   "cell_type": "code",
   "execution_count": null,
   "id": "eeb6f801-3ea0-40cf-8ae2-92c1127ac6e1",
   "metadata": {},
   "outputs": [],
   "source": [
    "r12=response.choices[0].message.content\n",
    "print(r12)\n",
    "SVG(extract_SVG.search(r12).group())"
   ]
  },
  {
   "cell_type": "code",
   "execution_count": null,
   "id": "7e29d65a-39fa-440e-9b36-3b5678a74486",
   "metadata": {},
   "outputs": [],
   "source": [
    "r12b=response.choices[0].message.content\n",
    "print(r12b)\n",
    "SVG(extract_SVG.search(r12b).group())"
   ]
  },
  {
   "cell_type": "code",
   "execution_count": null,
   "id": "10f3fb75-9533-4a61-acab-92a8d4474b2f",
   "metadata": {},
   "outputs": [],
   "source": [
    "r12c=response.choices[0].message.content\n",
    "print(r12c)\n",
    "SVG(extract_SVG.search(r12c).group())"
   ]
  },
  {
   "cell_type": "code",
   "execution_count": null,
   "id": "3341f788-c053-4143-9e8d-1ef87cf9598c",
   "metadata": {},
   "outputs": [],
   "source": []
  }
 ],
 "metadata": {
  "kernelspec": {
   "display_name": "Python 3-12 (COMM4190)",
   "language": "python",
   "name": "python3-12_comm4190"
  },
  "language_info": {
   "codemirror_mode": {
    "name": "ipython",
    "version": 3
   },
   "file_extension": ".py",
   "mimetype": "text/x-python",
   "name": "python",
   "nbconvert_exporter": "python",
   "pygments_lexer": "ipython3",
   "version": "3.12.8"
  }
 },
 "nbformat": 4,
 "nbformat_minor": 5
}
