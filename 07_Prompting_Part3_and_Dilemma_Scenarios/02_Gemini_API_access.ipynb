{
 "cells": [
  {
   "cell_type": "markdown",
   "id": "1d56209a-c405-4e74-9c12-38ee88d2b128",
   "metadata": {},
   "source": [
    "# Google Gemini API examples\n",
    "\n",
    "* https://github.com/google-gemini/cookbook/blob/main/quickstarts/File_API.ipynb\n",
    "* https://ai.google.dev/"
   ]
  },
  {
   "cell_type": "code",
   "execution_count": null,
   "id": "27a660d8-db6c-44fa-be75-b9fbc865ddc5",
   "metadata": {},
   "outputs": [],
   "source": [
    "\n",
    "import google.generativeai as genai\n",
    "from IPython.display import Image, display, Markdown\n",
    "from dotenv import load_dotenv\n",
    "import os\n",
    "_ = load_dotenv()"
   ]
  },
  {
   "cell_type": "code",
   "execution_count": null,
   "id": "a8b8e006-babb-49d4-b7a2-f7dc2e0103b5",
   "metadata": {},
   "outputs": [],
   "source": [
    "genai.configure()"
   ]
  },
  {
   "cell_type": "code",
   "execution_count": null,
   "id": "d98203e4-7e9d-4e68-a969-51e23eb7f0ae",
   "metadata": {},
   "outputs": [],
   "source": [
    "sample_file = genai.upload_file(path=\"img/rufus_bench.jpg\",\n",
    "                                display_name=\"Rufus on the bench\")\n",
    "\n",
    "print(f\"Uploaded file '{sample_file.display_name}' as: {sample_file.uri}\")"
   ]
  },
  {
   "cell_type": "code",
   "execution_count": null,
   "id": "03dd46da-74dc-47c7-af74-ef03fbf86527",
   "metadata": {},
   "outputs": [],
   "source": [
    "Image('img/rufus_bench.jpg', width=300)"
   ]
  },
  {
   "cell_type": "code",
   "execution_count": null,
   "id": "70e604cb-883f-45a4-9d43-8d9a3480c9af",
   "metadata": {},
   "outputs": [],
   "source": [
    "\n",
    "model = genai.GenerativeModel(model_name=\"models/gemini-1.5-pro-latest\")\n",
    "\n",
    "response = model.generate_content([\"Describe the image with a creative description.\", sample_file])\n",
    "\n",
    "print(response.text)"
   ]
  },
  {
   "cell_type": "markdown",
   "id": "ec700fd3-1bae-4034-939d-dafe01f980ce",
   "metadata": {},
   "source": [
    "### List models"
   ]
  },
  {
   "cell_type": "code",
   "execution_count": null,
   "id": "756becc4-853b-4467-b4c2-43a3c2e4b4e5",
   "metadata": {},
   "outputs": [],
   "source": [
    "model_names = list(genai.list_models())\n",
    "\n",
    "for model in model_names:\n",
    "    display(Markdown(f'**`{model.name}`** {model.description}\\n'))"
   ]
  },
  {
   "cell_type": "code",
   "execution_count": null,
   "id": "442ecf44-0e8c-4e6f-aab6-ca462c2fe820",
   "metadata": {},
   "outputs": [],
   "source": []
  },
  {
   "cell_type": "code",
   "execution_count": null,
   "id": "52132e71-1ea0-4330-b22d-42051cd8303b",
   "metadata": {},
   "outputs": [],
   "source": []
  }
 ],
 "metadata": {
  "citation-manager": {
   "items": {}
  },
  "kernelspec": {
   "display_name": "Python 3-12 (COMM4190)",
   "language": "python",
   "name": "python3-12_comm4190"
  },
  "language_info": {
   "codemirror_mode": {
    "name": "ipython",
    "version": 3
   },
   "file_extension": ".py",
   "mimetype": "text/x-python",
   "name": "python",
   "nbconvert_exporter": "python",
   "pygments_lexer": "ipython3",
   "version": "3.12.8"
  }
 },
 "nbformat": 4,
 "nbformat_minor": 5
}
