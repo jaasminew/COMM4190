{
 "cells": [
  {
   "cell_type": "markdown",
   "id": "3fbad79f-5112-45a5-bfa1-a574cfe02f57",
   "metadata": {},
   "source": [
    "# What is ChatGPT Doing? \n",
    "\n",
    "## Using GPT2\n",
    "\n",
    "* https://writings.stephenwolfram.com/2023/02/what-is-chatgpt-doing-and-why-does-it-work/"
   ]
  },
  {
   "cell_type": "markdown",
   "id": "1b23dd8f-4926-4274-98f2-aeae3c8a575d",
   "metadata": {},
   "source": [
    "### Setup"
   ]
  },
  {
   "cell_type": "code",
   "execution_count": 1,
   "id": "5f0808a2-aff5-44e8-a711-d91064e11932",
   "metadata": {},
   "outputs": [],
   "source": [
    "import torch\n",
    "from torch.nn.functional import cosine_similarity\n",
    "from transformers import AutoModelForCausalLM\n",
    "from transformers import AutoTokenizer\n",
    "import re\n",
    "import numpy as np\n",
    "import pandas as pd\n",
    "import seaborn as sns\n",
    "import matplotlib.pyplot as plt\n",
    "from sklearn.manifold import TSNE\n",
    "\n",
    "cache_dir='/Commjhub/HF_cache'"
   ]
  },
  {
   "cell_type": "code",
   "execution_count": null,
   "id": "173e6236-8401-4af6-9c5c-d601ae295a00",
   "metadata": {},
   "outputs": [],
   "source": [
    "def plot_embedding(data, ax=None):\n",
    "    matrix = torch.reshape(data, (12,64)).detach().numpy()\n",
    "\n",
    "    if ax:\n",
    "        sns.heatmap(matrix, center=0, cmap='Oranges', ax=ax, \n",
    "                    cbar=False,\n",
    "                    xticklabels=False, yticklabels=False)\n",
    "    else:\n",
    "        sns.heatmap(matrix, center=0, cmap='Oranges')"
   ]
  },
  {
   "cell_type": "code",
   "execution_count": null,
   "id": "586feee5-0ebe-4ee1-b900-93449d6adfef",
   "metadata": {},
   "outputs": [],
   "source": [
    "gpt2 = AutoModelForCausalLM.from_pretrained(\"gpt2\", cache_dir=cache_dir,\n",
    "                                            return_dict_in_generate=True)\n",
    "\n",
    "tokenizer = AutoTokenizer.from_pretrained(\"gpt2\", cache_dir=cache_dir)\n",
    "tokenizer.pad_token_id = tokenizer.eos_token_id\n"
   ]
  },
  {
   "cell_type": "markdown",
   "id": "b4a0bbfc-f78b-4b2a-85fe-cfba535a5309",
   "metadata": {},
   "source": [
    "### Tokenization"
   ]
  },
  {
   "cell_type": "code",
   "execution_count": null,
   "id": "0f57b8c0-47c5-4b18-bea1-7175a42127e8",
   "metadata": {},
   "outputs": [],
   "source": [
    "text = \"Once upon a time there was a lonely LLM. One day a new one called ChatGPT come along\""
   ]
  },
  {
   "cell_type": "code",
   "execution_count": null,
   "id": "e088b5dc-e018-4205-a18a-0223140041ff",
   "metadata": {},
   "outputs": [],
   "source": [
    "tokens_ws = text.split()\n",
    "\n",
    "tokens_ws[:5]"
   ]
  },
  {
   "cell_type": "code",
   "execution_count": 40,
   "id": "622b7bc3-13bb-481d-a82b-aa0776d0cac9",
   "metadata": {},
   "outputs": [
    {
     "data": {
      "text/plain": [
       "18"
      ]
     },
     "execution_count": 40,
     "metadata": {},
     "output_type": "execute_result"
    }
   ],
   "source": [
    "len(tokens_ws)"
   ]
  },
  {
   "cell_type": "code",
   "execution_count": 41,
   "id": "aa1a5d80-6974-49d9-98e9-71343c2d1a16",
   "metadata": {},
   "outputs": [
    {
     "name": "stdout",
     "output_type": "stream",
     "text": [
      "['Once', 'upon', 'a', 'time', 'there', 'was', 'a', 'lonely', 'LLM.', 'One', 'day', 'a', 'new', 'one', 'called', 'ChatGPT', 'come', 'along']\n"
     ]
    }
   ],
   "source": [
    "print(tokens_ws)"
   ]
  },
  {
   "cell_type": "code",
   "execution_count": 39,
   "id": "c526014f-17f0-4e58-9bde-7f5bce24b28f",
   "metadata": {},
   "outputs": [
    {
     "data": {
      "text/plain": [
       "2"
      ]
     },
     "execution_count": 39,
     "metadata": {},
     "output_type": "execute_result"
    }
   ],
   "source": [
    "tokens_gpt = tokenizer.encode(text)\n",
    "len(tokens_gpt)"
   ]
  },
  {
   "cell_type": "code",
   "execution_count": 38,
   "id": "92cc9bb2-4f5a-421a-9752-3b5d2cc5c929",
   "metadata": {},
   "outputs": [
    {
     "name": "stdout",
     "output_type": "stream",
     "text": [
      "83        |t|\n",
      "30915     |ruck|\n"
     ]
    }
   ],
   "source": [
    "for tid in tokens_gpt:\n",
    "    token_str = tokenizer.decode(tid)\n",
    "    print(f\"{ tid: <10}|{ token_str }|\")"
   ]
  },
  {
   "cell_type": "markdown",
   "id": "47668343-b6bc-48fb-891a-154fc75380b1",
   "metadata": {},
   "source": [
    "### Predicting the next token"
   ]
  },
  {
   "cell_type": "code",
   "execution_count": 10,
   "id": "12545e82-ba6a-4af5-a3ea-b9bb40f51ba4",
   "metadata": {},
   "outputs": [
    {
     "name": "stdout",
     "output_type": "stream",
     "text": [
      "Input sequence:\n",
      "\n",
      "\tOnce upon a time there was a lonely LLM. One day a new one called ChatGPT come along\n"
     ]
    }
   ],
   "source": [
    "print(f'Input sequence:\\n\\n\\t{text}')"
   ]
  },
  {
   "cell_type": "code",
   "execution_count": 11,
   "id": "320d570b-a983-42fb-af2a-c8baa74de71d",
   "metadata": {},
   "outputs": [
    {
     "name": "stdout",
     "output_type": "stream",
     "text": [
      "Tokenized input data:\n",
      "\n",
      "\tids: tensor([[ 7454,  2402,   257,   640,   612,   373,   257, 21757, 27140,    44,\n",
      "            13,  1881,  1110,   257,   649,   530,  1444, 24101,    38, 11571,\n",
      "          1282,  1863]])\n",
      "\n",
      "\tattention_mask: tensor([[1, 1, 1, 1, 1, 1, 1, 1, 1, 1, 1, 1, 1, 1, 1, 1, 1, 1, 1, 1, 1, 1]])\n"
     ]
    }
   ],
   "source": [
    "inputs = tokenizer(text, return_tensors=\"pt\")\n",
    "\n",
    "\n",
    "print(f\"Tokenized input data:\\n\\n\\tids: {inputs['input_ids']}\\n\\n\\tattention_mask: {inputs['attention_mask']}\")"
   ]
  },
  {
   "cell_type": "code",
   "execution_count": 12,
   "id": "9ce97447-0b4a-4716-989f-40c89e4e81a3",
   "metadata": {},
   "outputs": [
    {
     "name": "stdout",
     "output_type": "stream",
     "text": [
      "All logits for the next token:\n",
      "\n",
      "tensor([[ -87.3257,  -90.6228,  -97.0934,  ..., -102.1836,  -99.2723,\n",
      "          -92.1162]])\n",
      "torch.Size([1, 50257])\n"
     ]
    }
   ],
   "source": [
    "with torch.no_grad():\n",
    "  logits = gpt2(**inputs).logits[:, -1, :]\n",
    "print(\"All logits for the next token:\\n\")\n",
    "print(logits)\n",
    "print(logits.shape)"
   ]
  },
  {
   "cell_type": "code",
   "execution_count": 13,
   "id": "65ac8121-522e-484c-9bfa-c68eb08cda92",
   "metadata": {},
   "outputs": [
    {
     "name": "stdout",
     "output_type": "stream",
     "text": [
      "\n",
      "Predicted token ID of next word: \n",
      "290\n",
      "\n",
      "Predicted next word for sequence: \n",
      " and\n"
     ]
    }
   ],
   "source": [
    "pred_id = torch.argmax(logits).item()\n",
    "print(\"\\nPredicted token ID of next word: \")\n",
    "print(pred_id)\n",
    "\n",
    "pred_word = tokenizer.decode(pred_id)\n",
    "print(\"\\nPredicted next word for sequence: \")\n",
    "print(pred_word)\n"
   ]
  },
  {
   "cell_type": "markdown",
   "id": "3b78ed43-9bd8-49bb-8928-c22db4d47555",
   "metadata": {},
   "source": [
    "#### Show the top 5 possible completions"
   ]
  },
  {
   "cell_type": "code",
   "execution_count": 14,
   "id": "96eb20ec-9d35-4789-ae1b-f7cd6fcac3fc",
   "metadata": {},
   "outputs": [
    {
     "name": "stdout",
     "output_type": "stream",
     "text": [
      "1      290 | and|\n",
      "2       13 |.|\n",
      "3       11 |,|\n",
      "4      284 | to|\n",
      "5      351 | with|\n"
     ]
    }
   ],
   "source": [
    "for rank, wid in enumerate(torch.argsort(logits, descending=True)[0][:5],1):\n",
    "    print(f'{rank} {wid.item(): 8} |{tokenizer.decode(wid)}|')"
   ]
  },
  {
   "cell_type": "markdown",
   "id": "fa7c5371-9254-459b-8400-7281ef611f72",
   "metadata": {},
   "source": [
    "### The example from Wolfram article"
   ]
  },
  {
   "cell_type": "code",
   "execution_count": 15,
   "id": "1ebb55b8-1b32-4d51-aec5-55b3b00856b0",
   "metadata": {},
   "outputs": [],
   "source": [
    "wolfram = \"The best thing about AI is its ability to\""
   ]
  },
  {
   "cell_type": "code",
   "execution_count": 16,
   "id": "cc0f9eee-bcbc-45b2-adbb-05a658ce9336",
   "metadata": {},
   "outputs": [
    {
     "name": "stdout",
     "output_type": "stream",
     "text": [
      "Output from final layer is torch.Size([50257]) items (all items in vocabulary)\n",
      "\n",
      "Probabilities for each vocabulary item occurring next:\n",
      "\ttensor([1.4932e-06, 1.6340e-06, 5.9778e-09, 7.3276e-09, 2.0416e-07, 8.2873e-08,\n",
      "        9.7235e-07, 2.7717e-07, 1.1047e-06, 1.4871e-07]) ...etc..\n",
      "\n",
      " learn              4.5%\n",
      " predict            3.5%\n",
      " make               3.2%\n",
      " understand         3.1%\n",
      " do                 2.9%\n"
     ]
    }
   ],
   "source": [
    "\n",
    "encoded_text = tokenizer(wolfram, return_tensors=\"pt\")\n",
    "\n",
    "#1. step to get the logits of the next token\n",
    "with torch.inference_mode():\n",
    "  outputs = gpt2(**encoded_text)\n",
    "\n",
    "next_token_logits = outputs.logits[0, -1, :]\n",
    "\n",
    "print(f\"Output from final layer is {next_token_logits.shape} items (all items in vocabulary)\")\n",
    "\n",
    "# 2. step to convert the logits to probabilities\n",
    "next_token_probs = torch.softmax(next_token_logits, -1)\n",
    "print(f\"\\nProbabilities for each vocabulary item occurring next:\\n\\t{next_token_probs[:10]} ...etc..\\n\")\n",
    "\n",
    "# 3. step to get the top 5\n",
    "topk_next_tokens= torch.topk(next_token_probs, 5)\n",
    "\n",
    "for idx, prob in zip(topk_next_tokens.indices, topk_next_tokens.values):\n",
    "    print(f\"{tokenizer.decode(idx): <20}{prob:.1%}\")"
   ]
  },
  {
   "cell_type": "markdown",
   "id": "d269411f-bc55-4332-9129-1d68295ddffb",
   "metadata": {},
   "source": [
    "### Continue generating text"
   ]
  },
  {
   "cell_type": "code",
   "execution_count": 17,
   "id": "da8160ad-3eb4-413d-bf9d-661a018ce636",
   "metadata": {},
   "outputs": [],
   "source": [
    "inputs = tokenizer(wolfram, return_tensors=\"pt\")"
   ]
  },
  {
   "cell_type": "code",
   "execution_count": 18,
   "id": "112213b7-28cf-4ce0-91b3-8f10ec38f339",
   "metadata": {},
   "outputs": [
    {
     "name": "stderr",
     "output_type": "stream",
     "text": [
      "<>:24: SyntaxWarning: invalid escape sequence '\\s'\n",
      "<>:24: SyntaxWarning: invalid escape sequence '\\s'\n",
      "/tmp/ipykernel_1571351/3672498996.py:24: SyntaxWarning: invalid escape sequence '\\s'\n",
      "  tok_str = re.sub('\\s+', ' ', tokenizer.decode(tok))\n",
      "/opt/jupyterhub/share/jupyter/venv/python3-12_comm4190/lib/python3.12/site-packages/transformers/generation/utils.py:1528: UserWarning: You have modified the pretrained model configuration to control generation. This is a deprecated strategy to control generation and will be removed in v5. Please use and modify the model generation configuration (see https://huggingface.co/docs/transformers/generation_strategies#default-text-generation-configuration )\n",
      "  warnings.warn(\n",
      "Setting `pad_token_id` to `eos_token_id`:50256 for open-end generation.\n"
     ]
    },
    {
     "name": "stdout",
     "output_type": "stream",
     "text": [
      "The best thing about AI is its ability to \n",
      "...\n",
      "|  2251 |  create        | -3.301 | 3.69%\n",
      "|  3748 |  unique        | -4.701 | 0.91%\n",
      "|    11 | ,              | -1.392 | 24.85%\n",
      "| 13206 |  compelling    | -3.641 | 2.62%\n",
      "|  6461 |  experiences   | -1.575 | 20.70%\n",
      "|    13 | .              | -0.568 | 56.68%\n",
      "|   775 |  We            | -2.248 | 10.56%\n",
      "|   389 |  are           | -2.934 | 5.32%\n",
      "|  1262 |  using         | -4.529 | 1.08%\n",
      "|  9552 |  AI            | -0.815 | 44.28%\n",
      "|   284 |  to            | -0.094 | 91.01%\n",
      "|  1037 |  help          | -2.100 | 12.25%\n",
      "|   514 |  us            | -0.183 | 83.32%\n",
      "|  1064 |  find          | -4.394 | 1.23%\n",
      "|   262 |  the           | -1.106 | 33.09%\n"
     ]
    }
   ],
   "source": [
    "outputs = gpt2.generate(**inputs, \n",
    "                         max_new_tokens=15, \n",
    "                         return_dict_in_generate=True, \n",
    "                         output_scores=True,\n",
    "                         temperature=0.7,\n",
    "                         do_sample=True,\n",
    "                         top_k=50,\n",
    "                         top_p=0.95\n",
    "                        )\n",
    "\n",
    "\n",
    "transition_scores = gpt2.compute_transition_scores(\n",
    "    outputs.sequences, outputs.scores, normalize_logits=True\n",
    ")\n",
    "# input_length is the length of the input prompt for decoder-only models, like the GPT family, and 1 for\n",
    "# encoder-decoder models, like BART or T5.\n",
    "input_length = 1 if gpt2.config.is_encoder_decoder else inputs.input_ids.shape[1]\n",
    "generated_tokens = outputs.sequences[:, input_length:]\n",
    "\n",
    "\n",
    "print(wolfram, '\\n...')\n",
    "for tok, score in zip(generated_tokens[0], transition_scores[0]):\n",
    "    # | token | token string | logits | probability\n",
    "    tok_str = re.sub('\\s+', ' ', tokenizer.decode(tok))\n",
    "    print(f\"| {tok:5d} | {tok_str: <14} | {score.numpy():6.3f} | {np.exp(score.numpy()):.2%}\")\n",
    "\n"
   ]
  },
  {
   "cell_type": "code",
   "execution_count": null,
   "id": "1f48a8fa-a979-4b69-916e-950121ab20d9",
   "metadata": {},
   "outputs": [],
   "source": []
  },
  {
   "cell_type": "markdown",
   "id": "17ba86bb-ed8c-45a2-b35c-8533334c8c56",
   "metadata": {},
   "source": [
    "### Word embeddings"
   ]
  },
  {
   "cell_type": "code",
   "execution_count": 19,
   "id": "4783bd13-4713-4239-9782-2101777fb647",
   "metadata": {},
   "outputs": [],
   "source": [
    "inputs = tokenizer([\"cat dog chair\"], return_tensors=\"pt\")\n",
    "embeds = gpt2.transformer.wte.weight[inputs['input_ids'], :]"
   ]
  },
  {
   "cell_type": "markdown",
   "id": "0f56b9cf-f706-4cc6-8373-de05f8445b30",
   "metadata": {},
   "source": [
    "#### Embedding values for `cat`\n",
    "\n",
    "* This how GPT2 represents the token `cat` in 768 dimensional space!"
   ]
  },
  {
   "cell_type": "code",
   "execution_count": 20,
   "id": "314c1afa-df6d-4330-83f0-eb9903d98f83",
   "metadata": {},
   "outputs": [
    {
     "data": {
      "text/plain": [
       "tensor([-0.0164, -0.0934,  0.2425,  0.1398,  0.0388, -0.2592, -0.2724, -0.1625,\n",
       "         0.1683,  0.0829,  0.0136, -0.2788,  0.1493,  0.1408,  0.0557, -0.3691,\n",
       "         0.2200, -0.0428,  0.2206,  0.0865,  0.1237, -0.1499,  0.1446, -0.1150,\n",
       "        -0.1425, -0.0715, -0.0526,  0.1550, -0.0678, -0.2059,  0.2065, -0.0297,\n",
       "         0.0834, -0.0483,  0.1207,  0.1975, -0.3193,  0.0124,  0.1067, -0.0473,\n",
       "        -0.3037,  0.1139,  0.0949, -0.2175,  0.0796, -0.0941, -0.0394, -0.0704,\n",
       "         0.2033, -0.1555,  0.2928, -0.0770,  0.0787,  0.1214,  0.1528, -0.1464,\n",
       "         0.4247,  0.1921, -0.0415, -0.0850, -0.2787,  0.0656, -0.2026,  0.1856,\n",
       "         0.1353, -0.0820, -0.0639,  0.0701,  0.1680,  0.0597,  0.3265, -0.1100,\n",
       "         0.1056,  0.1845, -0.1156,  0.0054,  0.0663,  0.1842, -0.1069,  0.0491,\n",
       "        -0.0853, -0.2519,  0.0031,  0.1805,  0.1505,  0.0442, -0.2427,  0.1104,\n",
       "         0.0970,  0.1123, -0.1519, -0.1444,  0.2323, -0.0241, -0.0677,  0.1157,\n",
       "        -0.2668, -0.1229,  0.1120,  0.0601, -0.0535,  0.1259, -0.0966, -0.1975,\n",
       "        -0.2031,  0.1323,  0.0176, -0.1332,  0.1159,  0.1037,  0.0722,  0.1644,\n",
       "        -0.0775, -0.0227,  0.1146,  0.0060,  0.3959, -0.0828,  0.0125,  0.0415,\n",
       "        -0.0147, -0.1352, -0.0579,  0.0423, -0.0793, -0.2702,  0.2806, -0.0744,\n",
       "         0.1118,  0.0908,  0.0639, -0.0882, -0.0190, -0.1386, -0.0490, -0.1785,\n",
       "         0.1416,  0.0497, -0.0461, -0.1544,  0.0662, -0.0538,  0.0992,  0.1308,\n",
       "        -0.0885, -0.2840, -0.0297, -0.0882, -0.0340, -0.1495,  0.0295,  0.0700,\n",
       "         0.0661, -0.1282, -0.0546, -0.1392, -0.1368,  0.0353,  0.0814, -0.1436,\n",
       "        -0.0559,  0.1523, -0.0780,  0.2562,  0.0164, -0.0433,  0.0468,  0.2896,\n",
       "         0.0069,  0.2136,  0.0378, -0.1625, -0.0421, -0.0109, -0.0386,  0.0453,\n",
       "         0.2572,  0.0323, -0.1206,  0.0135, -0.0171,  0.0404, -0.2544,  0.1455,\n",
       "         0.3265, -0.0545,  0.0887, -0.0321,  0.1485, -0.0699, -0.0606,  0.2177,\n",
       "        -0.1566, -0.0619, -0.2655,  0.2471, -0.1213, -0.0741,  0.1074, -0.0243,\n",
       "        -0.2747,  0.1828,  0.0046,  0.1426,  0.0201,  0.0413, -0.0189, -0.0070,\n",
       "        -0.0338, -0.1384,  0.0269,  0.1447, -0.0216, -0.0042, -0.0363, -0.0579,\n",
       "        -0.0909, -0.1359,  0.1407,  0.1421,  0.0041,  0.0100,  0.0997, -0.0718,\n",
       "        -0.0958,  0.0051, -0.2576,  0.1980,  0.1545,  0.0226, -0.2521, -0.1091,\n",
       "        -0.1467, -0.1140,  0.1383, -0.1952,  0.0554, -0.0036, -0.2915, -0.1645,\n",
       "         0.0469, -0.2251,  0.2000,  0.1070,  0.1651, -0.0781,  0.1511, -0.0095,\n",
       "         0.0925,  0.0776,  0.1631,  0.1563,  0.0286, -0.1157,  0.0349,  0.0033,\n",
       "        -0.0870, -0.0864,  0.1233, -0.0691, -0.0458, -0.0601,  0.0501, -0.1450,\n",
       "        -0.2425, -0.0773,  0.1182,  0.1351,  0.1904,  0.1746,  0.0925, -0.1253,\n",
       "        -0.1149, -0.1312, -0.2170,  0.0682, -0.0121, -0.1774, -0.0857, -0.1906,\n",
       "         0.2842, -0.0410,  0.0530,  0.0480, -0.0641, -0.0911,  0.2907, -0.2503,\n",
       "        -0.1085,  0.1753,  0.0610,  0.0466,  0.0097, -0.1300, -0.0273,  0.0498,\n",
       "        -0.0619, -0.1867, -0.0769, -0.1091, -0.0410, -0.0617, -0.0537,  0.0582,\n",
       "        -0.0986, -0.2655,  0.1236, -0.0026,  0.0444, -0.1018, -0.1652,  0.0174,\n",
       "        -0.2561,  0.0440,  0.2048,  0.0049, -0.0220, -0.1031, -0.1387,  0.0493,\n",
       "         0.2048,  0.0473,  0.1630, -0.0195, -0.0714, -0.0713, -0.2524,  0.0852,\n",
       "        -0.1682,  0.0713,  0.1301, -0.1088, -0.0188,  0.0092,  0.0078,  0.2213,\n",
       "         0.0638, -0.1617, -0.0365, -0.0923, -0.1052,  0.1108, -0.1175, -0.0016,\n",
       "        -0.0258,  0.0902,  0.1089,  0.1685, -0.2664, -0.0309, -0.0187, -0.0678,\n",
       "        -0.1424, -0.0026, -0.0623, -0.0575, -0.1009,  0.0142, -0.1950,  0.0085,\n",
       "        -0.1402,  0.0371, -0.4072, -0.0478,  0.4013,  0.3212,  0.1051,  0.0349,\n",
       "        -0.1302, -0.0298, -0.1738,  0.0692, -0.2638,  0.1268,  0.1773, -0.1094,\n",
       "         0.0737, -0.0460,  0.1870, -0.0605, -0.1308, -0.0920, -0.0290, -0.0542,\n",
       "         0.1214, -0.0308, -0.1173, -0.2127,  0.0209,  0.2911, -0.1751,  0.0469,\n",
       "         0.0740, -0.1323,  0.0283,  0.2125,  0.1870,  0.0978,  0.1799,  0.2669,\n",
       "         0.1709, -0.1191, -0.2022,  0.0445,  0.0601, -0.1820,  0.0224,  0.1902,\n",
       "        -0.3199, -0.2551,  0.0795,  0.0814,  0.1245,  0.0871, -0.0455, -0.2342,\n",
       "         0.1167,  0.0870,  0.0257, -0.2073,  0.1849, -0.0184,  0.0498, -0.1423,\n",
       "        -0.0682,  0.1386,  0.0406, -0.0325,  0.2179, -0.0567, -0.2568, -0.0935,\n",
       "        -0.0453, -0.1317,  0.0682, -0.2721, -0.2026, -0.0565, -0.0134, -0.0423,\n",
       "        -0.0415, -0.0560, -0.1522,  0.1617, -0.0753, -0.1967,  0.0536, -0.0988,\n",
       "         0.0539, -0.0489,  0.0296,  0.1272,  0.1567,  0.0185, -0.0855, -0.2336,\n",
       "         0.1859,  0.1528, -0.1824, -0.0834, -0.1414, -0.0526,  0.1744, -0.0290,\n",
       "        -0.0753, -0.0100, -0.1702, -0.0676,  0.0856,  0.0493, -0.1256, -0.1652,\n",
       "        -0.1317,  0.0677,  0.0209, -0.0346,  0.0048,  0.1209,  0.1959,  0.1520,\n",
       "         0.0793, -0.1492,  0.3141,  0.1526, -0.1732, -0.0914,  0.1339, -0.1410,\n",
       "        -0.0595, -0.0250, -0.1136, -0.1206, -0.1126, -0.0470,  0.1898,  0.0565,\n",
       "        -0.2058,  0.0389,  0.0177, -0.2718,  0.2021, -0.0779,  0.1444,  0.1047,\n",
       "        -0.2096, -0.0210,  0.1791, -0.4005, -0.1931,  0.1083,  0.2465,  0.1026,\n",
       "        -0.0503,  0.1047,  0.0299, -0.1043,  0.0964,  0.0852, -0.2067,  0.1263,\n",
       "         0.2064,  0.2248,  0.2739, -0.1881, -0.0745,  0.0769,  0.2994,  0.2803,\n",
       "         0.0063,  0.2585, -0.0176,  0.2318, -0.0432,  0.1889, -0.0766,  0.0751,\n",
       "        -0.0157,  0.0517,  0.1274, -0.2235, -0.0450,  0.1606,  0.0876,  0.1240,\n",
       "         0.4417, -0.0625,  0.0591, -0.0181,  0.1996,  0.0959, -0.2623, -0.2826,\n",
       "         0.0023,  0.1835,  0.1931, -0.1054,  0.1816, -0.1599, -0.0871,  0.0115,\n",
       "         0.2386,  0.0161,  0.0580, -0.0558,  0.0963,  0.1206, -0.3461,  0.0726,\n",
       "         0.0301,  0.1058,  0.0532,  0.0515,  0.0216, -0.0531, -0.0217,  0.0539,\n",
       "        -0.0191,  0.0636, -0.1527, -0.1670,  0.0756,  0.0167, -0.0437,  0.0050,\n",
       "        -0.1861,  0.0304,  0.2442, -0.0126, -0.2314,  0.1562,  0.1635, -0.1206,\n",
       "        -0.0428,  0.1079,  0.1216, -0.0113,  0.1757, -0.0235,  0.2049, -0.3030,\n",
       "         0.0067, -0.3157,  0.1435, -0.1737, -0.1698,  0.2276, -0.0360,  0.0048,\n",
       "        -0.2974,  0.2021,  0.1380,  0.1129, -0.0626,  0.1347,  0.0729,  0.0481,\n",
       "        -0.1397,  0.0197, -0.0932,  0.1717, -0.1519, -0.0554, -0.0344,  0.0201,\n",
       "         0.1316,  0.0743, -0.1189,  0.2787,  0.0597, -0.2073, -0.3555, -0.0645,\n",
       "        -0.1326,  0.1094,  0.1512,  0.0241,  0.0608,  0.0334,  0.1340, -0.0510,\n",
       "        -0.0197,  0.0681, -0.1494,  0.2410, -0.1016,  0.1148, -0.1280,  0.0576,\n",
       "        -0.0101,  0.1957, -0.2854,  0.0231, -0.0282, -0.0101,  0.0383, -0.0086,\n",
       "        -0.1152,  0.1464,  0.0351, -0.2189,  0.2156,  0.0722,  0.0881,  0.2360,\n",
       "         0.1182,  0.0676,  0.0506, -0.0226, -0.2842, -0.2781,  0.0791,  0.1958,\n",
       "         0.0470, -0.0645,  0.0129,  0.2878,  0.1339, -0.2548, -0.0855, -0.1515,\n",
       "         0.1442, -0.1694, -0.2864, -0.1720, -0.0473, -0.1325,  0.2390,  0.0736,\n",
       "        -0.1975, -0.1141, -0.1409,  0.1901, -0.0673,  0.0887,  0.2132,  0.1869,\n",
       "        -0.2635,  0.1148, -0.0100,  0.0344, -0.1273, -0.0943,  0.1698,  0.1511,\n",
       "        -0.2248,  0.0495,  0.1384,  0.1260,  0.0787,  0.3357,  0.2288, -0.0885,\n",
       "         0.0622, -0.2151,  0.0553,  0.0690,  0.2568, -0.2637, -0.0460,  0.0911,\n",
       "        -0.0214,  0.1712,  0.0342, -0.0438, -0.1457, -0.0953,  0.0289, -0.0830,\n",
       "        -0.0591, -0.0244,  0.1259,  0.0075, -0.1052,  0.1119,  0.0621, -0.2382,\n",
       "         0.1763, -0.1132, -0.1201,  0.0162, -0.1807,  0.1419,  0.0749, -0.2318,\n",
       "         0.0132,  0.2532, -0.1028,  0.0556, -0.0214,  0.1974, -0.1573,  0.1861,\n",
       "        -0.1729, -0.0737, -0.1499, -0.1533,  0.0011,  0.0681, -0.1828,  0.0519,\n",
       "        -0.0837,  0.0671, -0.1867,  0.0012,  0.0377,  0.1061, -0.1713, -0.1579],\n",
       "       grad_fn=<SliceBackward0>)"
      ]
     },
     "execution_count": 20,
     "metadata": {},
     "output_type": "execute_result"
    }
   ],
   "source": [
    "embeds[0,0,:]"
   ]
  },
  {
   "cell_type": "code",
   "execution_count": 21,
   "id": "d4523019-fa36-4008-a79f-a451057e14d6",
   "metadata": {},
   "outputs": [
    {
     "data": {
      "image/png": "[encoded data removed]",
      "text/plain": [
       "<Figure size 640x480 with 2 Axes>"
      ]
     },
     "metadata": {},
     "output_type": "display_data"
    }
   ],
   "source": [
    "plot_embedding(embeds[0,0,:])"
   ]
  },
  {
   "cell_type": "code",
   "execution_count": 22,
   "id": "b8281f03-2424-43cc-b096-584644726c8f",
   "metadata": {},
   "outputs": [
    {
     "data": {
      "text/plain": [
       "{'input_ids': tensor([[9246, 3290, 5118]]), 'attention_mask': tensor([[1, 1, 1]])}"
      ]
     },
     "execution_count": 22,
     "metadata": {},
     "output_type": "execute_result"
    }
   ],
   "source": [
    "inputs"
   ]
  },
  {
   "cell_type": "code",
   "execution_count": 23,
   "id": "eef64d4d-aa0a-4bfc-8642-87e847d66a18",
   "metadata": {},
   "outputs": [
    {
     "data": {
      "text/plain": [
       "tensor([[9246, 3290, 5118]])"
      ]
     },
     "execution_count": 23,
     "metadata": {},
     "output_type": "execute_result"
    }
   ],
   "source": [
    "inputs['input_ids']"
   ]
  },
  {
   "cell_type": "code",
   "execution_count": 24,
   "id": "0c7dc173-d730-493a-a87d-32ca71134f4e",
   "metadata": {},
   "outputs": [
    {
     "name": "stdout",
     "output_type": "stream",
     "text": [
      "cat\n",
      " dog\n",
      " chair\n"
     ]
    }
   ],
   "source": [
    "for i in inputs['input_ids'][0]:\n",
    "    print(tokenizer.decode(i))"
   ]
  },
  {
   "cell_type": "code",
   "execution_count": 25,
   "id": "5575a451-8ec9-496e-b83a-e8d9cd4c3569",
   "metadata": {},
   "outputs": [
    {
     "data": {
      "image/png": "[encoded data removed]",
      "text/plain": [
       "<Figure size 1000x200 with 10 Axes>"
      ]
     },
     "metadata": {},
     "output_type": "display_data"
    }
   ],
   "source": [
    "tokens = 'dog cat chair car bike canine kitten puppy goat truck'\n",
    "\n",
    "#tokens = 'bank river dollar finance water plane wings invest fly grass'\n",
    "\n",
    "inputs = tokenizer([tokens], return_tensors=\"pt\")\n",
    "\n",
    "dim = inputs['input_ids'][0].shape[0]\n",
    "embeds = gpt2.transformer.wte.weight[inputs['input_ids'], :]\n",
    "\n",
    "fig, ax = plt.subplots(1,dim, figsize=(dim,2))\n",
    "for idx, token in enumerate(tokens.split()):\n",
    "    plot_embedding(embeds[0,idx,:], ax=ax[idx])\n",
    "    ax[idx].set_title(token)"
   ]
  },
  {
   "cell_type": "code",
   "execution_count": 26,
   "id": "04d83c04-7669-4ff0-8632-7d84875931c5",
   "metadata": {},
   "outputs": [],
   "source": [
    "input = embeds[0,:,:]\n",
    "\n",
    "# Expand dimensions for cosine similarity calculation\n",
    "input1 = input.unsqueeze(1)  \n",
    "input2 = input.unsqueeze(0)  \n",
    "\n",
    "# Calculate cosine similarity\n",
    "cos_sim = cosine_similarity(input1, input2, dim=2).detach().numpy()"
   ]
  },
  {
   "cell_type": "code",
   "execution_count": 27,
   "id": "ac519ef5-4fc8-4f68-acce-e94f600a51cd",
   "metadata": {
    "scrolled": true
   },
   "outputs": [
    {
     "data": {
      "text/html": [
       "<div>\n",
       "<style scoped>\n",
       "    .dataframe tbody tr th:only-of-type {\n",
       "        vertical-align: middle;\n",
       "    }\n",
       "\n",
       "    .dataframe tbody tr th {\n",
       "        vertical-align: top;\n",
       "    }\n",
       "\n",
       "    .dataframe thead th {\n",
       "        text-align: right;\n",
       "    }\n",
       "</style>\n",
       "<table border=\"1\" class=\"dataframe\">\n",
       "  <thead>\n",
       "    <tr style=\"text-align: right;\">\n",
       "      <th></th>\n",
       "      <th>dog</th>\n",
       "      <th>cat</th>\n",
       "      <th>chair</th>\n",
       "      <th>car</th>\n",
       "      <th>bike</th>\n",
       "      <th>canine</th>\n",
       "      <th>kitten</th>\n",
       "      <th>puppy</th>\n",
       "      <th>goat</th>\n",
       "      <th>truck</th>\n",
       "    </tr>\n",
       "  </thead>\n",
       "  <tbody>\n",
       "    <tr>\n",
       "      <th>dog</th>\n",
       "      <td>1.000000</td>\n",
       "      <td>0.343030</td>\n",
       "      <td>0.231451</td>\n",
       "      <td>0.238023</td>\n",
       "      <td>0.304446</td>\n",
       "      <td>0.449869</td>\n",
       "      <td>0.364344</td>\n",
       "      <td>0.472860</td>\n",
       "      <td>0.317302</td>\n",
       "      <td>0.244600</td>\n",
       "    </tr>\n",
       "    <tr>\n",
       "      <th>cat</th>\n",
       "      <td>0.343030</td>\n",
       "      <td>1.000000</td>\n",
       "      <td>0.255987</td>\n",
       "      <td>0.381478</td>\n",
       "      <td>0.329638</td>\n",
       "      <td>0.408961</td>\n",
       "      <td>0.501223</td>\n",
       "      <td>0.390975</td>\n",
       "      <td>0.422638</td>\n",
       "      <td>0.268798</td>\n",
       "    </tr>\n",
       "    <tr>\n",
       "      <th>chair</th>\n",
       "      <td>0.231451</td>\n",
       "      <td>0.255987</td>\n",
       "      <td>1.000000</td>\n",
       "      <td>0.309766</td>\n",
       "      <td>0.339372</td>\n",
       "      <td>0.237139</td>\n",
       "      <td>0.260853</td>\n",
       "      <td>0.281525</td>\n",
       "      <td>0.245138</td>\n",
       "      <td>0.312186</td>\n",
       "    </tr>\n",
       "    <tr>\n",
       "      <th>car</th>\n",
       "      <td>0.238023</td>\n",
       "      <td>0.381478</td>\n",
       "      <td>0.309766</td>\n",
       "      <td>1.000000</td>\n",
       "      <td>0.529137</td>\n",
       "      <td>0.304175</td>\n",
       "      <td>0.285196</td>\n",
       "      <td>0.280986</td>\n",
       "      <td>0.274918</td>\n",
       "      <td>0.539535</td>\n",
       "    </tr>\n",
       "    <tr>\n",
       "      <th>bike</th>\n",
       "      <td>0.304446</td>\n",
       "      <td>0.329638</td>\n",
       "      <td>0.339372</td>\n",
       "      <td>0.529137</td>\n",
       "      <td>1.000000</td>\n",
       "      <td>0.319559</td>\n",
       "      <td>0.355173</td>\n",
       "      <td>0.385304</td>\n",
       "      <td>0.381817</td>\n",
       "      <td>0.475775</td>\n",
       "    </tr>\n",
       "    <tr>\n",
       "      <th>canine</th>\n",
       "      <td>0.449869</td>\n",
       "      <td>0.408961</td>\n",
       "      <td>0.237139</td>\n",
       "      <td>0.304175</td>\n",
       "      <td>0.319559</td>\n",
       "      <td>1.000000</td>\n",
       "      <td>0.479932</td>\n",
       "      <td>0.561576</td>\n",
       "      <td>0.441975</td>\n",
       "      <td>0.301722</td>\n",
       "    </tr>\n",
       "    <tr>\n",
       "      <th>kitten</th>\n",
       "      <td>0.364344</td>\n",
       "      <td>0.501223</td>\n",
       "      <td>0.260853</td>\n",
       "      <td>0.285196</td>\n",
       "      <td>0.355173</td>\n",
       "      <td>0.479932</td>\n",
       "      <td>1.000000</td>\n",
       "      <td>0.618093</td>\n",
       "      <td>0.470098</td>\n",
       "      <td>0.304847</td>\n",
       "    </tr>\n",
       "    <tr>\n",
       "      <th>puppy</th>\n",
       "      <td>0.472860</td>\n",
       "      <td>0.390975</td>\n",
       "      <td>0.281525</td>\n",
       "      <td>0.280986</td>\n",
       "      <td>0.385304</td>\n",
       "      <td>0.561576</td>\n",
       "      <td>0.618093</td>\n",
       "      <td>1.000000</td>\n",
       "      <td>0.434561</td>\n",
       "      <td>0.347656</td>\n",
       "    </tr>\n",
       "    <tr>\n",
       "      <th>goat</th>\n",
       "      <td>0.317302</td>\n",
       "      <td>0.422638</td>\n",
       "      <td>0.245138</td>\n",
       "      <td>0.274918</td>\n",
       "      <td>0.381817</td>\n",
       "      <td>0.441975</td>\n",
       "      <td>0.470098</td>\n",
       "      <td>0.434561</td>\n",
       "      <td>1.000000</td>\n",
       "      <td>0.421468</td>\n",
       "    </tr>\n",
       "    <tr>\n",
       "      <th>truck</th>\n",
       "      <td>0.244600</td>\n",
       "      <td>0.268798</td>\n",
       "      <td>0.312186</td>\n",
       "      <td>0.539535</td>\n",
       "      <td>0.475775</td>\n",
       "      <td>0.301722</td>\n",
       "      <td>0.304847</td>\n",
       "      <td>0.347656</td>\n",
       "      <td>0.421468</td>\n",
       "      <td>1.000000</td>\n",
       "    </tr>\n",
       "  </tbody>\n",
       "</table>\n",
       "</div>"
      ],
      "text/plain": [
       "             dog       cat     chair       car      bike    canine    kitten  \\\n",
       "dog     1.000000  0.343030  0.231451  0.238023  0.304446  0.449869  0.364344   \n",
       "cat     0.343030  1.000000  0.255987  0.381478  0.329638  0.408961  0.501223   \n",
       "chair   0.231451  0.255987  1.000000  0.309766  0.339372  0.237139  0.260853   \n",
       "car     0.238023  0.381478  0.309766  1.000000  0.529137  0.304175  0.285196   \n",
       "bike    0.304446  0.329638  0.339372  0.529137  1.000000  0.319559  0.355173   \n",
       "canine  0.449869  0.408961  0.237139  0.304175  0.319559  1.000000  0.479932   \n",
       "kitten  0.364344  0.501223  0.260853  0.285196  0.355173  0.479932  1.000000   \n",
       "puppy   0.472860  0.390975  0.281525  0.280986  0.385304  0.561576  0.618093   \n",
       "goat    0.317302  0.422638  0.245138  0.274918  0.381817  0.441975  0.470098   \n",
       "truck   0.244600  0.268798  0.312186  0.539535  0.475775  0.301722  0.304847   \n",
       "\n",
       "           puppy      goat     truck  \n",
       "dog     0.472860  0.317302  0.244600  \n",
       "cat     0.390975  0.422638  0.268798  \n",
       "chair   0.281525  0.245138  0.312186  \n",
       "car     0.280986  0.274918  0.539535  \n",
       "bike    0.385304  0.381817  0.475775  \n",
       "canine  0.561576  0.441975  0.301722  \n",
       "kitten  0.618093  0.470098  0.304847  \n",
       "puppy   1.000000  0.434561  0.347656  \n",
       "goat    0.434561  1.000000  0.421468  \n",
       "truck   0.347656  0.421468  1.000000  "
      ]
     },
     "execution_count": 27,
     "metadata": {},
     "output_type": "execute_result"
    }
   ],
   "source": [
    "sim_df = pd.DataFrame(cos_sim, index=tokens.split(), columns=tokens.split())\n",
    "sim_df"
   ]
  },
  {
   "cell_type": "code",
   "execution_count": 28,
   "id": "e620e372-0df6-42d7-98aa-a97f4c8e4f4b",
   "metadata": {},
   "outputs": [],
   "source": [
    "matrix = embeds[0,:,:].detach().numpy()"
   ]
  },
  {
   "cell_type": "code",
   "execution_count": 29,
   "id": "dcba0f3f-07d1-43e4-a983-88de83a5e7ed",
   "metadata": {},
   "outputs": [
    {
     "data": {
      "text/plain": [
       "(10, 768)"
      ]
     },
     "execution_count": 29,
     "metadata": {},
     "output_type": "execute_result"
    }
   ],
   "source": [
    "matrix.shape"
   ]
  },
  {
   "cell_type": "code",
   "execution_count": 30,
   "id": "749757d7-b796-4298-ab91-cac2ace9646d",
   "metadata": {},
   "outputs": [],
   "source": [
    "tsne = TSNE(n_components=2, perplexity=3, \n",
    "            random_state=42, init='random', \n",
    "            learning_rate=120)\n",
    "vis_dims = tsne.fit_transform(matrix)\n"
   ]
  },
  {
   "cell_type": "code",
   "execution_count": 31,
   "id": "0b4a3aec-d524-4e81-9868-d680b30510c9",
   "metadata": {},
   "outputs": [],
   "source": [
    "x = vis_dims[:, 0]\n",
    "y = vis_dims[:, 1]"
   ]
  },
  {
   "cell_type": "code",
   "execution_count": 32,
   "id": "e5dadb73-6858-44a8-bcc1-c9257c7736c5",
   "metadata": {},
   "outputs": [
    {
     "data": {
      "image/png": "[encoded data removed]",
      "text/plain": [
       "<Figure size 640x480 with 1 Axes>"
      ]
     },
     "metadata": {},
     "output_type": "display_data"
    }
   ],
   "source": [
    "plt.scatter(x,y)\n",
    "for x1, y1, text in zip(x,y,tokens.split()):\n",
    "    plt.annotate(text, (x1, y1))"
   ]
  },
  {
   "cell_type": "code",
   "execution_count": 33,
   "id": "fe96e8cd-10e2-4216-a3d3-b4b45380f179",
   "metadata": {},
   "outputs": [],
   "source": [
    "tsne = TSNE(n_components=3, perplexity=6, \n",
    "            random_state=42, init='random', \n",
    "            learning_rate=120)\n",
    "vis_dims = tsne.fit_transform(matrix)\n",
    "\n",
    "x = vis_dims[:, 0]\n",
    "y = vis_dims[:, 1]\n",
    "z = vis_dims[:, 2]"
   ]
  },
  {
   "cell_type": "code",
   "execution_count": 34,
   "id": "b1e1fb3d-ad1c-40f4-bd2f-35a4e4af689f",
   "metadata": {},
   "outputs": [
    {
     "data": {
      "image/png": "[encoded data removed]",
      "text/plain": [
       "<Figure size 640x480 with 1 Axes>"
      ]
     },
     "metadata": {},
     "output_type": "display_data"
    }
   ],
   "source": [
    "\n",
    "fig = plt.figure()\n",
    "ax = fig.add_subplot(projection='3d')\n",
    "ax.scatter(x,y,z)\n",
    "for x1, y1, z1, text in zip(x,y,z,tokens.split()):\n",
    "    ax.text(x1,y1,z1, text)"
   ]
  },
  {
   "cell_type": "markdown",
   "id": "7d57efcc-f9b0-4423-9147-e868ebaac02c",
   "metadata": {},
   "source": [
    "### Neural networks\n",
    "\n",
    "* Some demos\n",
    "  - https://cs.stanford.edu/people/karpathy/convnetjs/demo/mnist.html\n",
    "  - https://huggingface.co/spaces/jph00/pets"
   ]
  },
  {
   "cell_type": "code",
   "execution_count": null,
   "id": "72eaef40-8ad5-4329-98ec-7f94939af0bb",
   "metadata": {},
   "outputs": [],
   "source": []
  }
 ],
 "metadata": {
  "citation-manager": {
   "items": {}
  },
  "kernelspec": {
   "display_name": "Python 3-12 (COMM4190)",
   "language": "python",
   "name": "python3-12_comm4190"
  },
  "language_info": {
   "codemirror_mode": {
    "name": "ipython",
    "version": 3
   },
   "file_extension": ".py",
   "mimetype": "text/x-python",
   "name": "python",
   "nbconvert_exporter": "python",
   "pygments_lexer": "ipython3",
   "version": "3.12.8"
  }
 },
 "nbformat": 4,
 "nbformat_minor": 5
}
