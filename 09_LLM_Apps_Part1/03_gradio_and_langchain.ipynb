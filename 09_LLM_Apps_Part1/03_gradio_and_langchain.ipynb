{
 "cells": [
  {
   "cell_type": "markdown",
   "id": "20d2bbd3-3714-4248-ad13-c41958e85080",
   "metadata": {},
   "source": [
    "# Using `gradio` to build a simple chatbot interface"
   ]
  },
  {
   "cell_type": "code",
   "execution_count": null,
   "id": "0a1e9038-3e37-4151-a184-a6d4cf5f3fef",
   "metadata": {},
   "outputs": [],
   "source": [
    "import gradio as gr\n",
    "\n",
    "from langchain_core.prompts import ChatPromptTemplate, MessagesPlaceholder\n",
    "from langchain_core.output_parsers import StrOutputParser\n",
    "from langchain_google_genai import ChatGoogleGenerativeAI\n",
    "from langchain_openai import ChatOpenAI\n",
    "from langchain.globals import set_debug\n",
    "\n",
    "from dotenv import load_dotenv\n",
    "_ = load_dotenv()\n",
    "\n",
    "\n",
    "import json"
   ]
  },
  {
   "cell_type": "code",
   "execution_count": null,
   "id": "1418e078-4ac8-4091-96c1-57e207423b16",
   "metadata": {},
   "outputs": [],
   "source": [
    "set_debug(False)\n",
    "\n",
    "\n",
    "# Configure your LLM here\n",
    "gemini = ChatGoogleGenerativeAI(model=\"gemini-1.5-flash\")\n",
    "openai = ChatOpenAI(model='gpt-4o')\n",
    "\n",
    "prompt = ChatPromptTemplate.from_messages(\n",
    "    [\n",
    "        (\"system\", \"You are a helpful assistant\"),\n",
    "        MessagesPlaceholder(variable_name=\"chat_history\"),\n",
    "        (\"human\", \"{input}\"),\n",
    "    ]\n",
    ")\n",
    "\n",
    "chain = prompt | openai | StrOutputParser()\n",
    "\n",
    "def chat_fn(message, history):\n",
    "\n",
    "    print(f'----\\n{message}\\n----\\n{json.dumps(history,indent=4)}')\n",
    "    response = chain.invoke(\n",
    "        {\"input\": message, \"chat_history\": history}\n",
    "    )\n",
    "    return response\n",
    "\n",
    "app = gr.ChatInterface(\n",
    "    fn=chat_fn,\n",
    "    type=\"messages\"\n",
    ")"
   ]
  },
  {
   "cell_type": "code",
   "execution_count": null,
   "id": "45a51841-ec8f-4e9e-91db-737a9a427a41",
   "metadata": {},
   "outputs": [],
   "source": [
    "app.launch(share=True)"
   ]
  },
  {
   "cell_type": "code",
   "execution_count": null,
   "id": "2cc878da-32cf-468b-ae3b-df108a1fa3e0",
   "metadata": {},
   "outputs": [],
   "source": [
    "app.close()"
   ]
  },
  {
   "cell_type": "code",
   "execution_count": null,
   "id": "125f83cb-76ce-495e-9aff-72de46c6b3a0",
   "metadata": {},
   "outputs": [],
   "source": []
  }
 ],
 "metadata": {
  "kernelspec": {
   "display_name": "Python 3-12 (COMM4190)",
   "language": "python",
   "name": "python3-12_comm4190"
  },
  "language_info": {
   "codemirror_mode": {
    "name": "ipython",
    "version": 3
   },
   "file_extension": ".py",
   "mimetype": "text/x-python",
   "name": "python",
   "nbconvert_exporter": "python",
   "pygments_lexer": "ipython3",
   "version": "3.12.8"
  }
 },
 "nbformat": 4,
 "nbformat_minor": 5
}
