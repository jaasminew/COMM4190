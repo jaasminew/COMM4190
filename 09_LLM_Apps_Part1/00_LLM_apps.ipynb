{
 "cells": [
  {
   "cell_type": "markdown",
   "id": "72e1c501-f2bd-442e-b937-1dce744dfbb9",
   "metadata": {},
   "source": [
    "# Types of LLM Applications"
   ]
  },
  {
   "cell_type": "markdown",
   "id": "e6458470-9bca-446b-9a0a-15f1946e3f7e",
   "metadata": {},
   "source": [
    "### 1. Chatbot\n",
    "   - personality\n",
    "   - goals\n",
    "   - memory\n",
    "     \n",
    "### 2. Co-pilot/Duet\n",
    "   - task/product specific\n",
    "   - task relevant data\n",
    "   - interactivity and integration with function/app\n",
    "   - learning goals/tutorials/exercises/quizes\n",
    "\n",
    "### 3. Interact with data (RAG)\n",
    "   - chat + data\n",
    "   - combines information retrieval with LLM\n",
    "\n",
    "### 4. Task Focused\n",
    "   - NLP tasks, e.g. sentiment analysis\n",
    "   - Vision tasks\n",
    "   - Data extraction\n",
    "   - Data science/analysis\n",
    "     \n",
    "### 5. Agent-based\n",
    "   - integrate tools"
   ]
  },
  {
   "cell_type": "code",
   "execution_count": null,
   "id": "83cd9c23-40cb-4ba0-9619-358406f4e282",
   "metadata": {},
   "outputs": [],
   "source": []
  }
 ],
 "metadata": {
  "kernelspec": {
   "display_name": "Python 3-12 (COMM4190)",
   "language": "python",
   "name": "python3-12_comm4190"
  },
  "language_info": {
   "codemirror_mode": {
    "name": "ipython",
    "version": 3
   },
   "file_extension": ".py",
   "mimetype": "text/x-python",
   "name": "python",
   "nbconvert_exporter": "python",
   "pygments_lexer": "ipython3",
   "version": "3.12.8"
  }
 },
 "nbformat": 4,
 "nbformat_minor": 5
}
