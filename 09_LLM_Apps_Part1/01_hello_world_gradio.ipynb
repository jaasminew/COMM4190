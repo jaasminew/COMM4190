{
 "cells": [
  {
   "cell_type": "markdown",
   "id": "866bd9b1-aa93-4909-b023-f3614eba2da4",
   "metadata": {},
   "source": [
    "# Simple `gradio` example\n",
    "\n",
    "* https://www.gradio.app/guides/quickstart"
   ]
  },
  {
   "cell_type": "code",
   "execution_count": null,
   "id": "fb42fb47-dc7e-42e0-852e-91b1b699ee58",
   "metadata": {},
   "outputs": [],
   "source": [
    "import gradio as gr"
   ]
  },
  {
   "cell_type": "code",
   "execution_count": null,
   "id": "711d3f90-ba4a-4868-b7e4-6a91a90c0317",
   "metadata": {},
   "outputs": [],
   "source": [
    "\n",
    "def greet(name):\n",
    "    return \"Hello \" + name + \"!\"\n",
    "\n",
    "demo = gr.Interface(fn=greet, inputs=\"textbox\", outputs=\"textbox\")\n",
    "    \n",
    "demo.launch(share=True)  "
   ]
  },
  {
   "cell_type": "code",
   "execution_count": null,
   "id": "e445a927-3ee3-4e2d-9655-6ea3c25a783f",
   "metadata": {},
   "outputs": [],
   "source": []
  }
 ],
 "metadata": {
  "citation-manager": {
   "items": {}
  },
  "kernelspec": {
   "display_name": "Python 3-12 (COMM4190)",
   "language": "python",
   "name": "python3-12_comm4190"
  },
  "language_info": {
   "codemirror_mode": {
    "name": "ipython",
    "version": 3
   },
   "file_extension": ".py",
   "mimetype": "text/x-python",
   "name": "python",
   "nbconvert_exporter": "python",
   "pygments_lexer": "ipython3",
   "version": "3.12.8"
  }
 },
 "nbformat": 4,
 "nbformat_minor": 5
}
