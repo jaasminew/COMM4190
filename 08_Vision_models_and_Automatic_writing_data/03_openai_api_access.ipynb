{
 "cells": [
  {
   "cell_type": "markdown",
   "id": "51e44476-ede5-44a0-95e7-39458dc79dcf",
   "metadata": {},
   "source": [
    "# Using the `openai` API\n",
    "\n",
    "* https://platform.openai.com/docs/overview\n"
   ]
  },
  {
   "cell_type": "markdown",
   "id": "94e463d0-f67f-49cc-87f9-832447c10a55",
   "metadata": {},
   "source": [
    "### Setup"
   ]
  },
  {
   "cell_type": "code",
   "execution_count": null,
   "id": "04a0c664-f0a0-49c4-ba43-6cb46a4100f8",
   "metadata": {},
   "outputs": [],
   "source": [
    "from openai import OpenAI\n",
    "import os\n",
    "import base64\n",
    "import requests\n",
    "from IPython.display import Image\n",
    "from dotenv import load_dotenv\n",
    "# Load API key\n",
    "_ = load_dotenv()"
   ]
  },
  {
   "cell_type": "code",
   "execution_count": null,
   "id": "96b83add-6d85-4539-a1cc-6c6dbb4e790e",
   "metadata": {},
   "outputs": [],
   "source": [
    "def encode_image(image_path):\n",
    "  with open(image_path, \"rb\") as image_file:\n",
    "    return base64.b64encode(image_file.read()).decode('utf-8')"
   ]
  },
  {
   "cell_type": "code",
   "execution_count": null,
   "id": "b09f6084-d570-46e5-bf76-c6160fdfec80",
   "metadata": {},
   "outputs": [],
   "source": [
    "client = OpenAI()"
   ]
  },
  {
   "cell_type": "markdown",
   "id": "bf6d5783-993a-4479-8dbe-908265bb0dfa",
   "metadata": {},
   "source": [
    "## Image-to-text"
   ]
  },
  {
   "cell_type": "code",
   "execution_count": null,
   "id": "5bb73218-56ba-4bc2-b43a-ea1f5245a254",
   "metadata": {},
   "outputs": [],
   "source": [
    "img_path = \"automatic_writing_images/MSColl412_fldr230_body0012.jpg\""
   ]
  },
  {
   "cell_type": "code",
   "execution_count": null,
   "id": "212cc41d-9707-415a-964d-2928ff861e8c",
   "metadata": {},
   "outputs": [],
   "source": [
    "Image(img_path, width=500)"
   ]
  },
  {
   "cell_type": "code",
   "execution_count": null,
   "id": "8a7022a6-4b03-4c15-8fe8-c7d54059a6e9",
   "metadata": {},
   "outputs": [],
   "source": [
    "base64_image = encode_image(img_path)\n",
    "prompt = 'Describe this image'\n",
    "max_tokens = 1000"
   ]
  },
  {
   "cell_type": "code",
   "execution_count": null,
   "id": "a2016599-17c4-42ce-85f8-9a9a05d4336e",
   "metadata": {},
   "outputs": [],
   "source": [
    "response = client.chat.completions.create(\n",
    "    model=\"gpt-4o\",\n",
    "    messages=[\n",
    "        {\n",
    "          \"role\": \"user\",\n",
    "          \"content\": [\n",
    "            {\"type\": \"text\", \"text\": prompt},\n",
    "            {\n",
    "              \"type\": \"image_url\",\n",
    "              \"image_url\": {\n",
    "                \"url\": f\"data:image/jpeg;base64,{base64_image}\"\n",
    "              },\n",
    "            },\n",
    "          ],\n",
    "        }\n",
    "      ],\n",
    "      max_tokens=max_tokens,\n",
    "    )"
   ]
  },
  {
   "cell_type": "code",
   "execution_count": null,
   "id": "98f9960d-e826-495a-b8e1-4803e242eb3b",
   "metadata": {},
   "outputs": [],
   "source": [
    "print(response.choices[0].message.content)"
   ]
  },
  {
   "cell_type": "code",
   "execution_count": null,
   "id": "fa679f55-bf0d-46da-b118-d1d1dd92aa6d",
   "metadata": {},
   "outputs": [],
   "source": []
  }
 ],
 "metadata": {
  "citation-manager": {
   "items": {}
  },
  "kernelspec": {
   "display_name": "Python 3-12 (COMM4190)",
   "language": "python",
   "name": "python3-12_comm4190"
  },
  "language_info": {
   "codemirror_mode": {
    "name": "ipython",
    "version": 3
   },
   "file_extension": ".py",
   "mimetype": "text/x-python",
   "name": "python",
   "nbconvert_exporter": "python",
   "pygments_lexer": "ipython3",
   "version": "3.12.8"
  }
 },
 "nbformat": 4,
 "nbformat_minor": 5
}
